{
 "cells": [
  {
   "cell_type": "code",
   "execution_count": 1,
   "metadata": {},
   "outputs": [],
   "source": [
    "%matplotlib inline\n",
    "import matplotlib\n",
    "matplotlib.style.use('ggplot')\n",
    "import matplotlib.pyplot as plt\n",
    "import pandas as pd\n",
    "from sqlalchemy import create_engine, text, MetaData\n",
    "from sqlalchemy.exc import IntegrityError\n",
    "import numpy as np"
   ]
  },
  {
   "cell_type": "code",
   "execution_count": 2,
   "metadata": {},
   "outputs": [],
   "source": [
    "engine = create_engine('postgresql:///piwheels')\n",
    "conn = engine.connect()\n",
    "meta = MetaData()\n",
    "meta.bind = conn\n",
    "meta.reflect(views=True)"
   ]
  },
  {
   "cell_type": "code",
   "execution_count": 3,
   "metadata": {},
   "outputs": [],
   "source": [
    "start_date = '2021-07-01'\n",
    "start_time = '2021-07-01 00:00:00'\n",
    "end_date = '2021-09-30'\n",
    "end_time = '2021-10-01 00:00:00'\n",
    "one_year_ago = '2020-10-01'"
   ]
  },
  {
   "cell_type": "code",
   "execution_count": 4,
   "metadata": {},
   "outputs": [
    {
     "data": {
      "text/html": [
       "<div>\n",
       "<style scoped>\n",
       "    .dataframe tbody tr th:only-of-type {\n",
       "        vertical-align: middle;\n",
       "    }\n",
       "\n",
       "    .dataframe tbody tr th {\n",
       "        vertical-align: top;\n",
       "    }\n",
       "\n",
       "    .dataframe thead th {\n",
       "        text-align: right;\n",
       "    }\n",
       "</style>\n",
       "<table border=\"1\" class=\"dataframe\">\n",
       "  <thead>\n",
       "    <tr style=\"text-align: right;\">\n",
       "      <th></th>\n",
       "      <th>downloads_in_period</th>\n",
       "    </tr>\n",
       "  </thead>\n",
       "  <tbody>\n",
       "    <tr>\n",
       "      <th>0</th>\n",
       "      <td>7047854</td>\n",
       "    </tr>\n",
       "  </tbody>\n",
       "</table>\n",
       "</div>"
      ],
      "text/plain": [
       "   downloads_in_period\n",
       "0              7047854"
      ]
     },
     "execution_count": 4,
     "metadata": {},
     "output_type": "execute_result"
    }
   ],
   "source": [
    "pd.read_sql(f\"\"\"\n",
    "    SELECT COUNT(*) AS downloads_in_period\n",
    "    FROM downloads\n",
    "    WHERE accessed_at::date BETWEEN '{start_date}' AND '{end_date}'\n",
    "\"\"\", conn)"
   ]
  },
  {
   "cell_type": "code",
   "execution_count": 5,
   "metadata": {},
   "outputs": [
    {
     "data": {
      "text/html": [
       "<div>\n",
       "<style scoped>\n",
       "    .dataframe tbody tr th:only-of-type {\n",
       "        vertical-align: middle;\n",
       "    }\n",
       "\n",
       "    .dataframe tbody tr th {\n",
       "        vertical-align: top;\n",
       "    }\n",
       "\n",
       "    .dataframe thead th {\n",
       "        text-align: right;\n",
       "    }\n",
       "</style>\n",
       "<table border=\"1\" class=\"dataframe\">\n",
       "  <thead>\n",
       "    <tr style=\"text-align: right;\">\n",
       "      <th></th>\n",
       "      <th>downloads_to_date</th>\n",
       "    </tr>\n",
       "  </thead>\n",
       "  <tbody>\n",
       "    <tr>\n",
       "      <th>0</th>\n",
       "      <td>55661834</td>\n",
       "    </tr>\n",
       "  </tbody>\n",
       "</table>\n",
       "</div>"
      ],
      "text/plain": [
       "   downloads_to_date\n",
       "0           55661834"
      ]
     },
     "execution_count": 5,
     "metadata": {},
     "output_type": "execute_result"
    }
   ],
   "source": [
    "pd.read_sql(f\"\"\"\n",
    "    SELECT COUNT(*) AS downloads_to_date\n",
    "    FROM downloads\n",
    "    WHERE accessed_at::date < '{end_date}'\n",
    "\"\"\", conn)"
   ]
  },
  {
   "cell_type": "code",
   "execution_count": 6,
   "metadata": {},
   "outputs": [
    {
     "data": {
      "text/html": [
       "<div>\n",
       "<style scoped>\n",
       "    .dataframe tbody tr th:only-of-type {\n",
       "        vertical-align: middle;\n",
       "    }\n",
       "\n",
       "    .dataframe tbody tr th {\n",
       "        vertical-align: top;\n",
       "    }\n",
       "\n",
       "    .dataframe thead th {\n",
       "        text-align: right;\n",
       "    }\n",
       "</style>\n",
       "<table border=\"1\" class=\"dataframe\">\n",
       "  <thead>\n",
       "    <tr style=\"text-align: right;\">\n",
       "      <th></th>\n",
       "      <th>project_page_hits</th>\n",
       "    </tr>\n",
       "  </thead>\n",
       "  <tbody>\n",
       "    <tr>\n",
       "      <th>0</th>\n",
       "      <td>875834</td>\n",
       "    </tr>\n",
       "  </tbody>\n",
       "</table>\n",
       "</div>"
      ],
      "text/plain": [
       "   project_page_hits\n",
       "0             875834"
      ]
     },
     "execution_count": 6,
     "metadata": {},
     "output_type": "execute_result"
    }
   ],
   "source": [
    "pd.read_sql(f\"\"\"\n",
    "    SELECT COUNT(*) AS project_page_hits\n",
    "    FROM project_page_hits\n",
    "    WHERE accessed_at::date BETWEEN '{start_date}' AND '{end_date}'\n",
    "\"\"\", conn)"
   ]
  },
  {
   "cell_type": "code",
   "execution_count": 7,
   "metadata": {},
   "outputs": [
    {
     "data": {
      "text/html": [
       "<div>\n",
       "<style scoped>\n",
       "    .dataframe tbody tr th:only-of-type {\n",
       "        vertical-align: middle;\n",
       "    }\n",
       "\n",
       "    .dataframe tbody tr th {\n",
       "        vertical-align: top;\n",
       "    }\n",
       "\n",
       "    .dataframe thead th {\n",
       "        text-align: right;\n",
       "    }\n",
       "</style>\n",
       "<table border=\"1\" class=\"dataframe\">\n",
       "  <thead>\n",
       "    <tr style=\"text-align: right;\">\n",
       "      <th></th>\n",
       "      <th>project_json_downloads</th>\n",
       "    </tr>\n",
       "  </thead>\n",
       "  <tbody>\n",
       "    <tr>\n",
       "      <th>0</th>\n",
       "      <td>1094432</td>\n",
       "    </tr>\n",
       "  </tbody>\n",
       "</table>\n",
       "</div>"
      ],
      "text/plain": [
       "   project_json_downloads\n",
       "0                 1094432"
      ]
     },
     "execution_count": 7,
     "metadata": {},
     "output_type": "execute_result"
    }
   ],
   "source": [
    "pd.read_sql(f\"\"\"\n",
    "    SELECT COUNT(*) AS project_json_downloads\n",
    "    FROM project_json_downloads\n",
    "    WHERE accessed_at::date BETWEEN '{start_date}' AND '{end_date}'\n",
    "\"\"\", conn)"
   ]
  },
  {
   "cell_type": "code",
   "execution_count": 8,
   "metadata": {},
   "outputs": [
    {
     "data": {
      "text/html": [
       "<div>\n",
       "<style scoped>\n",
       "    .dataframe tbody tr th:only-of-type {\n",
       "        vertical-align: middle;\n",
       "    }\n",
       "\n",
       "    .dataframe tbody tr th {\n",
       "        vertical-align: top;\n",
       "    }\n",
       "\n",
       "    .dataframe thead th {\n",
       "        text-align: right;\n",
       "    }\n",
       "</style>\n",
       "<table border=\"1\" class=\"dataframe\">\n",
       "  <thead>\n",
       "    <tr style=\"text-align: right;\">\n",
       "      <th></th>\n",
       "      <th>web_page_hits</th>\n",
       "    </tr>\n",
       "  </thead>\n",
       "  <tbody>\n",
       "    <tr>\n",
       "      <th>0</th>\n",
       "      <td>397834</td>\n",
       "    </tr>\n",
       "  </tbody>\n",
       "</table>\n",
       "</div>"
      ],
      "text/plain": [
       "   web_page_hits\n",
       "0         397834"
      ]
     },
     "execution_count": 8,
     "metadata": {},
     "output_type": "execute_result"
    }
   ],
   "source": [
    "pd.read_sql(f\"\"\"\n",
    "    SELECT COUNT(*) AS web_page_hits\n",
    "    FROM web_page_hits\n",
    "    WHERE accessed_at::date BETWEEN '{start_date}' AND '{end_date}'\n",
    "\"\"\", conn)"
   ]
  },
  {
   "cell_type": "code",
   "execution_count": 9,
   "metadata": {},
   "outputs": [
    {
     "data": {
      "text/html": [
       "<div>\n",
       "<style scoped>\n",
       "    .dataframe tbody tr th:only-of-type {\n",
       "        vertical-align: middle;\n",
       "    }\n",
       "\n",
       "    .dataframe tbody tr th {\n",
       "        vertical-align: top;\n",
       "    }\n",
       "\n",
       "    .dataframe thead th {\n",
       "        text-align: right;\n",
       "    }\n",
       "</style>\n",
       "<table border=\"1\" class=\"dataframe\">\n",
       "  <thead>\n",
       "    <tr style=\"text-align: right;\">\n",
       "      <th></th>\n",
       "      <th>m</th>\n",
       "      <th>c</th>\n",
       "    </tr>\n",
       "  </thead>\n",
       "  <tbody>\n",
       "    <tr>\n",
       "      <th>0</th>\n",
       "      <td>2020-10-01</td>\n",
       "      <td>1850781</td>\n",
       "    </tr>\n",
       "    <tr>\n",
       "      <th>1</th>\n",
       "      <td>2020-11-01</td>\n",
       "      <td>1240661</td>\n",
       "    </tr>\n",
       "    <tr>\n",
       "      <th>2</th>\n",
       "      <td>2020-12-01</td>\n",
       "      <td>1552508</td>\n",
       "    </tr>\n",
       "    <tr>\n",
       "      <th>3</th>\n",
       "      <td>2021-01-01</td>\n",
       "      <td>1960137</td>\n",
       "    </tr>\n",
       "    <tr>\n",
       "      <th>4</th>\n",
       "      <td>2021-02-01</td>\n",
       "      <td>3424032</td>\n",
       "    </tr>\n",
       "    <tr>\n",
       "      <th>5</th>\n",
       "      <td>2021-03-01</td>\n",
       "      <td>3878585</td>\n",
       "    </tr>\n",
       "    <tr>\n",
       "      <th>6</th>\n",
       "      <td>2021-04-01</td>\n",
       "      <td>2956219</td>\n",
       "    </tr>\n",
       "    <tr>\n",
       "      <th>7</th>\n",
       "      <td>2021-05-01</td>\n",
       "      <td>2752983</td>\n",
       "    </tr>\n",
       "    <tr>\n",
       "      <th>8</th>\n",
       "      <td>2021-06-01</td>\n",
       "      <td>2762739</td>\n",
       "    </tr>\n",
       "    <tr>\n",
       "      <th>9</th>\n",
       "      <td>2021-07-01</td>\n",
       "      <td>2325759</td>\n",
       "    </tr>\n",
       "    <tr>\n",
       "      <th>10</th>\n",
       "      <td>2021-08-01</td>\n",
       "      <td>2523731</td>\n",
       "    </tr>\n",
       "    <tr>\n",
       "      <th>11</th>\n",
       "      <td>2021-09-01</td>\n",
       "      <td>2198364</td>\n",
       "    </tr>\n",
       "  </tbody>\n",
       "</table>\n",
       "</div>"
      ],
      "text/plain": [
       "            m        c\n",
       "0  2020-10-01  1850781\n",
       "1  2020-11-01  1240661\n",
       "2  2020-12-01  1552508\n",
       "3  2021-01-01  1960137\n",
       "4  2021-02-01  3424032\n",
       "5  2021-03-01  3878585\n",
       "6  2021-04-01  2956219\n",
       "7  2021-05-01  2752983\n",
       "8  2021-06-01  2762739\n",
       "9  2021-07-01  2325759\n",
       "10 2021-08-01  2523731\n",
       "11 2021-09-01  2198364"
      ]
     },
     "execution_count": 9,
     "metadata": {},
     "output_type": "execute_result"
    }
   ],
   "source": [
    "downloads_by_month = pd.read_sql(f\"\"\"\n",
    "    SELECT date_trunc('month', accessed_at) m, COUNT(*) AS c\n",
    "    FROM downloads\n",
    "    WHERE accessed_at::date BETWEEN '{one_year_ago}' AND '{end_date}'\n",
    "    GROUP BY m\n",
    "    ORDER BY m\n",
    "\"\"\", conn)\n",
    "\n",
    "downloads_by_month"
   ]
  },
  {
   "cell_type": "code",
   "execution_count": 60,
   "metadata": {},
   "outputs": [
    {
     "data": {
      "image/png": "[encoded data removed]",
      "text/plain": [
       "<Figure size 720x432 with 1 Axes>"
      ]
     },
     "metadata": {},
     "output_type": "display_data"
    }
   ],
   "source": [
    "plt.rcParams[\"figure.figsize\"] = (10, 6)\n",
    "\n",
    "months = [m.month_name()[:3] for m in downloads_by_month['m']]\n",
    "downloads = [c for c in downloads_by_month['c']]\n",
    "\n",
    "colors = ['blue']*9 + ['red']*3\n",
    "plt.bar(range(12), downloads, color=colors)\n",
    "plt.title('Downloads by month')\n",
    "plt.xticks(range(12), months)\n",
    "\n",
    "plt.savefig('downloads-by-month.png')\n",
    "\n",
    "plt.show()"
   ]
  },
  {
   "cell_type": "code",
   "execution_count": 11,
   "metadata": {},
   "outputs": [
    {
     "data": {
      "text/html": [
       "<div>\n",
       "<style scoped>\n",
       "    .dataframe tbody tr th:only-of-type {\n",
       "        vertical-align: middle;\n",
       "    }\n",
       "\n",
       "    .dataframe tbody tr th {\n",
       "        vertical-align: top;\n",
       "    }\n",
       "\n",
       "    .dataframe thead th {\n",
       "        text-align: right;\n",
       "    }\n",
       "</style>\n",
       "<table border=\"1\" class=\"dataframe\">\n",
       "  <thead>\n",
       "    <tr style=\"text-align: right;\">\n",
       "      <th></th>\n",
       "      <th>d</th>\n",
       "      <th>downloads</th>\n",
       "    </tr>\n",
       "  </thead>\n",
       "  <tbody>\n",
       "    <tr>\n",
       "      <th>0</th>\n",
       "      <td>2021-07-01</td>\n",
       "      <td>112953</td>\n",
       "    </tr>\n",
       "    <tr>\n",
       "      <th>1</th>\n",
       "      <td>2021-07-02</td>\n",
       "      <td>90084</td>\n",
       "    </tr>\n",
       "    <tr>\n",
       "      <th>2</th>\n",
       "      <td>2021-07-03</td>\n",
       "      <td>68950</td>\n",
       "    </tr>\n",
       "    <tr>\n",
       "      <th>3</th>\n",
       "      <td>2021-07-04</td>\n",
       "      <td>73506</td>\n",
       "    </tr>\n",
       "    <tr>\n",
       "      <th>4</th>\n",
       "      <td>2021-07-05</td>\n",
       "      <td>89507</td>\n",
       "    </tr>\n",
       "    <tr>\n",
       "      <th>...</th>\n",
       "      <td>...</td>\n",
       "      <td>...</td>\n",
       "    </tr>\n",
       "    <tr>\n",
       "      <th>87</th>\n",
       "      <td>2021-09-26</td>\n",
       "      <td>59820</td>\n",
       "    </tr>\n",
       "    <tr>\n",
       "      <th>88</th>\n",
       "      <td>2021-09-27</td>\n",
       "      <td>82292</td>\n",
       "    </tr>\n",
       "    <tr>\n",
       "      <th>89</th>\n",
       "      <td>2021-09-28</td>\n",
       "      <td>76716</td>\n",
       "    </tr>\n",
       "    <tr>\n",
       "      <th>90</th>\n",
       "      <td>2021-09-29</td>\n",
       "      <td>81520</td>\n",
       "    </tr>\n",
       "    <tr>\n",
       "      <th>91</th>\n",
       "      <td>2021-09-30</td>\n",
       "      <td>90958</td>\n",
       "    </tr>\n",
       "  </tbody>\n",
       "</table>\n",
       "<p>92 rows × 2 columns</p>\n",
       "</div>"
      ],
      "text/plain": [
       "             d  downloads\n",
       "0   2021-07-01     112953\n",
       "1   2021-07-02      90084\n",
       "2   2021-07-03      68950\n",
       "3   2021-07-04      73506\n",
       "4   2021-07-05      89507\n",
       "..         ...        ...\n",
       "87  2021-09-26      59820\n",
       "88  2021-09-27      82292\n",
       "89  2021-09-28      76716\n",
       "90  2021-09-29      81520\n",
       "91  2021-09-30      90958\n",
       "\n",
       "[92 rows x 2 columns]"
      ]
     },
     "execution_count": 11,
     "metadata": {},
     "output_type": "execute_result"
    }
   ],
   "source": [
    "downloads_by_day = pd.read_sql(f\"\"\"\n",
    "    SELECT accessed_at::date AS d, COUNT(*) AS downloads\n",
    "    FROM downloads\n",
    "    WHERE accessed_at::date BETWEEN '{start_date}' AND '{end_date}'\n",
    "    GROUP BY d\n",
    "    ORDER BY d\n",
    "\"\"\", conn)\n",
    "\n",
    "downloads_by_day"
   ]
  },
  {
   "cell_type": "code",
   "execution_count": 61,
   "metadata": {},
   "outputs": [
    {
     "data": {
      "image/png": "[encoded data removed]",
      "text/plain": [
       "<Figure size 720x432 with 1 Axes>"
      ]
     },
     "metadata": {},
     "output_type": "display_data"
    }
   ],
   "source": [
    "p = downloads_by_day.plot.bar(title='Downloads by day')\n",
    "p.figure.savefig('downloads-by-day.png')"
   ]
  },
  {
   "cell_type": "code",
   "execution_count": 13,
   "metadata": {},
   "outputs": [
    {
     "data": {
      "text/plain": [
       "48256952"
      ]
     },
     "execution_count": 13,
     "metadata": {},
     "output_type": "execute_result"
    }
   ],
   "source": [
    "df = pd.read_sql(f\"\"\"\n",
    "    SELECT COUNT(*) AS searches_in_period\n",
    "    FROM searches\n",
    "    WHERE accessed_at >= '{start_time}' AND accessed_at < '{end_time}'\n",
    "\"\"\", conn)\n",
    "\n",
    "searches = df.values[0][0]\n",
    "searches"
   ]
  },
  {
   "cell_type": "code",
   "execution_count": 14,
   "metadata": {},
   "outputs": [
    {
     "data": {
      "text/html": [
       "<div>\n",
       "<style scoped>\n",
       "    .dataframe tbody tr th:only-of-type {\n",
       "        vertical-align: middle;\n",
       "    }\n",
       "\n",
       "    .dataframe tbody tr th {\n",
       "        vertical-align: top;\n",
       "    }\n",
       "\n",
       "    .dataframe thead th {\n",
       "        text-align: right;\n",
       "    }\n",
       "</style>\n",
       "<table border=\"1\" class=\"dataframe\">\n",
       "  <thead>\n",
       "    <tr style=\"text-align: right;\">\n",
       "      <th></th>\n",
       "      <th>month</th>\n",
       "      <th>searches</th>\n",
       "    </tr>\n",
       "  </thead>\n",
       "  <tbody>\n",
       "    <tr>\n",
       "      <th>0</th>\n",
       "      <td>2021-07-01</td>\n",
       "      <td>19092849</td>\n",
       "    </tr>\n",
       "    <tr>\n",
       "      <th>1</th>\n",
       "      <td>2021-08-01</td>\n",
       "      <td>17141762</td>\n",
       "    </tr>\n",
       "    <tr>\n",
       "      <th>2</th>\n",
       "      <td>2021-09-01</td>\n",
       "      <td>12022341</td>\n",
       "    </tr>\n",
       "  </tbody>\n",
       "</table>\n",
       "</div>"
      ],
      "text/plain": [
       "       month  searches\n",
       "0 2021-07-01  19092849\n",
       "1 2021-08-01  17141762\n",
       "2 2021-09-01  12022341"
      ]
     },
     "execution_count": 14,
     "metadata": {},
     "output_type": "execute_result"
    }
   ],
   "source": [
    "pd.read_sql(f\"\"\"\n",
    "    SELECT date_trunc('month', accessed_at) AS month, COUNT(*) AS searches\n",
    "    FROM searches\n",
    "    WHERE accessed_at >= '{start_time}' AND accessed_at < '{end_time}'\n",
    "    GROUP BY month\n",
    "    ORDER BY month\n",
    "\"\"\", conn)"
   ]
  },
  {
   "cell_type": "code",
   "execution_count": 15,
   "metadata": {},
   "outputs": [
    {
     "data": {
      "text/html": [
       "<div>\n",
       "<style scoped>\n",
       "    .dataframe tbody tr th:only-of-type {\n",
       "        vertical-align: middle;\n",
       "    }\n",
       "\n",
       "    .dataframe tbody tr th {\n",
       "        vertical-align: top;\n",
       "    }\n",
       "\n",
       "    .dataframe thead th {\n",
       "        text-align: right;\n",
       "    }\n",
       "</style>\n",
       "<table border=\"1\" class=\"dataframe\">\n",
       "  <thead>\n",
       "    <tr style=\"text-align: right;\">\n",
       "      <th></th>\n",
       "      <th>day</th>\n",
       "      <th>searches</th>\n",
       "    </tr>\n",
       "  </thead>\n",
       "  <tbody>\n",
       "    <tr>\n",
       "      <th>0</th>\n",
       "      <td>2021-07-01</td>\n",
       "      <td>663189</td>\n",
       "    </tr>\n",
       "    <tr>\n",
       "      <th>1</th>\n",
       "      <td>2021-07-02</td>\n",
       "      <td>573578</td>\n",
       "    </tr>\n",
       "    <tr>\n",
       "      <th>2</th>\n",
       "      <td>2021-07-03</td>\n",
       "      <td>520430</td>\n",
       "    </tr>\n",
       "    <tr>\n",
       "      <th>3</th>\n",
       "      <td>2021-07-04</td>\n",
       "      <td>516349</td>\n",
       "    </tr>\n",
       "    <tr>\n",
       "      <th>4</th>\n",
       "      <td>2021-07-05</td>\n",
       "      <td>616019</td>\n",
       "    </tr>\n",
       "    <tr>\n",
       "      <th>...</th>\n",
       "      <td>...</td>\n",
       "      <td>...</td>\n",
       "    </tr>\n",
       "    <tr>\n",
       "      <th>87</th>\n",
       "      <td>2021-09-26</td>\n",
       "      <td>322228</td>\n",
       "    </tr>\n",
       "    <tr>\n",
       "      <th>88</th>\n",
       "      <td>2021-09-27</td>\n",
       "      <td>420188</td>\n",
       "    </tr>\n",
       "    <tr>\n",
       "      <th>89</th>\n",
       "      <td>2021-09-28</td>\n",
       "      <td>399966</td>\n",
       "    </tr>\n",
       "    <tr>\n",
       "      <th>90</th>\n",
       "      <td>2021-09-29</td>\n",
       "      <td>410543</td>\n",
       "    </tr>\n",
       "    <tr>\n",
       "      <th>91</th>\n",
       "      <td>2021-09-30</td>\n",
       "      <td>443022</td>\n",
       "    </tr>\n",
       "  </tbody>\n",
       "</table>\n",
       "<p>92 rows × 2 columns</p>\n",
       "</div>"
      ],
      "text/plain": [
       "           day  searches\n",
       "0   2021-07-01    663189\n",
       "1   2021-07-02    573578\n",
       "2   2021-07-03    520430\n",
       "3   2021-07-04    516349\n",
       "4   2021-07-05    616019\n",
       "..         ...       ...\n",
       "87  2021-09-26    322228\n",
       "88  2021-09-27    420188\n",
       "89  2021-09-28    399966\n",
       "90  2021-09-29    410543\n",
       "91  2021-09-30    443022\n",
       "\n",
       "[92 rows x 2 columns]"
      ]
     },
     "execution_count": 15,
     "metadata": {},
     "output_type": "execute_result"
    }
   ],
   "source": [
    "searches_by_day = pd.read_sql(f\"\"\"\n",
    "    SELECT accessed_at::date AS day, COUNT(*) AS searches\n",
    "    FROM searches\n",
    "    WHERE accessed_at::date BETWEEN '{start_date}' AND '{end_date}'\n",
    "    GROUP BY day\n",
    "    ORDER BY day\n",
    "\"\"\", conn)\n",
    "\n",
    "searches_by_day"
   ]
  },
  {
   "cell_type": "code",
   "execution_count": 62,
   "metadata": {},
   "outputs": [
    {
     "data": {
      "image/png": "[encoded data removed]",
      "text/plain": [
       "<Figure size 720x432 with 1 Axes>"
      ]
     },
     "metadata": {},
     "output_type": "display_data"
    }
   ],
   "source": [
    "p = searches_by_day.plot.bar(title='Searches by day')\n",
    "p.figure.savefig('searches-by-day.png')"
   ]
  },
  {
   "cell_type": "code",
   "execution_count": 17,
   "metadata": {},
   "outputs": [
    {
     "data": {
      "text/html": [
       "<div>\n",
       "<style scoped>\n",
       "    .dataframe tbody tr th:only-of-type {\n",
       "        vertical-align: middle;\n",
       "    }\n",
       "\n",
       "    .dataframe tbody tr th {\n",
       "        vertical-align: top;\n",
       "    }\n",
       "\n",
       "    .dataframe thead th {\n",
       "        text-align: right;\n",
       "    }\n",
       "</style>\n",
       "<table border=\"1\" class=\"dataframe\">\n",
       "  <thead>\n",
       "    <tr style=\"text-align: right;\">\n",
       "      <th></th>\n",
       "      <th>total_time_saved_in_quarter</th>\n",
       "    </tr>\n",
       "  </thead>\n",
       "  <tbody>\n",
       "    <tr>\n",
       "      <th>0</th>\n",
       "      <td>12048 days 00:50:30.453081</td>\n",
       "    </tr>\n",
       "  </tbody>\n",
       "</table>\n",
       "</div>"
      ],
      "text/plain": [
       "  total_time_saved_in_quarter\n",
       "0  12048 days 00:50:30.453081"
      ]
     },
     "execution_count": 17,
     "metadata": {},
     "output_type": "execute_result"
    }
   ],
   "source": [
    "pd.read_sql(f\"\"\"\n",
    "    SELECT JUSTIFY_INTERVAL(SUM(\n",
    "        CASE f.platform_tag\n",
    "            WHEN 'linux_armv7l' THEN 1                           \n",
    "            WHEN 'linux_armv6l' THEN 6                                                       \n",
    "            ELSE 0           \n",
    "        END *\n",
    "        CASE                        \n",
    "            WHEN b.duration > INTERVAL '1 day' THEN INTERVAL '0'\n",
    "            WHEN b.duration > INTERVAL '6.7 seconds' THEN b.duration - INTERVAL '6.7 seconds'\n",
    "            ELSE INTERVAL '0'               \n",
    "        END                  \n",
    "        )) AS total_time_saved_in_quarter                        \n",
    "    FROM downloads d\n",
    "    JOIN files f ON d.filename = f.filename\n",
    "    JOIN builds b ON b.build_id = f.build_id\n",
    "    WHERE f.abi_tag <> 'none'\n",
    "    AND d.accessed_at::date between '{start_date}' and '{end_date}'\n",
    "\"\"\", conn)"
   ]
  },
  {
   "cell_type": "code",
   "execution_count": 18,
   "metadata": {},
   "outputs": [
    {
     "data": {
      "text/html": [
       "<div>\n",
       "<style scoped>\n",
       "    .dataframe tbody tr th:only-of-type {\n",
       "        vertical-align: middle;\n",
       "    }\n",
       "\n",
       "    .dataframe tbody tr th {\n",
       "        vertical-align: top;\n",
       "    }\n",
       "\n",
       "    .dataframe thead th {\n",
       "        text-align: right;\n",
       "    }\n",
       "</style>\n",
       "<table border=\"1\" class=\"dataframe\">\n",
       "  <thead>\n",
       "    <tr style=\"text-align: right;\">\n",
       "      <th></th>\n",
       "      <th>month</th>\n",
       "      <th>time_saved_in_month</th>\n",
       "    </tr>\n",
       "  </thead>\n",
       "  <tbody>\n",
       "    <tr>\n",
       "      <th>0</th>\n",
       "      <td>2020-10-01</td>\n",
       "      <td>8074 days 17:26:14.875176</td>\n",
       "    </tr>\n",
       "    <tr>\n",
       "      <th>1</th>\n",
       "      <td>2020-11-01</td>\n",
       "      <td>6374 days 06:58:39.848346</td>\n",
       "    </tr>\n",
       "    <tr>\n",
       "      <th>2</th>\n",
       "      <td>2020-12-01</td>\n",
       "      <td>3878 days 06:59:28.147684</td>\n",
       "    </tr>\n",
       "    <tr>\n",
       "      <th>3</th>\n",
       "      <td>2021-01-01</td>\n",
       "      <td>3727 days 17:44:07.111225</td>\n",
       "    </tr>\n",
       "    <tr>\n",
       "      <th>4</th>\n",
       "      <td>2021-02-01</td>\n",
       "      <td>5639 days 08:25:11.612328</td>\n",
       "    </tr>\n",
       "    <tr>\n",
       "      <th>5</th>\n",
       "      <td>2021-03-01</td>\n",
       "      <td>6756 days 17:05:34.494183</td>\n",
       "    </tr>\n",
       "    <tr>\n",
       "      <th>6</th>\n",
       "      <td>2021-04-01</td>\n",
       "      <td>5148 days 08:09:03.090226</td>\n",
       "    </tr>\n",
       "    <tr>\n",
       "      <th>7</th>\n",
       "      <td>2021-05-01</td>\n",
       "      <td>4542 days 20:14:38.898707</td>\n",
       "    </tr>\n",
       "    <tr>\n",
       "      <th>8</th>\n",
       "      <td>2021-06-01</td>\n",
       "      <td>4240 days 19:47:36.009394</td>\n",
       "    </tr>\n",
       "    <tr>\n",
       "      <th>9</th>\n",
       "      <td>2021-07-01</td>\n",
       "      <td>3731 days 01:39:11.882878</td>\n",
       "    </tr>\n",
       "    <tr>\n",
       "      <th>10</th>\n",
       "      <td>2021-08-01</td>\n",
       "      <td>4142 days 21:19:43.043882</td>\n",
       "    </tr>\n",
       "    <tr>\n",
       "      <th>11</th>\n",
       "      <td>2021-09-01</td>\n",
       "      <td>4169 days 01:51:35.526321</td>\n",
       "    </tr>\n",
       "  </tbody>\n",
       "</table>\n",
       "</div>"
      ],
      "text/plain": [
       "        month       time_saved_in_month\n",
       "0  2020-10-01 8074 days 17:26:14.875176\n",
       "1  2020-11-01 6374 days 06:58:39.848346\n",
       "2  2020-12-01 3878 days 06:59:28.147684\n",
       "3  2021-01-01 3727 days 17:44:07.111225\n",
       "4  2021-02-01 5639 days 08:25:11.612328\n",
       "5  2021-03-01 6756 days 17:05:34.494183\n",
       "6  2021-04-01 5148 days 08:09:03.090226\n",
       "7  2021-05-01 4542 days 20:14:38.898707\n",
       "8  2021-06-01 4240 days 19:47:36.009394\n",
       "9  2021-07-01 3731 days 01:39:11.882878\n",
       "10 2021-08-01 4142 days 21:19:43.043882\n",
       "11 2021-09-01 4169 days 01:51:35.526321"
      ]
     },
     "execution_count": 18,
     "metadata": {},
     "output_type": "execute_result"
    }
   ],
   "source": [
    "time_saved_by_month = pd.read_sql(f\"\"\"\n",
    "    SELECT date_trunc('month', d.accessed_at) as month, JUSTIFY_INTERVAL(SUM(\n",
    "        CASE f.platform_tag\n",
    "            WHEN 'linux_armv7l' THEN 1\n",
    "            WHEN 'linux_armv6l' THEN 6\n",
    "            ELSE 0\n",
    "        END *\n",
    "        CASE\n",
    "            WHEN b.duration > INTERVAL '1 day' THEN INTERVAL '0'\n",
    "            WHEN b.duration > INTERVAL '6.7 seconds' THEN b.duration - INTERVAL '6.7 seconds'\n",
    "            ELSE INTERVAL '0'\n",
    "        END\n",
    "            )) AS time_saved_in_month\n",
    "    FROM downloads d\n",
    "    JOIN files f ON d.filename = f.filename\n",
    "    JOIN builds b ON b.build_id = f.build_id\n",
    "    WHERE f.abi_tag <> 'none'\n",
    "    AND d.accessed_at::date between '{one_year_ago}' and '{end_date}'\n",
    "    GROUP BY month\n",
    "    ORDER BY month\n",
    "\"\"\", conn)\n",
    "\n",
    "time_saved_by_month"
   ]
  },
  {
   "cell_type": "code",
   "execution_count": 63,
   "metadata": {},
   "outputs": [
    {
     "data": {
      "image/png": "[encoded data removed]",
      "text/plain": [
       "<Figure size 720x432 with 1 Axes>"
      ]
     },
     "metadata": {},
     "output_type": "display_data"
    }
   ],
   "source": [
    "months = [m.month_name()[:3] for m in time_saved_by_month['month']]\n",
    "days_saved = [ts.days for ts in time_saved_by_month['time_saved_in_month']]\n",
    "\n",
    "colors = ['blue']*9 + ['red']*3\n",
    "plt.bar(range(12), days_saved, color=colors)\n",
    "plt.title('Time saved by month')\n",
    "plt.xticks(range(12), months)\n",
    "\n",
    "plt.savefig('time-saved-by-month.png')\n",
    "\n",
    "plt.show()"
   ]
  },
  {
   "cell_type": "code",
   "execution_count": 20,
   "metadata": {},
   "outputs": [
    {
     "data": {
      "text/html": [
       "<div>\n",
       "<style scoped>\n",
       "    .dataframe tbody tr th:only-of-type {\n",
       "        vertical-align: middle;\n",
       "    }\n",
       "\n",
       "    .dataframe tbody tr th {\n",
       "        vertical-align: top;\n",
       "    }\n",
       "\n",
       "    .dataframe thead th {\n",
       "        text-align: right;\n",
       "    }\n",
       "</style>\n",
       "<table border=\"1\" class=\"dataframe\">\n",
       "  <thead>\n",
       "    <tr style=\"text-align: right;\">\n",
       "      <th></th>\n",
       "      <th>package</th>\n",
       "      <th>c</th>\n",
       "    </tr>\n",
       "  </thead>\n",
       "  <tbody>\n",
       "    <tr>\n",
       "      <th>0</th>\n",
       "      <td>requests</td>\n",
       "      <td>116496</td>\n",
       "    </tr>\n",
       "    <tr>\n",
       "      <th>1</th>\n",
       "      <td>six</td>\n",
       "      <td>102660</td>\n",
       "    </tr>\n",
       "    <tr>\n",
       "      <th>2</th>\n",
       "      <td>numpy</td>\n",
       "      <td>100423</td>\n",
       "    </tr>\n",
       "    <tr>\n",
       "      <th>3</th>\n",
       "      <td>pip</td>\n",
       "      <td>98708</td>\n",
       "    </tr>\n",
       "    <tr>\n",
       "      <th>4</th>\n",
       "      <td>idna</td>\n",
       "      <td>94551</td>\n",
       "    </tr>\n",
       "    <tr>\n",
       "      <th>5</th>\n",
       "      <td>importlib-metadata</td>\n",
       "      <td>93747</td>\n",
       "    </tr>\n",
       "    <tr>\n",
       "      <th>6</th>\n",
       "      <td>urllib3</td>\n",
       "      <td>91259</td>\n",
       "    </tr>\n",
       "    <tr>\n",
       "      <th>7</th>\n",
       "      <td>certifi</td>\n",
       "      <td>87703</td>\n",
       "    </tr>\n",
       "    <tr>\n",
       "      <th>8</th>\n",
       "      <td>typing-extensions</td>\n",
       "      <td>85543</td>\n",
       "    </tr>\n",
       "    <tr>\n",
       "      <th>9</th>\n",
       "      <td>pillow</td>\n",
       "      <td>83796</td>\n",
       "    </tr>\n",
       "  </tbody>\n",
       "</table>\n",
       "</div>"
      ],
      "text/plain": [
       "              package       c\n",
       "0            requests  116496\n",
       "1                 six  102660\n",
       "2               numpy  100423\n",
       "3                 pip   98708\n",
       "4                idna   94551\n",
       "5  importlib-metadata   93747\n",
       "6             urllib3   91259\n",
       "7             certifi   87703\n",
       "8   typing-extensions   85543\n",
       "9              pillow   83796"
      ]
     },
     "execution_count": 20,
     "metadata": {},
     "output_type": "execute_result"
    }
   ],
   "source": [
    "top_10_downloads = pd.read_sql(f\"\"\"\n",
    "    select b.package, count(*) c\n",
    "    from downloads d\n",
    "    join files f on f.filename = d.filename\n",
    "    join builds b on b.build_id = f.build_id\n",
    "    where accessed_at::date between '{start_date}' and '{end_date}'\n",
    "    group by b.package\n",
    "    order by c desc\n",
    "    limit 10;\n",
    "\"\"\", conn)\n",
    "\n",
    "top_10_downloads"
   ]
  },
  {
   "cell_type": "code",
   "execution_count": 21,
   "metadata": {},
   "outputs": [
    {
     "name": "stdout",
     "output_type": "stream",
     "text": [
      "<ol>\n",
      "<li><strong><a href='https://www.piwheels.org/project/requests'>requests</a></strong> (116,496)</li>\n",
      "<li><strong><a href='https://www.piwheels.org/project/six'>six</a></strong> (102,660)</li>\n",
      "<li><strong><a href='https://www.piwheels.org/project/numpy'>numpy</a></strong> (100,423)</li>\n",
      "<li><strong><a href='https://www.piwheels.org/project/pip'>pip</a></strong> (98,708)</li>\n",
      "<li><strong><a href='https://www.piwheels.org/project/idna'>idna</a></strong> (94,551)</li>\n",
      "<li><strong><a href='https://www.piwheels.org/project/importlib-metadata'>importlib-metadata</a></strong> (93,747)</li>\n",
      "<li><strong><a href='https://www.piwheels.org/project/urllib3'>urllib3</a></strong> (91,259)</li>\n",
      "<li><strong><a href='https://www.piwheels.org/project/certifi'>certifi</a></strong> (87,703)</li>\n",
      "<li><strong><a href='https://www.piwheels.org/project/typing-extensions'>typing-extensions</a></strong> (85,543)</li>\n",
      "<li><strong><a href='https://www.piwheels.org/project/pillow'>pillow</a></strong> (83,796)</li>\n",
      "</ol>\n"
     ]
    }
   ],
   "source": [
    "print(\"<ol>\")\n",
    "for i, row in top_10_downloads.iterrows():\n",
    "    print(f\"<li><strong><a href='https://www.piwheels.org/project/{row['package']}'>{row['package']}</a></strong> ({row['c']:,})</li>\")\n",
    "print(\"</ol>\")"
   ]
  },
  {
   "cell_type": "code",
   "execution_count": 22,
   "metadata": {},
   "outputs": [
    {
     "data": {
      "text/html": [
       "<div>\n",
       "<style scoped>\n",
       "    .dataframe tbody tr th:only-of-type {\n",
       "        vertical-align: middle;\n",
       "    }\n",
       "\n",
       "    .dataframe tbody tr th {\n",
       "        vertical-align: top;\n",
       "    }\n",
       "\n",
       "    .dataframe thead th {\n",
       "        text-align: right;\n",
       "    }\n",
       "</style>\n",
       "<table border=\"1\" class=\"dataframe\">\n",
       "  <thead>\n",
       "    <tr style=\"text-align: right;\">\n",
       "      <th></th>\n",
       "      <th>package</th>\n",
       "      <th>c</th>\n",
       "    </tr>\n",
       "  </thead>\n",
       "  <tbody>\n",
       "    <tr>\n",
       "      <th>0</th>\n",
       "      <td>pip</td>\n",
       "      <td>7423597</td>\n",
       "    </tr>\n",
       "    <tr>\n",
       "      <th>1</th>\n",
       "      <td>wheel</td>\n",
       "      <td>4427701</td>\n",
       "    </tr>\n",
       "    <tr>\n",
       "      <th>2</th>\n",
       "      <td>setuptools</td>\n",
       "      <td>3375412</td>\n",
       "    </tr>\n",
       "    <tr>\n",
       "      <th>3</th>\n",
       "      <td>pyrogram</td>\n",
       "      <td>1762252</td>\n",
       "    </tr>\n",
       "    <tr>\n",
       "      <th>4</th>\n",
       "      <td>future</td>\n",
       "      <td>742655</td>\n",
       "    </tr>\n",
       "    <tr>\n",
       "      <th>5</th>\n",
       "      <td>youtube-dl</td>\n",
       "      <td>664821</td>\n",
       "    </tr>\n",
       "    <tr>\n",
       "      <th>6</th>\n",
       "      <td>pyngrok</td>\n",
       "      <td>645709</td>\n",
       "    </tr>\n",
       "    <tr>\n",
       "      <th>7</th>\n",
       "      <td>speedtest-cli</td>\n",
       "      <td>399889</td>\n",
       "    </tr>\n",
       "    <tr>\n",
       "      <th>8</th>\n",
       "      <td>six</td>\n",
       "      <td>379356</td>\n",
       "    </tr>\n",
       "    <tr>\n",
       "      <th>9</th>\n",
       "      <td>requests</td>\n",
       "      <td>377486</td>\n",
       "    </tr>\n",
       "  </tbody>\n",
       "</table>\n",
       "</div>"
      ],
      "text/plain": [
       "         package        c\n",
       "0            pip  7423597\n",
       "1          wheel  4427701\n",
       "2     setuptools  3375412\n",
       "3       pyrogram  1762252\n",
       "4         future   742655\n",
       "5     youtube-dl   664821\n",
       "6        pyngrok   645709\n",
       "7  speedtest-cli   399889\n",
       "8            six   379356\n",
       "9       requests   377486"
      ]
     },
     "execution_count": 22,
     "metadata": {},
     "output_type": "execute_result"
    }
   ],
   "source": [
    "top_10_searches = pd.read_sql(f\"\"\"\n",
    "    select package, count(*) c\n",
    "    from searches\n",
    "    where accessed_at >= '{start_time}' AND accessed_at < '{end_time}'\n",
    "    group by package\n",
    "    order by c desc\n",
    "    limit 10;\n",
    "\"\"\", conn)\n",
    "\n",
    "top_10_searches"
   ]
  },
  {
   "cell_type": "code",
   "execution_count": 23,
   "metadata": {},
   "outputs": [
    {
     "name": "stdout",
     "output_type": "stream",
     "text": [
      "<ol>\n",
      "<li><strong><a href='https://www.piwheels.org/project/pip'>pip</a></strong> (7,423,597)</li>\n",
      "<li><strong><a href='https://www.piwheels.org/project/wheel'>wheel</a></strong> (4,427,701)</li>\n",
      "<li><strong><a href='https://www.piwheels.org/project/setuptools'>setuptools</a></strong> (3,375,412)</li>\n",
      "<li><strong><a href='https://www.piwheels.org/project/pyrogram'>pyrogram</a></strong> (1,762,252)</li>\n",
      "<li><strong><a href='https://www.piwheels.org/project/future'>future</a></strong> (742,655)</li>\n",
      "<li><strong><a href='https://www.piwheels.org/project/youtube-dl'>youtube-dl</a></strong> (664,821)</li>\n",
      "<li><strong><a href='https://www.piwheels.org/project/pyngrok'>pyngrok</a></strong> (645,709)</li>\n",
      "<li><strong><a href='https://www.piwheels.org/project/speedtest-cli'>speedtest-cli</a></strong> (399,889)</li>\n",
      "<li><strong><a href='https://www.piwheels.org/project/six'>six</a></strong> (379,356)</li>\n",
      "<li><strong><a href='https://www.piwheels.org/project/requests'>requests</a></strong> (377,486)</li>\n",
      "</ol>\n"
     ]
    }
   ],
   "source": [
    "print(\"<ol>\")\n",
    "for pkg, c in top_10_searches.values:\n",
    "    print(f\"<li><strong><a href='https://www.piwheels.org/project/{pkg}'>{pkg}</a></strong> ({c:,})</li>\")\n",
    "print(\"</ol>\")"
   ]
  },
  {
   "cell_type": "code",
   "execution_count": 24,
   "metadata": {},
   "outputs": [
    {
     "data": {
      "text/html": [
       "<div>\n",
       "<style scoped>\n",
       "    .dataframe tbody tr th:only-of-type {\n",
       "        vertical-align: middle;\n",
       "    }\n",
       "\n",
       "    .dataframe tbody tr th {\n",
       "        vertical-align: top;\n",
       "    }\n",
       "\n",
       "    .dataframe thead th {\n",
       "        text-align: right;\n",
       "    }\n",
       "</style>\n",
       "<table border=\"1\" class=\"dataframe\">\n",
       "  <thead>\n",
       "    <tr style=\"text-align: right;\">\n",
       "      <th></th>\n",
       "      <th>package</th>\n",
       "      <th>c</th>\n",
       "    </tr>\n",
       "  </thead>\n",
       "  <tbody>\n",
       "    <tr>\n",
       "      <th>0</th>\n",
       "      <td>lilurl</td>\n",
       "      <td>2401</td>\n",
       "    </tr>\n",
       "    <tr>\n",
       "      <th>1</th>\n",
       "      <td>numpy</td>\n",
       "      <td>1354</td>\n",
       "    </tr>\n",
       "    <tr>\n",
       "      <th>2</th>\n",
       "      <td>opencv-python</td>\n",
       "      <td>1102</td>\n",
       "    </tr>\n",
       "    <tr>\n",
       "      <th>3</th>\n",
       "      <td>opencv-contrib-python</td>\n",
       "      <td>1044</td>\n",
       "    </tr>\n",
       "    <tr>\n",
       "      <th>4</th>\n",
       "      <td>scipy</td>\n",
       "      <td>1006</td>\n",
       "    </tr>\n",
       "    <tr>\n",
       "      <th>5</th>\n",
       "      <td>scikit-image</td>\n",
       "      <td>653</td>\n",
       "    </tr>\n",
       "    <tr>\n",
       "      <th>6</th>\n",
       "      <td>tensorflow</td>\n",
       "      <td>559</td>\n",
       "    </tr>\n",
       "    <tr>\n",
       "      <th>7</th>\n",
       "      <td>imagecodecs</td>\n",
       "      <td>523</td>\n",
       "    </tr>\n",
       "    <tr>\n",
       "      <th>8</th>\n",
       "      <td>cryptography</td>\n",
       "      <td>474</td>\n",
       "    </tr>\n",
       "    <tr>\n",
       "      <th>9</th>\n",
       "      <td>pandas</td>\n",
       "      <td>437</td>\n",
       "    </tr>\n",
       "  </tbody>\n",
       "</table>\n",
       "</div>"
      ],
      "text/plain": [
       "                 package     c\n",
       "0                 lilurl  2401\n",
       "1                  numpy  1354\n",
       "2          opencv-python  1102\n",
       "3  opencv-contrib-python  1044\n",
       "4                  scipy  1006\n",
       "5           scikit-image   653\n",
       "6             tensorflow   559\n",
       "7            imagecodecs   523\n",
       "8           cryptography   474\n",
       "9                 pandas   437"
      ]
     },
     "execution_count": 24,
     "metadata": {},
     "output_type": "execute_result"
    }
   ],
   "source": [
    "top_10_project_pages = pd.read_sql(f\"\"\"\n",
    "    select package, count(*) c\n",
    "    from project_page_hits\n",
    "    where accessed_at::date between '{start_date}' and '{end_date}'\n",
    "    group by package\n",
    "    order by c desc\n",
    "    limit 10;\n",
    "\"\"\", conn)\n",
    "\n",
    "top_10_project_pages"
   ]
  },
  {
   "cell_type": "code",
   "execution_count": 25,
   "metadata": {},
   "outputs": [
    {
     "name": "stdout",
     "output_type": "stream",
     "text": [
      "<ol>\n",
      "<li><strong><a href='https://www.piwheels.org/project/lilurl'>lilurl</a></strong> (2,401)</li>\n",
      "<li><strong><a href='https://www.piwheels.org/project/numpy'>numpy</a></strong> (1,354)</li>\n",
      "<li><strong><a href='https://www.piwheels.org/project/opencv-python'>opencv-python</a></strong> (1,102)</li>\n",
      "<li><strong><a href='https://www.piwheels.org/project/opencv-contrib-python'>opencv-contrib-python</a></strong> (1,044)</li>\n",
      "<li><strong><a href='https://www.piwheels.org/project/scipy'>scipy</a></strong> (1,006)</li>\n",
      "<li><strong><a href='https://www.piwheels.org/project/scikit-image'>scikit-image</a></strong> (653)</li>\n",
      "<li><strong><a href='https://www.piwheels.org/project/tensorflow'>tensorflow</a></strong> (559)</li>\n",
      "<li><strong><a href='https://www.piwheels.org/project/imagecodecs'>imagecodecs</a></strong> (523)</li>\n",
      "<li><strong><a href='https://www.piwheels.org/project/cryptography'>cryptography</a></strong> (474)</li>\n",
      "<li><strong><a href='https://www.piwheels.org/project/pandas'>pandas</a></strong> (437)</li>\n",
      "</ol>\n"
     ]
    }
   ],
   "source": [
    "print(\"<ol>\")\n",
    "for pkg, c in top_10_project_pages.values:\n",
    "    print(f\"<li><strong><a href='https://www.piwheels.org/project/{pkg}'>{pkg}</a></strong> ({c:,})</li>\")\n",
    "print(\"</ol>\")"
   ]
  },
  {
   "cell_type": "code",
   "execution_count": 26,
   "metadata": {},
   "outputs": [
    {
     "data": {
      "text/html": [
       "<div>\n",
       "<style scoped>\n",
       "    .dataframe tbody tr th:only-of-type {\n",
       "        vertical-align: middle;\n",
       "    }\n",
       "\n",
       "    .dataframe tbody tr th {\n",
       "        vertical-align: top;\n",
       "    }\n",
       "\n",
       "    .dataframe thead th {\n",
       "        text-align: right;\n",
       "    }\n",
       "</style>\n",
       "<table border=\"1\" class=\"dataframe\">\n",
       "  <thead>\n",
       "    <tr style=\"text-align: right;\">\n",
       "      <th></th>\n",
       "      <th>package</th>\n",
       "      <th>c</th>\n",
       "    </tr>\n",
       "  </thead>\n",
       "  <tbody>\n",
       "    <tr>\n",
       "      <th>0</th>\n",
       "      <td>awscrt</td>\n",
       "      <td>20679</td>\n",
       "    </tr>\n",
       "    <tr>\n",
       "      <th>1</th>\n",
       "      <td>numpy</td>\n",
       "      <td>458</td>\n",
       "    </tr>\n",
       "    <tr>\n",
       "      <th>2</th>\n",
       "      <td>opencv-contrib-python</td>\n",
       "      <td>107</td>\n",
       "    </tr>\n",
       "    <tr>\n",
       "      <th>3</th>\n",
       "      <td>v2ray-runtime-windows</td>\n",
       "      <td>104</td>\n",
       "    </tr>\n",
       "    <tr>\n",
       "      <th>4</th>\n",
       "      <td>requests-toolkit</td>\n",
       "      <td>103</td>\n",
       "    </tr>\n",
       "    <tr>\n",
       "      <th>5</th>\n",
       "      <td>github-http-api</td>\n",
       "      <td>96</td>\n",
       "    </tr>\n",
       "    <tr>\n",
       "      <th>6</th>\n",
       "      <td>bevy-events</td>\n",
       "      <td>95</td>\n",
       "    </tr>\n",
       "    <tr>\n",
       "      <th>7</th>\n",
       "      <td>newrelic-plugins-agent</td>\n",
       "      <td>95</td>\n",
       "    </tr>\n",
       "    <tr>\n",
       "      <th>8</th>\n",
       "      <td>v2ray-runtime</td>\n",
       "      <td>92</td>\n",
       "    </tr>\n",
       "    <tr>\n",
       "      <th>9</th>\n",
       "      <td>protobuf</td>\n",
       "      <td>91</td>\n",
       "    </tr>\n",
       "  </tbody>\n",
       "</table>\n",
       "</div>"
      ],
      "text/plain": [
       "                  package      c\n",
       "0                  awscrt  20679\n",
       "1                   numpy    458\n",
       "2   opencv-contrib-python    107\n",
       "3   v2ray-runtime-windows    104\n",
       "4        requests-toolkit    103\n",
       "5         github-http-api     96\n",
       "6             bevy-events     95\n",
       "7  newrelic-plugins-agent     95\n",
       "8           v2ray-runtime     92\n",
       "9                protobuf     91"
      ]
     },
     "execution_count": 26,
     "metadata": {},
     "output_type": "execute_result"
    }
   ],
   "source": [
    "top_10_project_json = pd.read_sql(f\"\"\"\n",
    "    select package, count(*) c\n",
    "    from project_json_downloads\n",
    "    where accessed_at::date between '{start_date}' and '{end_date}'\n",
    "    group by package\n",
    "    order by c desc\n",
    "    limit 10;\n",
    "\"\"\", conn)\n",
    "\n",
    "top_10_project_json"
   ]
  },
  {
   "cell_type": "code",
   "execution_count": 27,
   "metadata": {},
   "outputs": [
    {
     "name": "stdout",
     "output_type": "stream",
     "text": [
      "<ol>\n",
      "<li><strong><a href='https://www.piwheels.org/project/awscrt'>awscrt</a></strong> (20,679)</li>\n",
      "<li><strong><a href='https://www.piwheels.org/project/numpy'>numpy</a></strong> (458)</li>\n",
      "<li><strong><a href='https://www.piwheels.org/project/opencv-contrib-python'>opencv-contrib-python</a></strong> (107)</li>\n",
      "<li><strong><a href='https://www.piwheels.org/project/v2ray-runtime-windows'>v2ray-runtime-windows</a></strong> (104)</li>\n",
      "<li><strong><a href='https://www.piwheels.org/project/requests-toolkit'>requests-toolkit</a></strong> (103)</li>\n",
      "<li><strong><a href='https://www.piwheels.org/project/github-http-api'>github-http-api</a></strong> (96)</li>\n",
      "<li><strong><a href='https://www.piwheels.org/project/bevy-events'>bevy-events</a></strong> (95)</li>\n",
      "<li><strong><a href='https://www.piwheels.org/project/newrelic-plugins-agent'>newrelic-plugins-agent</a></strong> (95)</li>\n",
      "<li><strong><a href='https://www.piwheels.org/project/v2ray-runtime'>v2ray-runtime</a></strong> (92)</li>\n",
      "<li><strong><a href='https://www.piwheels.org/project/protobuf'>protobuf</a></strong> (91)</li>\n",
      "</ol>\n"
     ]
    }
   ],
   "source": [
    "print(\"<ol>\")\n",
    "for pkg, c in top_10_project_json.values:\n",
    "    print(f\"<li><strong><a href='https://www.piwheels.org/project/{pkg}'>{pkg}</a></strong> ({c:,})</li>\")\n",
    "print(\"</ol>\")"
   ]
  },
  {
   "cell_type": "code",
   "execution_count": 28,
   "metadata": {},
   "outputs": [
    {
     "data": {
      "text/html": [
       "<div>\n",
       "<style scoped>\n",
       "    .dataframe tbody tr th:only-of-type {\n",
       "        vertical-align: middle;\n",
       "    }\n",
       "\n",
       "    .dataframe tbody tr th {\n",
       "        vertical-align: top;\n",
       "    }\n",
       "\n",
       "    .dataframe thead th {\n",
       "        text-align: right;\n",
       "    }\n",
       "</style>\n",
       "<table border=\"1\" class=\"dataframe\">\n",
       "  <thead>\n",
       "    <tr style=\"text-align: right;\">\n",
       "      <th></th>\n",
       "      <th>c</th>\n",
       "    </tr>\n",
       "  </thead>\n",
       "  <tbody>\n",
       "    <tr>\n",
       "      <th>0</th>\n",
       "      <td>320273</td>\n",
       "    </tr>\n",
       "  </tbody>\n",
       "</table>\n",
       "</div>"
      ],
      "text/plain": [
       "        c\n",
       "0  320273"
      ]
     },
     "execution_count": 28,
     "metadata": {},
     "output_type": "execute_result"
    }
   ],
   "source": [
    "pd.read_sql(f\"\"\"\n",
    "    select count(distinct(package)) c\n",
    "    from project_json_downloads\n",
    "    where accessed_at::date between '{start_date}' and '{end_date}'\n",
    "\"\"\", conn)"
   ]
  },
  {
   "cell_type": "code",
   "execution_count": 29,
   "metadata": {},
   "outputs": [
    {
     "data": {
      "text/html": [
       "<div>\n",
       "<style scoped>\n",
       "    .dataframe tbody tr th:only-of-type {\n",
       "        vertical-align: middle;\n",
       "    }\n",
       "\n",
       "    .dataframe tbody tr th {\n",
       "        vertical-align: top;\n",
       "    }\n",
       "\n",
       "    .dataframe thead th {\n",
       "        text-align: right;\n",
       "    }\n",
       "</style>\n",
       "<table border=\"1\" class=\"dataframe\">\n",
       "  <thead>\n",
       "    <tr style=\"text-align: right;\">\n",
       "      <th></th>\n",
       "      <th>user_agent</th>\n",
       "      <th>c</th>\n",
       "    </tr>\n",
       "  </thead>\n",
       "  <tbody>\n",
       "    <tr>\n",
       "      <th>0</th>\n",
       "      <td>python-requests</td>\n",
       "      <td>859378</td>\n",
       "    </tr>\n",
       "    <tr>\n",
       "      <th>1</th>\n",
       "      <td>mozilla</td>\n",
       "      <td>212817</td>\n",
       "    </tr>\n",
       "    <tr>\n",
       "      <th>2</th>\n",
       "      <td>python-urllib</td>\n",
       "      <td>21131</td>\n",
       "    </tr>\n",
       "    <tr>\n",
       "      <th>3</th>\n",
       "      <td>ccbot</td>\n",
       "      <td>982</td>\n",
       "    </tr>\n",
       "    <tr>\n",
       "      <th>4</th>\n",
       "      <td>clark-crawler2</td>\n",
       "      <td>55</td>\n",
       "    </tr>\n",
       "    <tr>\n",
       "      <th>5</th>\n",
       "      <td>node-fetch</td>\n",
       "      <td>25</td>\n",
       "    </tr>\n",
       "    <tr>\n",
       "      <th>6</th>\n",
       "      <td>tinybottestua</td>\n",
       "      <td>14</td>\n",
       "    </tr>\n",
       "    <tr>\n",
       "      <th>7</th>\n",
       "      <td>java</td>\n",
       "      <td>7</td>\n",
       "    </tr>\n",
       "    <tr>\n",
       "      <th>8</th>\n",
       "      <td>ahc</td>\n",
       "      <td>3</td>\n",
       "    </tr>\n",
       "    <tr>\n",
       "      <th>9</th>\n",
       "      <td>default</td>\n",
       "      <td>3</td>\n",
       "    </tr>\n",
       "    <tr>\n",
       "      <th>10</th>\n",
       "      <td>[object promise]</td>\n",
       "      <td>3</td>\n",
       "    </tr>\n",
       "    <tr>\n",
       "      <th>11</th>\n",
       "      <td>curl</td>\n",
       "      <td>2</td>\n",
       "    </tr>\n",
       "    <tr>\n",
       "      <th>12</th>\n",
       "      <td>wordpress</td>\n",
       "      <td>2</td>\n",
       "    </tr>\n",
       "    <tr>\n",
       "      <th>13</th>\n",
       "      <td>wget</td>\n",
       "      <td>2</td>\n",
       "    </tr>\n",
       "    <tr>\n",
       "      <th>14</th>\n",
       "      <td>inetdex bot</td>\n",
       "      <td>2</td>\n",
       "    </tr>\n",
       "    <tr>\n",
       "      <th>15</th>\n",
       "      <td>apache-httpclient</td>\n",
       "      <td>1</td>\n",
       "    </tr>\n",
       "    <tr>\n",
       "      <th>16</th>\n",
       "      <td>tinytestbot</td>\n",
       "      <td>1</td>\n",
       "    </tr>\n",
       "    <tr>\n",
       "      <th>17</th>\n",
       "      <td>com.google.drive.shareextension</td>\n",
       "      <td>1</td>\n",
       "    </tr>\n",
       "    <tr>\n",
       "      <th>18</th>\n",
       "      <td>dalvik</td>\n",
       "      <td>1</td>\n",
       "    </tr>\n",
       "    <tr>\n",
       "      <th>19</th>\n",
       "      <td>opera</td>\n",
       "      <td>1</td>\n",
       "    </tr>\n",
       "    <tr>\n",
       "      <th>20</th>\n",
       "      <td>grammarly</td>\n",
       "      <td>1</td>\n",
       "    </tr>\n",
       "  </tbody>\n",
       "</table>\n",
       "</div>"
      ],
      "text/plain": [
       "                         user_agent       c\n",
       "0                   python-requests  859378\n",
       "1                           mozilla  212817\n",
       "2                     python-urllib   21131\n",
       "3                             ccbot     982\n",
       "4                    clark-crawler2      55\n",
       "5                        node-fetch      25\n",
       "6                     tinybottestua      14\n",
       "7                              java       7\n",
       "8                               ahc       3\n",
       "9                           default       3\n",
       "10                 [object promise]       3\n",
       "11                             curl       2\n",
       "12                        wordpress       2\n",
       "13                             wget       2\n",
       "14                      inetdex bot       2\n",
       "15                apache-httpclient       1\n",
       "16                      tinytestbot       1\n",
       "17  com.google.drive.shareextension       1\n",
       "18                           dalvik       1\n",
       "19                            opera       1\n",
       "20                        grammarly       1"
      ]
     },
     "execution_count": 29,
     "metadata": {},
     "output_type": "execute_result"
    }
   ],
   "source": [
    "pd.read_sql(f\"\"\"\n",
    "    select user_agent, count(*) c\n",
    "    from project_json_downloads\n",
    "    where accessed_at::date between '{start_date}' and '{end_date}'\n",
    "    group by user_agent\n",
    "    order by c desc\n",
    "\"\"\", conn)"
   ]
  },
  {
   "cell_type": "code",
   "execution_count": 30,
   "metadata": {},
   "outputs": [
    {
     "data": {
      "text/html": [
       "<div>\n",
       "<style scoped>\n",
       "    .dataframe tbody tr th:only-of-type {\n",
       "        vertical-align: middle;\n",
       "    }\n",
       "\n",
       "    .dataframe tbody tr th {\n",
       "        vertical-align: top;\n",
       "    }\n",
       "\n",
       "    .dataframe thead th {\n",
       "        text-align: right;\n",
       "    }\n",
       "</style>\n",
       "<table border=\"1\" class=\"dataframe\">\n",
       "  <thead>\n",
       "    <tr style=\"text-align: right;\">\n",
       "      <th></th>\n",
       "      <th>os_name</th>\n",
       "      <th>c</th>\n",
       "    </tr>\n",
       "  </thead>\n",
       "  <tbody>\n",
       "    <tr>\n",
       "      <th>0</th>\n",
       "      <td>Linux</td>\n",
       "      <td>48221974</td>\n",
       "    </tr>\n",
       "    <tr>\n",
       "      <th>1</th>\n",
       "      <td>Windows</td>\n",
       "      <td>12494</td>\n",
       "    </tr>\n",
       "    <tr>\n",
       "      <th>2</th>\n",
       "      <td>FreeBSD</td>\n",
       "      <td>12372</td>\n",
       "    </tr>\n",
       "    <tr>\n",
       "      <th>3</th>\n",
       "      <td>Darwin</td>\n",
       "      <td>9978</td>\n",
       "    </tr>\n",
       "    <tr>\n",
       "      <th>4</th>\n",
       "      <td>Open Surface RT - Linux</td>\n",
       "      <td>112</td>\n",
       "    </tr>\n",
       "    <tr>\n",
       "      <th>5</th>\n",
       "      <td>CYGWIN_NT-10.0-18363</td>\n",
       "      <td>17</td>\n",
       "    </tr>\n",
       "    <tr>\n",
       "      <th>6</th>\n",
       "      <td>CYGWIN_NT-10.0-19042</td>\n",
       "      <td>4</td>\n",
       "    </tr>\n",
       "    <tr>\n",
       "      <th>7</th>\n",
       "      <td>None</td>\n",
       "      <td>1</td>\n",
       "    </tr>\n",
       "  </tbody>\n",
       "</table>\n",
       "</div>"
      ],
      "text/plain": [
       "                   os_name         c\n",
       "0                    Linux  48221974\n",
       "1                  Windows     12494\n",
       "2                  FreeBSD     12372\n",
       "3                   Darwin      9978\n",
       "4  Open Surface RT - Linux       112\n",
       "5     CYGWIN_NT-10.0-18363        17\n",
       "6     CYGWIN_NT-10.0-19042         4\n",
       "7                     None         1"
      ]
     },
     "execution_count": 30,
     "metadata": {},
     "output_type": "execute_result"
    }
   ],
   "source": [
    "os_usage = pd.read_sql(f\"\"\"\n",
    "    select os_name, count(*) c\n",
    "    from searches\n",
    "    where accessed_at >= '{start_time}' AND accessed_at < '{end_time}'\n",
    "    group by os_name\n",
    "    order by c desc\n",
    "\"\"\", conn)\n",
    "\n",
    "os_usage"
   ]
  },
  {
   "cell_type": "code",
   "execution_count": 31,
   "metadata": {},
   "outputs": [
    {
     "name": "stdout",
     "output_type": "stream",
     "text": [
      "99.93% linux\n"
     ]
    }
   ],
   "source": [
    "linux_usage_pc = 100 * (os_usage.values[0][1] / searches)\n",
    "print(f'{linux_usage_pc:2.2f}% linux')"
   ]
  },
  {
   "cell_type": "code",
   "execution_count": 32,
   "metadata": {},
   "outputs": [
    {
     "data": {
      "text/html": [
       "<div>\n",
       "<style scoped>\n",
       "    .dataframe tbody tr th:only-of-type {\n",
       "        vertical-align: middle;\n",
       "    }\n",
       "\n",
       "    .dataframe tbody tr th {\n",
       "        vertical-align: top;\n",
       "    }\n",
       "\n",
       "    .dataframe thead th {\n",
       "        text-align: right;\n",
       "    }\n",
       "</style>\n",
       "<table border=\"1\" class=\"dataframe\">\n",
       "  <thead>\n",
       "    <tr style=\"text-align: right;\">\n",
       "      <th></th>\n",
       "      <th>distro_name</th>\n",
       "      <th>c</th>\n",
       "    </tr>\n",
       "  </thead>\n",
       "  <tbody>\n",
       "    <tr>\n",
       "      <th>0</th>\n",
       "      <td>Raspbian GNU/Linux</td>\n",
       "      <td>42562444</td>\n",
       "    </tr>\n",
       "    <tr>\n",
       "      <th>1</th>\n",
       "      <td>Debian GNU/Linux</td>\n",
       "      <td>5240197</td>\n",
       "    </tr>\n",
       "    <tr>\n",
       "      <th>2</th>\n",
       "      <td>Ubuntu</td>\n",
       "      <td>305544</td>\n",
       "    </tr>\n",
       "    <tr>\n",
       "      <th>3</th>\n",
       "      <td>OSMC</td>\n",
       "      <td>28180</td>\n",
       "    </tr>\n",
       "    <tr>\n",
       "      <th>4</th>\n",
       "      <td>CentOS Linux</td>\n",
       "      <td>26462</td>\n",
       "    </tr>\n",
       "  </tbody>\n",
       "</table>\n",
       "</div>"
      ],
      "text/plain": [
       "          distro_name         c\n",
       "0  Raspbian GNU/Linux  42562444\n",
       "1    Debian GNU/Linux   5240197\n",
       "2              Ubuntu    305544\n",
       "3                OSMC     28180\n",
       "4        CentOS Linux     26462"
      ]
     },
     "execution_count": 32,
     "metadata": {},
     "output_type": "execute_result"
    }
   ],
   "source": [
    "distro_usage = pd.read_sql(f\"\"\"\n",
    "    select distro_name, count(*) c\n",
    "    from searches\n",
    "    where accessed_at >= '{start_time}' AND accessed_at < '{end_time}'\n",
    "    and os_name = 'Linux'\n",
    "    group by distro_name\n",
    "    order by c desc\n",
    "    limit 5\n",
    "\"\"\", conn)\n",
    "\n",
    "distro_usage"
   ]
  },
  {
   "cell_type": "code",
   "execution_count": 33,
   "metadata": {},
   "outputs": [
    {
     "data": {
      "text/html": [
       "<div>\n",
       "<style scoped>\n",
       "    .dataframe tbody tr th:only-of-type {\n",
       "        vertical-align: middle;\n",
       "    }\n",
       "\n",
       "    .dataframe tbody tr th {\n",
       "        vertical-align: top;\n",
       "    }\n",
       "\n",
       "    .dataframe thead th {\n",
       "        text-align: right;\n",
       "    }\n",
       "</style>\n",
       "<table border=\"1\" class=\"dataframe\">\n",
       "  <thead>\n",
       "    <tr style=\"text-align: right;\">\n",
       "      <th></th>\n",
       "      <th>c</th>\n",
       "    </tr>\n",
       "  </thead>\n",
       "  <tbody>\n",
       "    <tr>\n",
       "      <th>0</th>\n",
       "      <td>47802641</td>\n",
       "    </tr>\n",
       "  </tbody>\n",
       "</table>\n",
       "</div>"
      ],
      "text/plain": [
       "          c\n",
       "0  47802641"
      ]
     },
     "execution_count": 33,
     "metadata": {},
     "output_type": "execute_result"
    }
   ],
   "source": [
    "debian_usage = pd.read_sql(f\"\"\"\n",
    "    select count(*) c\n",
    "    from searches\n",
    "    where accessed_at >= '{start_time}' AND accessed_at < '{end_time}'\n",
    "    and os_name = 'Linux'\n",
    "    and distro_name in ('Raspbian GNU/Linux', 'Debian GNU/Linux')\n",
    "    order by c desc\n",
    "    limit 5\n",
    "\"\"\", conn)\n",
    "\n",
    "debian_usage"
   ]
  },
  {
   "cell_type": "code",
   "execution_count": 34,
   "metadata": {},
   "outputs": [
    {
     "name": "stdout",
     "output_type": "stream",
     "text": [
      "99.06% debian\n"
     ]
    }
   ],
   "source": [
    "debian_usage_pc = 100 * (debian_usage.c[0] / searches)\n",
    "print(f'{debian_usage_pc:2.2f}% debian')"
   ]
  },
  {
   "cell_type": "code",
   "execution_count": 35,
   "metadata": {},
   "outputs": [
    {
     "name": "stdout",
     "output_type": "stream",
     "text": [
      "0.63% ubuntu\n"
     ]
    }
   ],
   "source": [
    "ubuntu_usage = pd.read_sql(f\"\"\"\n",
    "    select count(*) c\n",
    "    from searches\n",
    "    where accessed_at >= '{start_time}' AND accessed_at < '{end_time}'\n",
    "    and os_name = 'Linux'\n",
    "    and distro_name = 'Ubuntu'\n",
    "    order by c desc\n",
    "    limit 5\n",
    "\"\"\", conn)\n",
    "\n",
    "ubuntu_usage_pc = 100 * (ubuntu_usage.c[0] / searches)\n",
    "print(f'{ubuntu_usage_pc:2.2f}% ubuntu')"
   ]
  },
  {
   "cell_type": "code",
   "execution_count": 74,
   "metadata": {},
   "outputs": [
    {
     "data": {
      "text/plain": [
       "{'Debian / Raspberry Pi OS': 47802641, 'Others': 454311}"
      ]
     },
     "execution_count": 74,
     "metadata": {},
     "output_type": "execute_result"
    }
   ],
   "source": [
    "debian = debian_usage.values[0][0]\n",
    "others = searches - debian\n",
    "\n",
    "distro_usage = {\n",
    "    'Debian / Raspberry Pi OS': debian,\n",
    "    'Others': others,\n",
    "}\n",
    "\n",
    "distro_usage"
   ]
  },
  {
   "cell_type": "code",
   "execution_count": 75,
   "metadata": {},
   "outputs": [
    {
     "data": {
      "image/png": "[encoded data removed]",
      "text/plain": [
       "<Figure size 720x432 with 1 Axes>"
      ]
     },
     "metadata": {},
     "output_type": "display_data"
    }
   ],
   "source": [
    "plt.pie(distro_usage.values(), labels=distro_usage.keys())\n",
    "plt.title('Linux distro usage')\n",
    "\n",
    "plt.savefig('distro-usage.png')\n",
    "\n",
    "plt.show()"
   ]
  },
  {
   "cell_type": "code",
   "execution_count": 38,
   "metadata": {},
   "outputs": [
    {
     "data": {
      "text/html": [
       "<div>\n",
       "<style scoped>\n",
       "    .dataframe tbody tr th:only-of-type {\n",
       "        vertical-align: middle;\n",
       "    }\n",
       "\n",
       "    .dataframe tbody tr th {\n",
       "        vertical-align: top;\n",
       "    }\n",
       "\n",
       "    .dataframe thead th {\n",
       "        text-align: right;\n",
       "    }\n",
       "</style>\n",
       "<table border=\"1\" class=\"dataframe\">\n",
       "  <thead>\n",
       "    <tr style=\"text-align: right;\">\n",
       "      <th></th>\n",
       "      <th>distro_version</th>\n",
       "      <th>c</th>\n",
       "    </tr>\n",
       "  </thead>\n",
       "  <tbody>\n",
       "    <tr>\n",
       "      <th>0</th>\n",
       "      <td>10</td>\n",
       "      <td>43096039</td>\n",
       "    </tr>\n",
       "    <tr>\n",
       "      <th>1</th>\n",
       "      <td>9</td>\n",
       "      <td>3055783</td>\n",
       "    </tr>\n",
       "    <tr>\n",
       "      <th>2</th>\n",
       "      <td>8</td>\n",
       "      <td>447</td>\n",
       "    </tr>\n",
       "  </tbody>\n",
       "</table>\n",
       "</div>"
      ],
      "text/plain": [
       "  distro_version         c\n",
       "0             10  43096039\n",
       "1              9   3055783\n",
       "2              8       447"
      ]
     },
     "execution_count": 38,
     "metadata": {},
     "output_type": "execute_result"
    }
   ],
   "source": [
    "distro_versions = pd.read_sql(f\"\"\"\n",
    "    select distro_version, count(*) c\n",
    "    from searches\n",
    "    where accessed_at >= '{start_time}' AND accessed_at < '{end_time}'\n",
    "    and os_name = 'Linux'\n",
    "    and distro_name in ('Raspbian GNU/Linux', 'Debian GNU/Linux')\n",
    "    and distro_version in ('8', '9', '10')\n",
    "    group by distro_version\n",
    "    order by c desc\n",
    "\"\"\", conn)\n",
    "\n",
    "distro_versions"
   ]
  },
  {
   "cell_type": "code",
   "execution_count": 39,
   "metadata": {},
   "outputs": [
    {
     "name": "stdout",
     "output_type": "stream",
     "text": [
      "10 93.4%\n",
      "9 6.6%\n",
      "8 0.0%\n"
     ]
    }
   ],
   "source": [
    "total = sum(distro_versions.c)\n",
    "\n",
    "for v in distro_versions.values:\n",
    "    print(v[0], f'{(100 * v[1] / total):.1f}%')"
   ]
  },
  {
   "cell_type": "code",
   "execution_count": 76,
   "metadata": {},
   "outputs": [
    {
     "data": {
      "image/png": "[encoded data removed]",
      "text/plain": [
       "<Figure size 720x432 with 1 Axes>"
      ]
     },
     "metadata": {},
     "output_type": "display_data"
    }
   ],
   "source": [
    "version_names = {'10': 'Buster', '9': 'Stretch', '8': 'Jessie'}\n",
    "plt.pie(distro_versions.c[:2], labels=[version_names[v] for v in distro_versions.distro_version][:2])\n",
    "plt.title('Raspbian/Debian version usage')\n",
    "\n",
    "plt.savefig('debian-usage.png')\n",
    "\n",
    "plt.show()"
   ]
  },
  {
   "cell_type": "code",
   "execution_count": 41,
   "metadata": {},
   "outputs": [
    {
     "data": {
      "text/html": [
       "<div>\n",
       "<style scoped>\n",
       "    .dataframe tbody tr th:only-of-type {\n",
       "        vertical-align: middle;\n",
       "    }\n",
       "\n",
       "    .dataframe tbody tr th {\n",
       "        vertical-align: top;\n",
       "    }\n",
       "\n",
       "    .dataframe thead th {\n",
       "        text-align: right;\n",
       "    }\n",
       "</style>\n",
       "<table border=\"1\" class=\"dataframe\">\n",
       "  <thead>\n",
       "    <tr style=\"text-align: right;\">\n",
       "      <th></th>\n",
       "      <th>arch</th>\n",
       "      <th>c</th>\n",
       "    </tr>\n",
       "  </thead>\n",
       "  <tbody>\n",
       "    <tr>\n",
       "      <th>0</th>\n",
       "      <td>armv7l</td>\n",
       "      <td>34280447</td>\n",
       "    </tr>\n",
       "    <tr>\n",
       "      <th>1</th>\n",
       "      <td>aarch64</td>\n",
       "      <td>9220922</td>\n",
       "    </tr>\n",
       "    <tr>\n",
       "      <th>2</th>\n",
       "      <td>x86_64</td>\n",
       "      <td>3025941</td>\n",
       "    </tr>\n",
       "    <tr>\n",
       "      <th>3</th>\n",
       "      <td>armv6l</td>\n",
       "      <td>1646874</td>\n",
       "    </tr>\n",
       "    <tr>\n",
       "      <th>4</th>\n",
       "      <td>i686</td>\n",
       "      <td>33443</td>\n",
       "    </tr>\n",
       "    <tr>\n",
       "      <th>5</th>\n",
       "      <td>armv8l</td>\n",
       "      <td>21254</td>\n",
       "    </tr>\n",
       "    <tr>\n",
       "      <th>6</th>\n",
       "      <td>AMD64</td>\n",
       "      <td>12494</td>\n",
       "    </tr>\n",
       "    <tr>\n",
       "      <th>7</th>\n",
       "      <td>amd64</td>\n",
       "      <td>12372</td>\n",
       "    </tr>\n",
       "    <tr>\n",
       "      <th>8</th>\n",
       "      <td>arm64</td>\n",
       "      <td>2699</td>\n",
       "    </tr>\n",
       "    <tr>\n",
       "      <th>9</th>\n",
       "      <td>ppc64</td>\n",
       "      <td>317</td>\n",
       "    </tr>\n",
       "    <tr>\n",
       "      <th>10</th>\n",
       "      <td>arm</td>\n",
       "      <td>144</td>\n",
       "    </tr>\n",
       "    <tr>\n",
       "      <th>11</th>\n",
       "      <td>mips</td>\n",
       "      <td>31</td>\n",
       "    </tr>\n",
       "    <tr>\n",
       "      <th>12</th>\n",
       "      <td>armv8</td>\n",
       "      <td>8</td>\n",
       "    </tr>\n",
       "    <tr>\n",
       "      <th>13</th>\n",
       "      <td>ppc64le</td>\n",
       "      <td>5</td>\n",
       "    </tr>\n",
       "    <tr>\n",
       "      <th>14</th>\n",
       "      <td>None</td>\n",
       "      <td>1</td>\n",
       "    </tr>\n",
       "  </tbody>\n",
       "</table>\n",
       "</div>"
      ],
      "text/plain": [
       "       arch         c\n",
       "0    armv7l  34280447\n",
       "1   aarch64   9220922\n",
       "2    x86_64   3025941\n",
       "3    armv6l   1646874\n",
       "4      i686     33443\n",
       "5    armv8l     21254\n",
       "6     AMD64     12494\n",
       "7     amd64     12372\n",
       "8     arm64      2699\n",
       "9     ppc64       317\n",
       "10      arm       144\n",
       "11     mips        31\n",
       "12    armv8         8\n",
       "13  ppc64le         5\n",
       "14     None         1"
      ]
     },
     "execution_count": 41,
     "metadata": {},
     "output_type": "execute_result"
    }
   ],
   "source": [
    "arch = pd.read_sql(f\"\"\"\n",
    "    select arch, count(*) c\n",
    "    from searches\n",
    "    where accessed_at >= '{start_time}' AND accessed_at < '{end_time}'\n",
    "    group by arch\n",
    "    order by c desc\n",
    "\"\"\", conn)\n",
    "\n",
    "arch"
   ]
  },
  {
   "cell_type": "code",
   "execution_count": 67,
   "metadata": {},
   "outputs": [
    {
     "data": {
      "image/png": "[encoded data removed]",
      "text/plain": [
       "<Figure size 720x432 with 1 Axes>"
      ]
     },
     "metadata": {},
     "output_type": "display_data"
    }
   ],
   "source": [
    "plt.pie(arch.c[:4], labels=arch.arch[:4])\n",
    "plt.title('Architecture usage')\n",
    "\n",
    "plt.savefig('arch.png')\n",
    "\n",
    "plt.show()"
   ]
  },
  {
   "cell_type": "code",
   "execution_count": 43,
   "metadata": {},
   "outputs": [
    {
     "name": "stdout",
     "output_type": "stream",
     "text": [
      "armv7l 76.0%\n",
      "aarch64 20.3%\n",
      "armv6l 3.6%\n"
     ]
    }
   ],
   "source": [
    "arm_arch = pd.read_sql(f\"\"\"\n",
    "    select arch, count(*) c\n",
    "    from searches\n",
    "    where accessed_at >= '{start_time}' AND accessed_at < '{end_time}'\n",
    "    and os_name = 'Linux'\n",
    "    and distro_name in ('Raspbian GNU/Linux', 'Debian GNU/Linux')\n",
    "    and arch in ('armv6l', 'armv7l', 'aarch64')\n",
    "    group by arch\n",
    "    order by c desc\n",
    "\"\"\", conn)\n",
    "\n",
    "total = sum(arm_arch.c)\n",
    "\n",
    "for v in arm_arch.values:\n",
    "    print(v[0], f'{(100 * v[1] / total):.1f}%') "
   ]
  },
  {
   "cell_type": "code",
   "execution_count": 68,
   "metadata": {},
   "outputs": [
    {
     "data": {
      "image/png": "[encoded data removed]",
      "text/plain": [
       "<Figure size 720x432 with 1 Axes>"
      ]
     },
     "metadata": {},
     "output_type": "display_data"
    }
   ],
   "source": [
    "plt.pie(arm_arch.c, labels=arm_arch.arch)\n",
    "plt.title('PiOS/Debian Arm architecture usage')\n",
    "\n",
    "plt.savefig('debian-arch.png')\n",
    "\n",
    "plt.show()"
   ]
  },
  {
   "cell_type": "code",
   "execution_count": 45,
   "metadata": {},
   "outputs": [
    {
     "data": {
      "text/html": [
       "<div>\n",
       "<style scoped>\n",
       "    .dataframe tbody tr th:only-of-type {\n",
       "        vertical-align: middle;\n",
       "    }\n",
       "\n",
       "    .dataframe tbody tr th {\n",
       "        vertical-align: top;\n",
       "    }\n",
       "\n",
       "    .dataframe thead th {\n",
       "        text-align: right;\n",
       "    }\n",
       "</style>\n",
       "<table border=\"1\" class=\"dataframe\">\n",
       "  <thead>\n",
       "    <tr style=\"text-align: right;\">\n",
       "      <th></th>\n",
       "      <th>pyver</th>\n",
       "      <th>c</th>\n",
       "    </tr>\n",
       "  </thead>\n",
       "  <tbody>\n",
       "    <tr>\n",
       "      <th>0</th>\n",
       "      <td>3.7</td>\n",
       "      <td>31147542</td>\n",
       "    </tr>\n",
       "    <tr>\n",
       "      <th>1</th>\n",
       "      <td>2.7</td>\n",
       "      <td>5243826</td>\n",
       "    </tr>\n",
       "    <tr>\n",
       "      <th>2</th>\n",
       "      <td>3.8</td>\n",
       "      <td>4595643</td>\n",
       "    </tr>\n",
       "    <tr>\n",
       "      <th>3</th>\n",
       "      <td>3.9</td>\n",
       "      <td>2154373</td>\n",
       "    </tr>\n",
       "    <tr>\n",
       "      <th>4</th>\n",
       "      <td>3.5</td>\n",
       "      <td>1656419</td>\n",
       "    </tr>\n",
       "    <tr>\n",
       "      <th>5</th>\n",
       "      <td>3.6</td>\n",
       "      <td>195502</td>\n",
       "    </tr>\n",
       "  </tbody>\n",
       "</table>\n",
       "</div>"
      ],
      "text/plain": [
       "  pyver         c\n",
       "0   3.7  31147542\n",
       "1   2.7   5243826\n",
       "2   3.8   4595643\n",
       "3   3.9   2154373\n",
       "4   3.5   1656419\n",
       "5   3.6    195502"
      ]
     },
     "execution_count": 45,
     "metadata": {},
     "output_type": "execute_result"
    }
   ],
   "source": [
    "py_vers = pd.read_sql(f\"\"\"\n",
    "    select substring(py_version from 1 for 3) pyver, count(*) c\n",
    "    from searches\n",
    "    where accessed_at >= '{start_time}' AND accessed_at < '{end_time}'\n",
    "    and os_name = 'Linux'\n",
    "    and distro_name in ('Raspbian GNU/Linux', 'Debian GNU/Linux')\n",
    "    and arch in ('armv6l', 'armv7l', 'aarch64')\n",
    "    and py_name = 'CPython'\n",
    "    group by pyver\n",
    "    order by c desc\n",
    "    limit 6\n",
    "\"\"\", conn)\n",
    "\n",
    "py_vers"
   ]
  },
  {
   "cell_type": "code",
   "execution_count": 69,
   "metadata": {},
   "outputs": [
    {
     "data": {
      "image/png": "[encoded data removed]",
      "text/plain": [
       "<Figure size 720x432 with 1 Axes>"
      ]
     },
     "metadata": {},
     "output_type": "display_data"
    }
   ],
   "source": [
    "plt.pie(py_vers.c, labels=py_vers.pyver)\n",
    "plt.title('Python version usage')\n",
    "\n",
    "plt.savefig('py-vers.png')\n",
    "\n",
    "plt.show()"
   ]
  },
  {
   "cell_type": "code",
   "execution_count": 47,
   "metadata": {},
   "outputs": [
    {
     "name": "stdout",
     "output_type": "stream",
     "text": [
      "3.7 69.23%\n",
      "2.7 11.65%\n",
      "3.8 10.21%\n",
      "3.9 4.79%\n",
      "3.5 3.68%\n",
      "3.6 0.43%\n"
     ]
    }
   ],
   "source": [
    "total = sum(row[1] for row in py_vers.values)\n",
    "\n",
    "for ver, c in py_vers.values:\n",
    "    print(ver, f'{100 * (c / total):.2f}%')"
   ]
  },
  {
   "cell_type": "code",
   "execution_count": 48,
   "metadata": {},
   "outputs": [
    {
     "data": {
      "text/html": [
       "<div>\n",
       "<style scoped>\n",
       "    .dataframe tbody tr th:only-of-type {\n",
       "        vertical-align: middle;\n",
       "    }\n",
       "\n",
       "    .dataframe tbody tr th {\n",
       "        vertical-align: top;\n",
       "    }\n",
       "\n",
       "    .dataframe thead th {\n",
       "        text-align: right;\n",
       "    }\n",
       "</style>\n",
       "<table border=\"1\" class=\"dataframe\">\n",
       "  <thead>\n",
       "    <tr style=\"text-align: right;\">\n",
       "      <th></th>\n",
       "      <th>installer_version</th>\n",
       "      <th>c</th>\n",
       "    </tr>\n",
       "  </thead>\n",
       "  <tbody>\n",
       "    <tr>\n",
       "      <th>0</th>\n",
       "      <td>18.1</td>\n",
       "      <td>11070109</td>\n",
       "    </tr>\n",
       "    <tr>\n",
       "      <th>1</th>\n",
       "      <td>21.2.4</td>\n",
       "      <td>9608094</td>\n",
       "    </tr>\n",
       "    <tr>\n",
       "      <th>2</th>\n",
       "      <td>21.1.3</td>\n",
       "      <td>8857941</td>\n",
       "    </tr>\n",
       "    <tr>\n",
       "      <th>3</th>\n",
       "      <td>21.1.2</td>\n",
       "      <td>3928579</td>\n",
       "    </tr>\n",
       "    <tr>\n",
       "      <th>4</th>\n",
       "      <td>21.2.3</td>\n",
       "      <td>1806022</td>\n",
       "    </tr>\n",
       "    <tr>\n",
       "      <th>5</th>\n",
       "      <td>21.2.1</td>\n",
       "      <td>1765630</td>\n",
       "    </tr>\n",
       "    <tr>\n",
       "      <th>6</th>\n",
       "      <td>21.2.2</td>\n",
       "      <td>1726675</td>\n",
       "    </tr>\n",
       "    <tr>\n",
       "      <th>7</th>\n",
       "      <td>9.0.1</td>\n",
       "      <td>1484950</td>\n",
       "    </tr>\n",
       "    <tr>\n",
       "      <th>8</th>\n",
       "      <td>19.0.1</td>\n",
       "      <td>1384180</td>\n",
       "    </tr>\n",
       "    <tr>\n",
       "      <th>9</th>\n",
       "      <td>20.3.4</td>\n",
       "      <td>1166210</td>\n",
       "    </tr>\n",
       "  </tbody>\n",
       "</table>\n",
       "</div>"
      ],
      "text/plain": [
       "  installer_version         c\n",
       "0              18.1  11070109\n",
       "1            21.2.4   9608094\n",
       "2            21.1.3   8857941\n",
       "3            21.1.2   3928579\n",
       "4            21.2.3   1806022\n",
       "5            21.2.1   1765630\n",
       "6            21.2.2   1726675\n",
       "7             9.0.1   1484950\n",
       "8            19.0.1   1384180\n",
       "9            20.3.4   1166210"
      ]
     },
     "execution_count": 48,
     "metadata": {},
     "output_type": "execute_result"
    }
   ],
   "source": [
    "pip_versions = pd.read_sql(f\"\"\"\n",
    "    select installer_version, count(*) c\n",
    "    from searches\n",
    "    where accessed_at >= '{start_time}' AND accessed_at < '{end_time}'\n",
    "    and installer_name = 'pip'\n",
    "    and installer_version is not null\n",
    "    group by installer_version\n",
    "    order by c desc\n",
    "\"\"\", conn)\n",
    "\n",
    "pip_versions[:10]"
   ]
  },
  {
   "cell_type": "code",
   "execution_count": 70,
   "metadata": {},
   "outputs": [
    {
     "data": {
      "image/png": "[encoded data removed]",
      "text/plain": [
       "<Figure size 720x432 with 1 Axes>"
      ]
     },
     "metadata": {},
     "output_type": "display_data"
    }
   ],
   "source": [
    "total = sum(v[1] for v in pip_versions.values)\n",
    "labels = [v[0] if v[1] / total > 0.01 else '' for v in pip_versions.values]\n",
    "\n",
    "plt.pie(pip_versions.c, labels=labels)\n",
    "plt.title('pip version usage')\n",
    "\n",
    "plt.savefig('pip-vers.png')\n",
    "\n",
    "plt.show()"
   ]
  },
  {
   "cell_type": "code",
   "execution_count": 50,
   "metadata": {},
   "outputs": [
    {
     "data": {
      "text/html": [
       "<div>\n",
       "<style scoped>\n",
       "    .dataframe tbody tr th:only-of-type {\n",
       "        vertical-align: middle;\n",
       "    }\n",
       "\n",
       "    .dataframe tbody tr th {\n",
       "        vertical-align: top;\n",
       "    }\n",
       "\n",
       "    .dataframe thead th {\n",
       "        text-align: right;\n",
       "    }\n",
       "</style>\n",
       "<table border=\"1\" class=\"dataframe\">\n",
       "  <thead>\n",
       "    <tr style=\"text-align: right;\">\n",
       "      <th></th>\n",
       "      <th>setuptools_version</th>\n",
       "      <th>c</th>\n",
       "    </tr>\n",
       "  </thead>\n",
       "  <tbody>\n",
       "    <tr>\n",
       "      <th>0</th>\n",
       "      <td>40.8.0</td>\n",
       "      <td>20245839</td>\n",
       "    </tr>\n",
       "    <tr>\n",
       "      <th>1</th>\n",
       "      <td>57.4.0</td>\n",
       "      <td>8555846</td>\n",
       "    </tr>\n",
       "    <tr>\n",
       "      <th>2</th>\n",
       "      <td>41.2.0</td>\n",
       "      <td>3215939</td>\n",
       "    </tr>\n",
       "    <tr>\n",
       "      <th>3</th>\n",
       "      <td>57.1.0</td>\n",
       "      <td>2159879</td>\n",
       "    </tr>\n",
       "    <tr>\n",
       "      <th>4</th>\n",
       "      <td>57.0.0</td>\n",
       "      <td>1667188</td>\n",
       "    </tr>\n",
       "    <tr>\n",
       "      <th>5</th>\n",
       "      <td>40.7.1</td>\n",
       "      <td>1379115</td>\n",
       "    </tr>\n",
       "    <tr>\n",
       "      <th>6</th>\n",
       "      <td>49.2.1</td>\n",
       "      <td>1192779</td>\n",
       "    </tr>\n",
       "    <tr>\n",
       "      <th>7</th>\n",
       "      <td>57.2.0</td>\n",
       "      <td>723296</td>\n",
       "    </tr>\n",
       "    <tr>\n",
       "      <th>8</th>\n",
       "      <td>56.0.0</td>\n",
       "      <td>684684</td>\n",
       "    </tr>\n",
       "    <tr>\n",
       "      <th>9</th>\n",
       "      <td>51.1.2</td>\n",
       "      <td>671373</td>\n",
       "    </tr>\n",
       "  </tbody>\n",
       "</table>\n",
       "</div>"
      ],
      "text/plain": [
       "  setuptools_version         c\n",
       "0             40.8.0  20245839\n",
       "1             57.4.0   8555846\n",
       "2             41.2.0   3215939\n",
       "3             57.1.0   2159879\n",
       "4             57.0.0   1667188\n",
       "5             40.7.1   1379115\n",
       "6             49.2.1   1192779\n",
       "7             57.2.0    723296\n",
       "8             56.0.0    684684\n",
       "9             51.1.2    671373"
      ]
     },
     "execution_count": 50,
     "metadata": {},
     "output_type": "execute_result"
    }
   ],
   "source": [
    "setuptools_versions = pd.read_sql(f\"\"\"\n",
    "    select setuptools_version, count(*) c\n",
    "    from searches\n",
    "    where accessed_at >= '{start_time}' AND accessed_at < '{end_time}'\n",
    "    and installer_name = 'pip'\n",
    "    and setuptools_version is not null\n",
    "    group by setuptools_version\n",
    "    order by c desc\n",
    "\"\"\", conn)\n",
    "\n",
    "setuptools_versions[:10]"
   ]
  },
  {
   "cell_type": "code",
   "execution_count": 71,
   "metadata": {},
   "outputs": [
    {
     "data": {
      "image/png": "[encoded data removed]",
      "text/plain": [
       "<Figure size 720x432 with 1 Axes>"
      ]
     },
     "metadata": {},
     "output_type": "display_data"
    }
   ],
   "source": [
    "total = sum(v[1] for v in setuptools_versions.values)\n",
    "labels = [v[0] if v[1] / total > 0.03 else '' for v in setuptools_versions.values]\n",
    "\n",
    "plt.pie(setuptools_versions.c, labels=labels)\n",
    "plt.title('setuptools version usage')\n",
    "\n",
    "plt.savefig('setuptools-vers.png')\n",
    "\n",
    "plt.show()"
   ]
  },
  {
   "cell_type": "code",
   "execution_count": 52,
   "metadata": {},
   "outputs": [],
   "source": [
    "import csv\n",
    "from glob import glob\n",
    "from collections import defaultdict"
   ]
  },
  {
   "cell_type": "code",
   "execution_count": 53,
   "metadata": {},
   "outputs": [],
   "source": [
    "ONE_TB = 1e12\n",
    "months = ('202007', '202008', '202009', '202010', '202011', '202012', '202101', '202102', '202103', '202104', '202105', '202106', '202107', '202108', '202109')\n",
    "\n",
    "bandwidth = {}\n",
    "bandwidth_totals = defaultdict(int)\n",
    "for month in months:\n",
    "    bandwidth[month] = defaultdict(int)\n",
    "    files = glob('/home/ben/piwheels-logs/' + month + '/*-sizes.csv')\n",
    "    for file in files:\n",
    "        with open(file) as f:\n",
    "            r = csv.reader(f)\n",
    "            for log_type, count in r:\n",
    "                bandwidth[month][log_type] += int(count)\n",
    "                bandwidth_totals[month] += int(count) / ONE_TB"
   ]
  },
  {
   "cell_type": "code",
   "execution_count": 54,
   "metadata": {},
   "outputs": [
    {
     "name": "stdout",
     "output_type": "stream",
     "text": [
      "202007 3.92 TB\n",
      "202008 6.38 TB\n",
      "202009 6.27 TB\n",
      "202010 6.58 TB\n",
      "202011 4.43 TB\n",
      "202012 3.32 TB\n",
      "202101 3.79 TB\n",
      "202102 5.87 TB\n",
      "202103 7.07 TB\n",
      "202104 5.35 TB\n",
      "202105 4.82 TB\n",
      "202106 4.72 TB\n",
      "202107 4.02 TB\n",
      "202108 4.29 TB\n",
      "202109 3.91 TB\n"
     ]
    }
   ],
   "source": [
    "for month, data in bandwidth_totals.items():\n",
    "    print(month, f'{data:.2f} TB')"
   ]
  },
  {
   "cell_type": "code",
   "execution_count": 55,
   "metadata": {},
   "outputs": [
    {
     "data": {
      "text/plain": [
       "{'pip downloads': 9366969296154,\n",
       " 'Misc': 2446768732550,\n",
       " 'Searches': 387471006722,\n",
       " '': 16139500833}"
      ]
     },
     "execution_count": 55,
     "metadata": {},
     "output_type": "execute_result"
    }
   ],
   "source": [
    "m1, m2, m3 = months[-3:]\n",
    "\n",
    "bandwidth_in_period = {\n",
    "    'pip downloads': bandwidth[m1]['LOGDOWNLOAD'] + bandwidth[m2]['LOGDOWNLOAD'] + bandwidth[m3]['LOGDOWNLOAD'],\n",
    "    'Misc': bandwidth[m1]['OTHER'] + bandwidth[m2]['OTHER'] + bandwidth[m3]['OTHER'],\n",
    "    'Searches': bandwidth[m1]['LOGSEARCH'] + bandwidth[m2]['LOGSEARCH'] + bandwidth[m3]['LOGSEARCH'],\n",
    "    '': (\n",
    "        bandwidth[m1]['LOGPROJECT'] + bandwidth[m2]['LOGPROJECT'] + bandwidth[m3]['LOGPROJECT'] +\n",
    "        bandwidth[m1]['LOGJSON'] + bandwidth[m2]['LOGJSON'] + bandwidth[m3]['LOGJSON'] +\n",
    "        bandwidth[m1]['LOGPAGE'] + bandwidth[m2]['LOGPAGE'] + bandwidth[m3]['LOGPAGE']\n",
    "    ),\n",
    "}\n",
    "\n",
    "bandwidth_in_period"
   ]
  },
  {
   "cell_type": "code",
   "execution_count": 72,
   "metadata": {},
   "outputs": [
    {
     "data": {
      "image/png": "[encoded data removed]",
      "text/plain": [
       "<Figure size 720x432 with 1 Axes>"
      ]
     },
     "metadata": {},
     "output_type": "display_data"
    }
   ],
   "source": [
    "plt.pie(bandwidth_in_period.values(), labels=bandwidth_in_period.keys())\n",
    "plt.title('Bandwidth breakdown')\n",
    "\n",
    "plt.savefig('bandwidth.png')\n",
    "\n",
    "plt.show()"
   ]
  },
  {
   "cell_type": "code",
   "execution_count": 57,
   "metadata": {},
   "outputs": [
    {
     "name": "stdout",
     "output_type": "stream",
     "text": [
      "pip downloads 76.67%\n",
      "Misc 20.03%\n",
      "Searches 3.17%\n",
      " 0.13%\n"
     ]
    }
   ],
   "source": [
    "for k, v in bandwidth_in_period.items():\n",
    "    pc = 100 * (v / sum(bandwidth_in_period.values()))\n",
    "    print(k, f'{pc:.2f}%')"
   ]
  },
  {
   "cell_type": "code",
   "execution_count": 73,
   "metadata": {},
   "outputs": [
    {
     "data": {
      "image/png": "[encoded data removed]",
      "text/plain": [
       "<Figure size 720x432 with 1 Axes>"
      ]
     },
     "metadata": {},
     "output_type": "display_data"
    }
   ],
   "source": [
    "bandwidth_by_month = {\n",
    "    'Oct': bandwidth_totals['202010'],\n",
    "    'Nov': bandwidth_totals['202011'],\n",
    "    'Dec': bandwidth_totals['202012'],\n",
    "    'Jan': bandwidth_totals['202101'],\n",
    "    'Feb': bandwidth_totals['202102'],\n",
    "    'Mar': bandwidth_totals['202103'],\n",
    "    'Apr': bandwidth_totals['202104'],\n",
    "    'May': bandwidth_totals['202105'],\n",
    "    'Jun': bandwidth_totals['202106'],\n",
    "    'Jul': bandwidth_totals['202107'],\n",
    "    'Aug': bandwidth_totals['202108'],\n",
    "    'Sep': bandwidth_totals['202109'],\n",
    "}\n",
    "\n",
    "colors = ['blue']*9 + ['red']*3\n",
    "plt.bar(range(len(bandwidth_by_month)), bandwidth_by_month.values(), color=colors)\n",
    "plt.title('Bandwidth by month (TB)')\n",
    "plt.xticks(range(len(bandwidth_by_month)), list(bandwidth_by_month.keys()))\n",
    "\n",
    "plt.savefig('bandwidth-by-month.png')\n",
    "\n",
    "plt.show()"
   ]
  }
 ],
 "metadata": {
  "kernelspec": {
   "display_name": "Python 3",
   "language": "python",
   "name": "python3"
  },
  "language_info": {
   "codemirror_mode": {
    "name": "ipython",
    "version": 3
   },
   "file_extension": ".py",
   "mimetype": "text/x-python",
   "name": "python",
   "nbconvert_exporter": "python",
   "pygments_lexer": "ipython3",
   "version": "3.8.10"
  }
 },
 "nbformat": 4,
 "nbformat_minor": 2
}
