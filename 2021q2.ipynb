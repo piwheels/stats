{
 "cells": [
  {
   "cell_type": "code",
   "execution_count": null,
   "metadata": {},
   "outputs": [],
   "source": [
    "%matplotlib inline\n",
    "import matplotlib\n",
    "matplotlib.style.use('ggplot')\n",
    "import matplotlib.pyplot as plt\n",
    "import pandas as pd\n",
    "from sqlalchemy import create_engine, text, MetaData\n",
    "from sqlalchemy.exc import IntegrityError\n",
    "import numpy as np"
   ]
  },
  {
   "cell_type": "code",
   "execution_count": null,
   "metadata": {},
   "outputs": [],
   "source": [
    "engine = create_engine('postgresql:///piwheels')\n",
    "conn = engine.connect()\n",
    "meta = MetaData()\n",
    "meta.bind = conn\n",
    "meta.reflect(views=True)"
   ]
  },
  {
   "cell_type": "code",
   "execution_count": null,
   "metadata": {},
   "outputs": [],
   "source": [
    "start_date = '2021-04-01'\n",
    "start_time = '2021-04-01 00:00:00'\n",
    "end_date = '2021-06-30'\n",
    "end_time = '2021-07-01 00:00:00'\n",
    "one_year_ago = '2020-07-01'"
   ]
  },
  {
   "cell_type": "code",
   "execution_count": null,
   "metadata": {},
   "outputs": [],
   "source": [
    "pd.read_sql(f\"\"\"\n",
    "    SELECT COUNT(*) AS downloads_in_period\n",
    "    FROM downloads\n",
    "    WHERE accessed_at::date BETWEEN '{start_date}' AND '{end_date}'\n",
    "\"\"\", conn)"
   ]
  },
  {
   "cell_type": "code",
   "execution_count": null,
   "metadata": {},
   "outputs": [],
   "source": [
    "pd.read_sql(f\"\"\"\n",
    "    SELECT COUNT(*) AS downloads_to_date\n",
    "    FROM downloads\n",
    "    WHERE accessed_at::date < '{end_date}'\n",
    "\"\"\", conn)"
   ]
  },
  {
   "cell_type": "code",
   "execution_count": null,
   "metadata": {},
   "outputs": [],
   "source": [
    "pd.read_sql(f\"\"\"\n",
    "    SELECT COUNT(*) AS project_page_hits\n",
    "    FROM project_page_hits\n",
    "    WHERE accessed_at::date BETWEEN '{start_date}' AND '{end_date}'\n",
    "\"\"\", conn)"
   ]
  },
  {
   "cell_type": "code",
   "execution_count": null,
   "metadata": {},
   "outputs": [],
   "source": [
    "pd.read_sql(f\"\"\"\n",
    "    SELECT COUNT(*) AS project_json_downloads\n",
    "    FROM project_json_downloads\n",
    "    WHERE accessed_at::date BETWEEN '{start_date}' AND '{end_date}'\n",
    "\"\"\", conn)"
   ]
  },
  {
   "cell_type": "code",
   "execution_count": null,
   "metadata": {},
   "outputs": [],
   "source": [
    "pd.read_sql(f\"\"\"\n",
    "    SELECT COUNT(*) AS web_page_hits\n",
    "    FROM web_page_hits\n",
    "    WHERE accessed_at::date BETWEEN '{start_date}' AND '{end_date}'\n",
    "\"\"\", conn)"
   ]
  },
  {
   "cell_type": "code",
   "execution_count": null,
   "metadata": {},
   "outputs": [],
   "source": [
    "downloads_by_month = pd.read_sql(f\"\"\"\n",
    "    SELECT date_trunc('month', accessed_at) m, COUNT(*) AS c\n",
    "    FROM downloads\n",
    "    WHERE accessed_at::date BETWEEN '{one_year_ago}' AND '{end_date}'\n",
    "    GROUP BY m\n",
    "    ORDER BY m\n",
    "\"\"\", conn)\n",
    "\n",
    "downloads_by_month"
   ]
  },
  {
   "cell_type": "code",
   "execution_count": null,
   "metadata": {},
   "outputs": [],
   "source": [
    "plt.rcParams[\"figure.figsize\"] = (10, 6)\n",
    "\n",
    "months = [m.month_name()[:3] for m in downloads_by_month['m']]\n",
    "downloads = [c for c in downloads_by_month['c']]\n",
    "\n",
    "colors = ['blue']*9 + ['red']*3\n",
    "plt.bar(range(12), downloads, color=colors)\n",
    "plt.title('Downloads by month')\n",
    "plt.xticks(range(12), months)\n",
    "\n",
    "plt.savefig('downloads-by-month.png')\n",
    "\n",
    "plt.show()"
   ]
  },
  {
   "cell_type": "code",
   "execution_count": null,
   "metadata": {},
   "outputs": [],
   "source": [
    "downloads_by_day = pd.read_sql(f\"\"\"\n",
    "    SELECT accessed_at::date AS d, COUNT(*) AS downloads\n",
    "    FROM downloads\n",
    "    WHERE accessed_at::date BETWEEN '{start_date}' AND '{end_date}'\n",
    "    GROUP BY d\n",
    "    ORDER BY d\n",
    "\"\"\", conn)\n",
    "\n",
    "downloads_by_day"
   ]
  },
  {
   "cell_type": "code",
   "execution_count": null,
   "metadata": {},
   "outputs": [],
   "source": [
    "p = downloads_by_day.plot.bar(title='Downloads by day')\n",
    "p.figure.savefig('downloads-by-day.png')"
   ]
  },
  {
   "cell_type": "code",
   "execution_count": null,
   "metadata": {},
   "outputs": [],
   "source": [
    "df = pd.read_sql(f\"\"\"\n",
    "    SELECT COUNT(*) AS searches_in_period\n",
    "    FROM searches\n",
    "    WHERE accessed_at >= '{start_time}' AND accessed_at < '{end_time}'\n",
    "\"\"\", conn)\n",
    "\n",
    "searches = df.values[0][0]\n",
    "searches"
   ]
  },
  {
   "cell_type": "code",
   "execution_count": null,
   "metadata": {},
   "outputs": [],
   "source": [
    "pd.read_sql(f\"\"\"\n",
    "    SELECT date_trunc('month', accessed_at) AS month, COUNT(*) AS searches\n",
    "    FROM searches\n",
    "    WHERE accessed_at >= '{start_time}' AND accessed_at < '{end_time}'\n",
    "    GROUP BY month\n",
    "    ORDER BY month\n",
    "\"\"\", conn)"
   ]
  },
  {
   "cell_type": "code",
   "execution_count": null,
   "metadata": {},
   "outputs": [],
   "source": [
    "searches_by_day = pd.read_sql(f\"\"\"\n",
    "    SELECT accessed_at::date AS day, COUNT(*) AS searches\n",
    "    FROM searches\n",
    "    WHERE accessed_at::date BETWEEN '{start_date}' AND '{end_date}'\n",
    "    GROUP BY day\n",
    "    ORDER BY day\n",
    "\"\"\", conn)\n",
    "\n",
    "searches_by_day"
   ]
  },
  {
   "cell_type": "code",
   "execution_count": null,
   "metadata": {},
   "outputs": [],
   "source": [
    "p = searches_by_day.plot.bar(title='Searches by day')\n",
    "p.figure.savefig('searches-by-day.png')"
   ]
  },
  {
   "cell_type": "code",
   "execution_count": null,
   "metadata": {},
   "outputs": [],
   "source": [
    "pd.read_sql(f\"\"\"\n",
    "    SELECT JUSTIFY_INTERVAL(SUM(\n",
    "        CASE f.platform_tag\n",
    "            WHEN 'linux_armv7l' THEN 1                           \n",
    "            WHEN 'linux_armv6l' THEN 6                                                       \n",
    "            ELSE 0           \n",
    "        END *\n",
    "        CASE                        \n",
    "            WHEN b.duration > INTERVAL '1 day' THEN INTERVAL '0'\n",
    "            WHEN b.duration > INTERVAL '6.7 seconds' THEN b.duration - INTERVAL '6.7 seconds'\n",
    "            ELSE INTERVAL '0'               \n",
    "        END                  \n",
    "        )) AS total_time_saved_in_quarter                        \n",
    "    FROM downloads d\n",
    "    JOIN files f ON d.filename = f.filename\n",
    "    JOIN builds b ON b.build_id = f.build_id\n",
    "    WHERE f.abi_tag <> 'none'\n",
    "    AND d.accessed_at::date between '{start_date}' and '{end_date}'\n",
    "\"\"\", conn)"
   ]
  },
  {
   "cell_type": "code",
   "execution_count": null,
   "metadata": {},
   "outputs": [],
   "source": [
    "time_saved_by_month = pd.read_sql(f\"\"\"\n",
    "    SELECT date_trunc('month', d.accessed_at) as month, JUSTIFY_INTERVAL(SUM(\n",
    "        CASE f.platform_tag\n",
    "            WHEN 'linux_armv7l' THEN 1\n",
    "            WHEN 'linux_armv6l' THEN 6\n",
    "            ELSE 0\n",
    "        END *\n",
    "        CASE\n",
    "            WHEN b.duration > INTERVAL '1 day' THEN INTERVAL '0'\n",
    "            WHEN b.duration > INTERVAL '6.7 seconds' THEN b.duration - INTERVAL '6.7 seconds'\n",
    "            ELSE INTERVAL '0'\n",
    "        END\n",
    "            )) AS time_saved_in_month\n",
    "    FROM downloads d\n",
    "    JOIN files f ON d.filename = f.filename\n",
    "    JOIN builds b ON b.build_id = f.build_id\n",
    "    WHERE f.abi_tag <> 'none'\n",
    "    AND d.accessed_at::date between '{one_year_ago}' and '{end_date}'\n",
    "    GROUP BY month\n",
    "    ORDER BY month\n",
    "\"\"\", conn)\n",
    "\n",
    "time_saved_by_month"
   ]
  },
  {
   "cell_type": "code",
   "execution_count": null,
   "metadata": {},
   "outputs": [],
   "source": [
    "months = [m.month_name()[:3] for m in time_saved_by_month['month']]\n",
    "days_saved = [ts.days for ts in time_saved_by_month['time_saved_in_month']]\n",
    "\n",
    "colors = ['blue']*9 + ['red']*3\n",
    "plt.bar(range(12), days_saved, color=colors)\n",
    "plt.title('Time saved by month')\n",
    "plt.xticks(range(12), months)\n",
    "\n",
    "plt.savefig('time-saved-by-month.png')\n",
    "\n",
    "plt.show()"
   ]
  },
  {
   "cell_type": "code",
   "execution_count": null,
   "metadata": {},
   "outputs": [],
   "source": [
    "top_10_downloads = pd.read_sql(f\"\"\"\n",
    "    select b.package, count(*) c\n",
    "    from downloads d\n",
    "    join files f on f.filename = d.filename\n",
    "    join builds b on b.build_id = f.build_id\n",
    "    where accessed_at::date between '{start_date}' and '{end_date}'\n",
    "    group by b.package\n",
    "    order by c desc\n",
    "    limit 10;\n",
    "\"\"\", conn)\n",
    "\n",
    "top_10_downloads"
   ]
  },
  {
   "cell_type": "code",
   "execution_count": null,
   "metadata": {},
   "outputs": [],
   "source": [
    "print(\"<ol>\")\n",
    "for i, row in top_10_downloads.iterrows():\n",
    "    print(f\"<li><strong><a href='https://www.piwheels.org/project/{row['package']}'>{row['package']}</a></strong> ({row['c']:,})</li>\")\n",
    "print(\"</ol>\")"
   ]
  },
  {
   "cell_type": "code",
   "execution_count": null,
   "metadata": {},
   "outputs": [],
   "source": [
    "top_10_searches = pd.read_sql(f\"\"\"\n",
    "    select package, count(*) c\n",
    "    from searches\n",
    "    where accessed_at >= '{start_time}' AND accessed_at < '{end_time}'\n",
    "    group by package\n",
    "    order by c desc\n",
    "    limit 10;\n",
    "\"\"\", conn)\n",
    "\n",
    "top_10_searches"
   ]
  },
  {
   "cell_type": "code",
   "execution_count": null,
   "metadata": {},
   "outputs": [],
   "source": [
    "print(\"<ol>\")\n",
    "for pkg, c in top_10_searches.values:\n",
    "    print(f\"<li><strong><a href='https://www.piwheels.org/project/{pkg}'>{pkg}</a></strong> ({c:,})</li>\")\n",
    "print(\"</ol>\")"
   ]
  },
  {
   "cell_type": "code",
   "execution_count": null,
   "metadata": {},
   "outputs": [],
   "source": [
    "top_10_project_pages = pd.read_sql(f\"\"\"\n",
    "    select package, count(*) c\n",
    "    from project_page_hits\n",
    "    where accessed_at::date between '{start_date}' and '{end_date}'\n",
    "    group by package\n",
    "    order by c desc\n",
    "    limit 10;\n",
    "\"\"\", conn)\n",
    "\n",
    "top_10_project_pages"
   ]
  },
  {
   "cell_type": "code",
   "execution_count": null,
   "metadata": {},
   "outputs": [],
   "source": [
    "print(\"<ol>\")\n",
    "for pkg, c in top_10_project_pages.values:\n",
    "    print(f\"<li><strong><a href='https://www.piwheels.org/project/{pkg}'>{pkg}</a></strong> ({c:,})</li>\")\n",
    "print(\"</ol>\")"
   ]
  },
  {
   "cell_type": "code",
   "execution_count": null,
   "metadata": {},
   "outputs": [],
   "source": [
    "top_10_project_json = pd.read_sql(f\"\"\"\n",
    "    select package, count(*) c\n",
    "    from project_json_downloads\n",
    "    where accessed_at::date between '{start_date}' and '{end_date}'\n",
    "    group by package\n",
    "    order by c desc\n",
    "    limit 10;\n",
    "\"\"\", conn)\n",
    "\n",
    "top_10_project_json"
   ]
  },
  {
   "cell_type": "code",
   "execution_count": null,
   "metadata": {},
   "outputs": [],
   "source": [
    "print(\"<ol>\")\n",
    "for pkg, c in top_10_project_json.values:\n",
    "    print(f\"<li><strong><a href='https://www.piwheels.org/project/{pkg}'>{pkg}</a></strong> ({c:,})</li>\")\n",
    "print(\"</ol>\")"
   ]
  },
  {
   "cell_type": "code",
   "execution_count": null,
   "metadata": {},
   "outputs": [],
   "source": [
    "pd.read_sql(f\"\"\"\n",
    "    select count(distinct(package)) c\n",
    "    from project_json_downloads\n",
    "    where accessed_at::date between '{start_date}' and '{end_date}'\n",
    "\"\"\", conn)"
   ]
  },
  {
   "cell_type": "code",
   "execution_count": null,
   "metadata": {},
   "outputs": [],
   "source": [
    "pd.read_sql(f\"\"\"\n",
    "    select user_agent, count(*) c\n",
    "    from project_json_downloads\n",
    "    where accessed_at::date between '{start_date}' and '{end_date}'\n",
    "    group by user_agent\n",
    "    order by c desc\n",
    "\"\"\", conn)"
   ]
  },
  {
   "cell_type": "code",
   "execution_count": null,
   "metadata": {},
   "outputs": [],
   "source": [
    "os_usage = pd.read_sql(f\"\"\"\n",
    "    select os_name, count(*) c\n",
    "    from searches\n",
    "    where accessed_at >= '{start_time}' AND accessed_at < '{end_time}'\n",
    "    group by os_name\n",
    "    order by c desc\n",
    "\"\"\", conn)\n",
    "\n",
    "os_usage"
   ]
  },
  {
   "cell_type": "code",
   "execution_count": null,
   "metadata": {},
   "outputs": [],
   "source": [
    "linux_usage_pc = 100 * (os_usage.values[0][1] / searches)\n",
    "print(f'{linux_usage_pc:2.2f}% linux')"
   ]
  },
  {
   "cell_type": "code",
   "execution_count": null,
   "metadata": {},
   "outputs": [],
   "source": [
    "distro_usage = pd.read_sql(f\"\"\"\n",
    "    select distro_name, count(*) c\n",
    "    from searches\n",
    "    where accessed_at >= '{start_time}' AND accessed_at < '{end_time}'\n",
    "    and os_name = 'Linux'\n",
    "    group by distro_name\n",
    "    order by c desc\n",
    "    limit 5\n",
    "\"\"\", conn)\n",
    "\n",
    "distro_usage"
   ]
  },
  {
   "cell_type": "code",
   "execution_count": null,
   "metadata": {},
   "outputs": [],
   "source": [
    "debian_usage = pd.read_sql(f\"\"\"\n",
    "    select count(*) c\n",
    "    from searches\n",
    "    where accessed_at >= '{start_time}' AND accessed_at < '{end_time}'\n",
    "    and os_name = 'Linux'\n",
    "    and distro_name in ('Raspbian GNU/Linux', 'Debian GNU/Linux')\n",
    "    order by c desc\n",
    "    limit 5\n",
    "\"\"\", conn)\n",
    "\n",
    "debian_usage"
   ]
  },
  {
   "cell_type": "code",
   "execution_count": null,
   "metadata": {},
   "outputs": [],
   "source": [
    "debian_usage_pc = 100 * (debian_usage.c[0] / searches)\n",
    "print(f'{debian_usage_pc:2.2f}% debian')"
   ]
  },
  {
   "cell_type": "code",
   "execution_count": null,
   "metadata": {},
   "outputs": [],
   "source": [
    "ubuntu_usage = pd.read_sql(f\"\"\"\n",
    "    select count(*) c\n",
    "    from searches\n",
    "    where accessed_at >= '{start_time}' AND accessed_at < '{end_time}'\n",
    "    and os_name = 'Linux'\n",
    "    and distro_name = 'Ubuntu'\n",
    "    order by c desc\n",
    "    limit 5\n",
    "\"\"\", conn)\n",
    "\n",
    "ubuntu_usage_pc = 100 * (ubuntu_usage.c[0] / searches)\n",
    "print(f'{ubuntu_usage_pc:2.2f}% ubuntu')"
   ]
  },
  {
   "cell_type": "code",
   "execution_count": null,
   "metadata": {},
   "outputs": [],
   "source": [
    "debian = debian_usage.values[0][0]\n",
    "others = searches - debian\n",
    "\n",
    "distro_usage = {\n",
    "    'Debian / Raspbian / PiOS': debian,\n",
    "    'Others': others,\n",
    "}\n",
    "\n",
    "distro_usage"
   ]
  },
  {
   "cell_type": "code",
   "execution_count": null,
   "metadata": {},
   "outputs": [],
   "source": [
    "plt.pie(distro_usage.values(), labels=distro_usage.keys())\n",
    "plt.title('Linux distro usage')\n",
    "\n",
    "plt.savefig('distro-usage.png')\n",
    "\n",
    "plt.show()"
   ]
  },
  {
   "cell_type": "code",
   "execution_count": null,
   "metadata": {},
   "outputs": [],
   "source": [
    "distro_versions = pd.read_sql(f\"\"\"\n",
    "    select distro_version, count(*) c\n",
    "    from searches\n",
    "    where accessed_at >= '{start_time}' AND accessed_at < '{end_time}'\n",
    "    and os_name = 'Linux'\n",
    "    and distro_name in ('Raspbian GNU/Linux', 'Debian GNU/Linux')\n",
    "    and distro_version in ('8', '9', '10')\n",
    "    group by distro_version\n",
    "    order by c desc\n",
    "\"\"\", conn)\n",
    "\n",
    "distro_versions"
   ]
  },
  {
   "cell_type": "code",
   "execution_count": null,
   "metadata": {},
   "outputs": [],
   "source": [
    "total = sum(distro_versions.c)\n",
    "\n",
    "for v in distro_versions.values:\n",
    "    print(v[0], f'{(100 * v[1] / total):.1f}%')"
   ]
  },
  {
   "cell_type": "code",
   "execution_count": null,
   "metadata": {},
   "outputs": [],
   "source": [
    "version_names = {'10': 'Buster', '9': 'Stretch', '8': 'Jessie'}\n",
    "plt.pie(distro_versions.c, labels=[version_names[v] for v in distro_versions.distro_version])\n",
    "plt.title('Raspbian/Debian version usage')\n",
    "\n",
    "plt.savefig('debian-usage.png')\n",
    "\n",
    "plt.show()"
   ]
  },
  {
   "cell_type": "code",
   "execution_count": null,
   "metadata": {},
   "outputs": [],
   "source": [
    "arch = pd.read_sql(f\"\"\"\n",
    "    select arch, count(*) c\n",
    "    from searches\n",
    "    where accessed_at >= '{start_time}' AND accessed_at < '{end_time}'\n",
    "    group by arch\n",
    "    order by c desc\n",
    "\"\"\", conn)\n",
    "\n",
    "arch"
   ]
  },
  {
   "cell_type": "code",
   "execution_count": null,
   "metadata": {},
   "outputs": [],
   "source": [
    "plt.pie(arch.c, labels=arch.arch)\n",
    "plt.title('Architecture usage')\n",
    "\n",
    "plt.savefig('arch.png')\n",
    "\n",
    "plt.show()"
   ]
  },
  {
   "cell_type": "code",
   "execution_count": null,
   "metadata": {},
   "outputs": [],
   "source": [
    "arm_arch = pd.read_sql(f\"\"\"\n",
    "    select arch, count(*) c\n",
    "    from searches\n",
    "    where accessed_at >= '{start_time}' AND accessed_at < '{end_time}'\n",
    "    and os_name = 'Linux'\n",
    "    and distro_name in ('Raspbian GNU/Linux', 'Debian GNU/Linux')\n",
    "    and arch in ('armv6l', 'armv7l', 'aarch64')\n",
    "    group by arch\n",
    "    order by c desc\n",
    "\"\"\", conn)\n",
    "\n",
    "total = sum(arm_arch.c)\n",
    "\n",
    "for v in arm_arch.values:\n",
    "    print(v[0], f'{(100 * v[1] / total):.1f}%') "
   ]
  },
  {
   "cell_type": "code",
   "execution_count": null,
   "metadata": {},
   "outputs": [],
   "source": [
    "plt.pie(arm_arch.c, labels=arm_arch.arch)\n",
    "plt.title('Raspbian/Debian Arm architecture usage')\n",
    "\n",
    "plt.savefig('debian-arch.png')\n",
    "\n",
    "plt.show()"
   ]
  },
  {
   "cell_type": "code",
   "execution_count": null,
   "metadata": {},
   "outputs": [],
   "source": [
    "py_vers = pd.read_sql(f\"\"\"\n",
    "    select substring(py_version from 1 for 3) pyver, count(*) c\n",
    "    from searches\n",
    "    where accessed_at >= '{start_time}' AND accessed_at < '{end_time}'\n",
    "    and os_name = 'Linux'\n",
    "    and distro_name in ('Raspbian GNU/Linux', 'Debian GNU/Linux')\n",
    "    and arch in ('armv6l', 'armv7l', 'aarch64')\n",
    "    and py_name = 'CPython'\n",
    "    group by pyver\n",
    "    order by c desc\n",
    "    limit 6\n",
    "\"\"\", conn)\n",
    "\n",
    "py_vers"
   ]
  },
  {
   "cell_type": "code",
   "execution_count": null,
   "metadata": {},
   "outputs": [],
   "source": [
    "plt.pie(py_vers.c, labels=py_vers.pyver)\n",
    "plt.title('Python version usage')\n",
    "\n",
    "plt.savefig('py-vers.png')\n",
    "\n",
    "plt.show()"
   ]
  },
  {
   "cell_type": "code",
   "execution_count": null,
   "metadata": {},
   "outputs": [],
   "source": [
    "total = sum(row[1] for row in py_vers.values)\n",
    "\n",
    "for ver, c in py_vers.values:\n",
    "    print(ver, f'{100 * (c / total):.2f}%')"
   ]
  },
  {
   "cell_type": "code",
   "execution_count": null,
   "metadata": {},
   "outputs": [],
   "source": [
    "pip_versions = pd.read_sql(f\"\"\"\n",
    "    select installer_version, count(*) c\n",
    "    from searches\n",
    "    where accessed_at >= '{start_time}' AND accessed_at < '{end_time}'\n",
    "    and installer_name = 'pip'\n",
    "    and installer_version is not null\n",
    "    group by installer_version\n",
    "    order by c desc\n",
    "\"\"\", conn)\n",
    "\n",
    "pip_versions[:10]"
   ]
  },
  {
   "cell_type": "code",
   "execution_count": null,
   "metadata": {},
   "outputs": [],
   "source": [
    "total = sum(v[1] for v in pip_versions.values)\n",
    "labels = [v[0] if v[1] / total > 0.01 else '' for v in pip_versions.values]\n",
    "\n",
    "plt.pie(pip_versions.c, labels=labels)\n",
    "plt.title('pip version usage')\n",
    "\n",
    "plt.savefig('pip-vers.png')\n",
    "\n",
    "plt.show()"
   ]
  },
  {
   "cell_type": "code",
   "execution_count": null,
   "metadata": {},
   "outputs": [],
   "source": [
    "setuptools_versions = pd.read_sql(f\"\"\"\n",
    "    select setuptools_version, count(*) c\n",
    "    from searches\n",
    "    where accessed_at >= '{start_time}' AND accessed_at < '{end_time}'\n",
    "    and installer_name = 'pip'\n",
    "    and setuptools_version is not null\n",
    "    group by setuptools_version\n",
    "    order by c desc\n",
    "\"\"\", conn)\n",
    "\n",
    "setuptools_versions[:10]"
   ]
  },
  {
   "cell_type": "code",
   "execution_count": null,
   "metadata": {},
   "outputs": [],
   "source": [
    "total = sum(v[1] for v in setuptools_versions.values)\n",
    "labels = [v[0] if v[1] / total > 0.03 else '' for v in setuptools_versions.values]\n",
    "\n",
    "plt.pie(setuptools_versions.c, labels=labels)\n",
    "plt.title('setuptools version usage')\n",
    "\n",
    "plt.savefig('setuptools-vers.png')\n",
    "\n",
    "plt.show()"
   ]
  },
  {
   "cell_type": "code",
   "execution_count": null,
   "metadata": {},
   "outputs": [],
   "source": [
    "import csv\n",
    "from glob import glob\n",
    "from collections import defaultdict"
   ]
  },
  {
   "cell_type": "code",
   "execution_count": null,
   "metadata": {},
   "outputs": [],
   "source": [
    "ONE_TB = 1e12\n",
    "months = ('202007', '202008', '202009', '202010', '202011', '202012', '202101', '202102', '202103', '202104', '202105', '202106')\n",
    "\n",
    "bandwidth = {}\n",
    "bandwidth_totals = defaultdict(int)\n",
    "for month in months:\n",
    "    bandwidth[month] = defaultdict(int)\n",
    "    files = glob('/home/ben/piwheels-logs/' + month + '/*-sizes.csv')\n",
    "    for file in files:\n",
    "        with open(file) as f:\n",
    "            r = csv.reader(f)\n",
    "            for log_type, count in r:\n",
    "                bandwidth[month][log_type] += int(count)\n",
    "                bandwidth_totals[month] += int(count) / ONE_TB"
   ]
  },
  {
   "cell_type": "code",
   "execution_count": null,
   "metadata": {},
   "outputs": [],
   "source": [
    "for month, data in bandwidth_totals.items():\n",
    "    print(month, f'{data:.2f} TB')"
   ]
  },
  {
   "cell_type": "code",
   "execution_count": null,
   "metadata": {},
   "outputs": [],
   "source": [
    "m1, m2, m3 = months[-3:]\n",
    "\n",
    "bandwidth_in_period = {\n",
    "    'pip downloads': bandwidth[m1]['LOGDOWNLOAD'] + bandwidth[m2]['LOGDOWNLOAD'] + bandwidth[m3]['LOGDOWNLOAD'],\n",
    "    'Misc': bandwidth[m1]['OTHER'] + bandwidth[m2]['OTHER'] + bandwidth[m3]['OTHER'],\n",
    "    'Searches': bandwidth[m1]['LOGSEARCH'] + bandwidth[m2]['LOGSEARCH'] + bandwidth[m3]['LOGSEARCH'],\n",
    "    '': (\n",
    "        bandwidth[m1]['LOGPROJECT'] + bandwidth[m2]['LOGPROJECT'] + bandwidth[m3]['LOGPROJECT'] +\n",
    "        bandwidth[m1]['LOGJSON'] + bandwidth[m2]['LOGJSON'] + bandwidth[m3]['LOGJSON'] +\n",
    "        bandwidth[m1]['LOGPAGE'] + bandwidth[m2]['LOGPAGE'] + bandwidth[m3]['LOGPAGE']\n",
    "    ),\n",
    "}"
   ]
  },
  {
   "cell_type": "code",
   "execution_count": null,
   "metadata": {},
   "outputs": [],
   "source": [
    "plt.pie(bandwidth_in_period.values(), labels=bandwidth_in_period.keys())\n",
    "plt.title('Bandwidth breakdown')\n",
    "\n",
    "plt.savefig('bandwidth.png')\n",
    "\n",
    "plt.show()"
   ]
  },
  {
   "cell_type": "code",
   "execution_count": null,
   "metadata": {},
   "outputs": [],
   "source": [
    "for k, v in bandwidth_in_period.items():\n",
    "    pc = 100 * (v / sum(bandwidth_in_period.values()))\n",
    "    print(k, f'{pc:.2f}%')"
   ]
  },
  {
   "cell_type": "code",
   "execution_count": null,
   "metadata": {},
   "outputs": [],
   "source": [
    "bandwidth_by_month = {\n",
    "    'Jul': bandwidth_totals['202007'],\n",
    "    'Aug': bandwidth_totals['202008'],\n",
    "    'Sep': bandwidth_totals['202009'],\n",
    "    'Oct': bandwidth_totals['202010'],\n",
    "    'Nov': bandwidth_totals['202011'],\n",
    "    'Dec': bandwidth_totals['202012'],\n",
    "    'Jan': bandwidth_totals['202101'],\n",
    "    'Feb': bandwidth_totals['202102'],\n",
    "    'Mar': bandwidth_totals['202103'],\n",
    "    'Apr': bandwidth_totals['202104'],\n",
    "    'May': bandwidth_totals['202105'],\n",
    "    'Jun': bandwidth_totals['202106'],\n",
    "}\n",
    "\n",
    "colors = ['blue']*9 + ['red']*3\n",
    "plt.bar(range(len(bandwidth_by_month)), bandwidth_by_month.values(), color=colors)\n",
    "plt.title('Bandwidth by month (TB)')\n",
    "plt.xticks(range(len(bandwidth_by_month)), list(bandwidth_by_month.keys()))\n",
    "\n",
    "plt.savefig('bandwidth-by-month.png')\n",
    "\n",
    "plt.show()"
   ]
  },
  {
   "cell_type": "code",
   "execution_count": null,
   "metadata": {},
   "outputs": [],
   "source": []
  }
 ],
 "metadata": {
  "kernelspec": {
   "display_name": "Python 3",
   "language": "python",
   "name": "python3"
  },
  "language_info": {
   "codemirror_mode": {
    "name": "ipython",
    "version": 3
   },
   "file_extension": ".py",
   "mimetype": "text/x-python",
   "name": "python",
   "nbconvert_exporter": "python",
   "pygments_lexer": "ipython3",
   "version": "3.8.10"
  }
 },
 "nbformat": 4,
 "nbformat_minor": 2
}
