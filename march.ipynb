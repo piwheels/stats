{
 "cells": [
  {
   "cell_type": "code",
   "execution_count": 13,
   "metadata": {},
   "outputs": [
    {
     "data": {
      "image/png": "[encoded data removed]",
      "text/plain": [
       "<Figure size 720x432 with 1 Axes>"
      ]
     },
     "metadata": {
      "needs_background": "light"
     },
     "output_type": "display_data"
    }
   ],
   "source": [
    "import matplotlib.pyplot as plt\n",
    "import datetime\n",
    "\n",
    "plt.rcParams[\"figure.figsize\"] = (10, 6)\n",
    "\n",
    "downloads = [\n",
    "    ['1 January', 31081],\n",
    "    ['', 31427],\n",
    "    ['', 37298],\n",
    "    ['', 35886],\n",
    "    ['', 37274],\n",
    "    ['', 34101],\n",
    "    ['', 34463],\n",
    "    ['', 37916],\n",
    "    ['', 37664],\n",
    "    ['', 32880],\n",
    "    ['', 23383],\n",
    "    ['', 36852],\n",
    "    ['', 35090],\n",
    "    ['', 37800],\n",
    "    ['', 35652],\n",
    "    ['', 37794],\n",
    "    ['', 38139],\n",
    "    ['', 35074],\n",
    "    ['', 36674],\n",
    "    ['', 36385],\n",
    "    ['', 35466],\n",
    "    ['', 32415],\n",
    "    ['', 33393],\n",
    "    ['', 31131],\n",
    "    ['', 29725],\n",
    "    ['', 31176],\n",
    "    ['', 30859],\n",
    "    ['', 33707],\n",
    "    ['', 31684],\n",
    "    ['', 34100],\n",
    "    ['', 33623],\n",
    "    ['1 February', 34042],\n",
    "    ['', 33017],\n",
    "    ['', 32534],\n",
    "    ['', 33123],\n",
    "    ['', 33789],\n",
    "    ['', 34760],\n",
    "    ['', 32460],\n",
    "    ['', 29539],\n",
    "    ['', 32684],\n",
    "    ['', 33490],\n",
    "    ['', 34334],\n",
    "    ['', 32636],\n",
    "    ['', 33821],\n",
    "    ['', 31969],\n",
    "    ['', 31155],\n",
    "    ['', 31367],\n",
    "    ['', 36037],\n",
    "    ['', 37278],\n",
    "    ['', 36147],\n",
    "    ['', 29724],\n",
    "    ['', 33613],\n",
    "    ['', 32854],\n",
    "    ['', 34635],\n",
    "    ['', 36347],\n",
    "    ['', 35508],\n",
    "    ['', 37728],\n",
    "    ['', 37342],\n",
    "    ['', 35046],\n",
    "    ['', 33553],\n",
    "    ['1 March', 37797],\n",
    "    ['', 33968],\n",
    "    ['', 37895],\n",
    "    ['', 56225],\n",
    "    ['', 60324],\n",
    "    ['', 52879],\n",
    "]\n",
    "\n",
    "plt.bar(range(len(downloads)), [d[1] for d in downloads])\n",
    "plt.title('Downloads by day 1 Jan to 6 Mar')\n",
    "plt.xticks(range(len(downloads)), [d[0] for d in downloads])\n",
    "\n",
    "plt.show()"
   ]
  },
  {
   "cell_type": "code",
   "execution_count": 14,
   "metadata": {},
   "outputs": [
    {
     "data": {
      "image/png": "[encoded data removed]",
      "text/plain": [
       "<Figure size 720x432 with 1 Axes>"
      ]
     },
     "metadata": {
      "needs_background": "light"
     },
     "output_type": "display_data"
    }
   ],
   "source": [
    "downloads = [\n",
    "    ('2/2 00:00', 1019),\n",
    "    ('', 1093),\n",
    "    ('', 997),\n",
    "    ('', 964),\n",
    "    ('', 1001),\n",
    "    ('', 1005),\n",
    "    ('2/2 6:00', 1157),\n",
    "    ('', 1235),\n",
    "    ('', 1356),\n",
    "    ('', 1783),\n",
    "    ('', 1783),\n",
    "    ('', 1899),\n",
    "    ('2/2 12:00', 1604),\n",
    "    ('', 1737),\n",
    "    ('', 1595),\n",
    "    ('', 1859),\n",
    "    ('', 2008),\n",
    "    ('', 1677),\n",
    "    ('2/2 18:00', 1652),\n",
    "    ('', 1575),\n",
    "    ('', 1569),\n",
    "    ('', 1901),\n",
    "    ('', 1394),\n",
    "    ('', 1183),\n",
    "    ('2/2 00:00', 1119),\n",
    "    ('', 997),\n",
    "    ('', 1034),\n",
    "    ('', 816),\n",
    "    ('', 829),\n",
    "    ('', 909),\n",
    "    ('2/2 6:00', 1042),\n",
    "    ('', 1123),\n",
    "    ('', 1207),\n",
    "    ('', 1335),\n",
    "    ('', 1315),\n",
    "    ('', 1582),\n",
    "    ('2/2 12:00', 1462),\n",
    "    ('', 1759),\n",
    "    ('', 1690),\n",
    "    ('', 1851),\n",
    "    ('', 1979),\n",
    "    ('', 1896),\n",
    "    ('2/2 18:00', 1757),\n",
    "    ('', 1572),\n",
    "    ('', 1550),\n",
    "    ('', 1738),\n",
    "    ('', 1524),\n",
    "    ('', 1467),\n",
    "    ('1/3 00:00', 1219),\n",
    "    ('', 1113),\n",
    "    ('', 1017),\n",
    "    ('', 1061),\n",
    "    ('', 921),\n",
    "    ('', 1022),\n",
    "    ('1/3 6:00', 1293),\n",
    "    ('', 1099),\n",
    "    ('', 1510),\n",
    "    ('', 1583),\n",
    "    ('', 1674),\n",
    "    ('', 2079),\n",
    "    ('1/3 12:00', 1957),\n",
    "    ('', 2003),\n",
    "    ('', 2072),\n",
    "    ('', 1934),\n",
    "    ('', 1890),\n",
    "    ('', 2065),\n",
    "    ('1/3 18:00', 2192),\n",
    "    ('', 2013),\n",
    "    ('', 1691),\n",
    "    ('', 1465),\n",
    "    ('', 1726),\n",
    "    ('', 1198),\n",
    "    ('2/3 00:00', 1291),\n",
    "    ('', 1226),\n",
    "    ('', 1025),\n",
    "    ('', 917),\n",
    "    ('', 911),\n",
    "    ('', 924),\n",
    "    ('2/3 6:00', 978),\n",
    "    ('', 1105),\n",
    "    ('', 1217),\n",
    "    ('', 1429),\n",
    "    ('', 1464),\n",
    "    ('', 1673),\n",
    "    ('2/3 12:00', 1788),\n",
    "    ('', 1782),\n",
    "    ('', 1778),\n",
    "    ('', 449),\n",
    "    ('', 1789),\n",
    "    ('', 1821),\n",
    "    ('2/3 18:00', 1842),\n",
    "    ('', 1979),\n",
    "    ('', 1823),\n",
    "    ('', 1832),\n",
    "    ('', 1441),\n",
    "    ('', 1484),\n",
    "    ('3/3 00:00', 1126),\n",
    "    ('', 1039),\n",
    "    ('', 1100),\n",
    "    ('', 929),\n",
    "    ('', 1094),\n",
    "    ('', 1139),\n",
    "    ('3/3 6:00', 1146),\n",
    "    ('', 1530),\n",
    "    ('', 1867),\n",
    "    ('', 2105),\n",
    "    ('', 1626),\n",
    "    ('', 1794),\n",
    "    ('3/3 12:00', 1866),\n",
    "    ('', 1939),\n",
    "    ('', 1996),\n",
    "    ('', 1735),\n",
    "    ('', 1833),\n",
    "    ('', 1768),\n",
    "    ('3/3 18:00', 1845),\n",
    "    ('', 1816),\n",
    "    ('', 1794),\n",
    "    ('', 1801),\n",
    "    ('', 1444),\n",
    "    ('', 1563),\n",
    "    ('4/3 00:00', 1475),\n",
    "    ('', 1016),\n",
    "    ('', 1046),\n",
    "    ('', 1036),\n",
    "    ('', 916),\n",
    "    ('', 1159),\n",
    "    ('4/3 6:00', 1057),\n",
    "    ('', 1159),\n",
    "    ('', 1393),\n",
    "    ('', 1396),\n",
    "    ('', 1735),\n",
    "    ('', 2095),\n",
    "    ('4/3 12:00', 2776),\n",
    "    ('', 2856),\n",
    "    ('', 3442),\n",
    "    ('', 3748),\n",
    "    ('', 4031),\n",
    "    ('', 3733),\n",
    "    ('4/3 18:00', 3946),\n",
    "    ('', 3321),\n",
    "    ('', 4142),\n",
    "    ('', 3439),\n",
    "    ('', 2781),\n",
    "    ('', 2527),\n",
    "    ('5/3 00:00', 2254),\n",
    "    ('', 2340),\n",
    "    ('', 1971),\n",
    "    ('', 1784),\n",
    "    ('', 1815),\n",
    "    ('', 1708),\n",
    "    ('5/3 6:00', 1826),\n",
    "    ('', 2027),\n",
    "    ('', 2541),\n",
    "    ('', 2482),\n",
    "    ('', 2473),\n",
    "    ('', 2400),\n",
    "    ('5/3 12:00', 2786),\n",
    "    ('', 2774),\n",
    "    ('', 2956),\n",
    "    ('', 2913),\n",
    "    ('', 3476),\n",
    "    ('', 3149),\n",
    "    ('5/3 18:00', 3110),\n",
    "    ('', 3203),\n",
    "    ('', 3105),\n",
    "    ('', 2698),\n",
    "    ('', 2498),\n",
    "    ('', 2035),\n",
    "    ('6/3 00:00', 1758),\n",
    "    ('', 1910),\n",
    "    ('', 1636),\n",
    "    ('', 1583),\n",
    "    ('', 1454),\n",
    "    ('', 1367),\n",
    "    ('6/3 6:00', 1839),\n",
    "    ('', 1779),\n",
    "    ('', 1884),\n",
    "    ('', 2123),\n",
    "    ('', 2467),\n",
    "    ('', 2238),\n",
    "    ('6/3 12:00', 2172),\n",
    "    ('', 2401),\n",
    "    ('', 2904),\n",
    "    ('', 3003),\n",
    "    ('', 2709),\n",
    "    ('', 2876),\n",
    "    ('6/3 18:00', 2873),\n",
    "    ('', 2634),\n",
    "    ('', 2555),\n",
    "    ('', 2348),\n",
    "    ('', 2237),\n",
    "    ('', 2129)\n",
    "]\n",
    "\n",
    "plt.bar(range(len(downloads)), [d[1] for d in downloads])\n",
    "plt.title('Downloads by hour 28 Feb 00:00 to 7 Mar 00:00')\n",
    "plt.xticks(range(len(downloads)), [d[0] for d in downloads], rotation='vertical')\n",
    "\n",
    "plt.show()"
   ]
  },
  {
   "cell_type": "code",
   "execution_count": 15,
   "metadata": {},
   "outputs": [
    {
     "data": {
      "image/png": "[encoded data removed]",
      "text/plain": [
       "<Figure size 720x432 with 1 Axes>"
      ]
     },
     "metadata": {
      "needs_background": "light"
     },
     "output_type": "display_data"
    }
   ],
   "source": [
    "data = list(reversed([\n",
    "    ('pycparser', 1908),\n",
    "    ('numpy', 896),\n",
    "    ('PyYAML', 859),\n",
    "    ('zope.component', 853),\n",
    "    ('home-assistant-frontend', 806),\n",
    "    ('cffi', 804),\n",
    "    ('opencv-python', 683),\n",
    "    ('cryptography', 592),\n",
    "    ('tensorflow', 552),\n",
    "    ('paho-mqtt', 517),\n",
    "]))\n",
    "\n",
    "plt.barh([d[0] for d in data], [d[1] for d in data])\n",
    "plt.title('Top 10 downloads 3 March')\n",
    "plt.xlim(0, 10000)\n",
    "\n",
    "plt.show()"
   ]
  },
  {
   "cell_type": "code",
   "execution_count": 16,
   "metadata": {},
   "outputs": [
    {
     "data": {
      "image/png": "[encoded data removed]",
      "text/plain": [
       "<Figure size 720x432 with 1 Axes>"
      ]
     },
     "metadata": {
      "needs_background": "light"
     },
     "output_type": "display_data"
    }
   ],
   "source": [
    "data = list(reversed([\n",
    "    ('Flask-Login', 9251),\n",
    "    ('Markdown', 5071),\n",
    "    ('sentry-sdk', 4968),\n",
    "    ('semantic-version', 4966),\n",
    "    ('numpy', 911),\n",
    "    ('pycparser', 835),\n",
    "    ('PyYAML', 797),\n",
    "    ('cffi', 796),\n",
    "    ('zope.component', 736),\n",
    "    ('opencv-python', 701),\n",
    "]))\n",
    "\n",
    "plt.barh([d[0] for d in data], [d[1] for d in data])\n",
    "plt.title('Top 10 downloads 5 March')\n",
    "plt.xlim(0, 10000)\n",
    "\n",
    "plt.show()"
   ]
  },
  {
   "cell_type": "code",
   "execution_count": 19,
   "metadata": {},
   "outputs": [
    {
     "data": {
      "image/png": "[encoded data removed]",
      "text/plain": [
       "<Figure size 720x432 with 1 Axes>"
      ]
     },
     "metadata": {
      "needs_background": "light"
     },
     "output_type": "display_data"
    }
   ],
   "source": [
    "data = list(reversed([\n",
    "    ('2 March', 33254),\n",
    "    ('3 March', 36985),\n",
    "    ('4 March', 37665),\n",
    "    ('5 March', 35383),\n",
    "    ('6 March', 34292),\n",
    "]))\n",
    "\n",
    "plt.barh([d[0] for d in data], [d[1] for d in data])\n",
    "plt.title('Daily downloads (without anomalies) 2 to 6 March')\n",
    "\n",
    "plt.show()"
   ]
  },
  {
   "cell_type": "code",
   "execution_count": 20,
   "metadata": {},
   "outputs": [
    {
     "data": {
      "image/png": "[encoded data removed]",
      "text/plain": [
       "<Figure size 720x432 with 1 Axes>"
      ]
     },
     "metadata": {
      "needs_background": "light"
     },
     "output_type": "display_data"
    }
   ],
   "source": [
    "data = list(reversed([\n",
    "    ('2 March', 104),\n",
    "    ('3 March', 130),\n",
    "    ('4 March', 17842),\n",
    "    ('5 March', 24256),\n",
    "    ('6 March', 17846),\n",
    "]))\n",
    "\n",
    "plt.barh([d[0] for d in data], [d[1] for d in data])\n",
    "plt.title('Downloads of anomalous packages 2 to 6 March')\n",
    "\n",
    "plt.show()"
   ]
  },
  {
   "cell_type": "code",
   "execution_count": 23,
   "metadata": {},
   "outputs": [
    {
     "data": {
      "image/png": "[encoded data removed]",
      "text/plain": [
       "<Figure size 720x432 with 1 Axes>"
      ]
     },
     "metadata": {
      "needs_background": "light"
     },
     "output_type": "display_data"
    }
   ],
   "source": [
    "#\n",
    "\n",
    "downloads = [\n",
    "    ['1 March', 37797],\n",
    "    ['', 33968],\n",
    "    ['', 37895],\n",
    "    ['', 56225],\n",
    "    ['', 60324],\n",
    "    ['', 52879],\n",
    "    ['', 49400],\n",
    "    ['8 March', 46151],\n",
    "    ['', 43381],\n",
    "    ['', 42099],\n",
    "    ['', 40480],\n",
    "    ['', 39363],\n",
    "]\n",
    "\n",
    "plt.bar(range(len(downloads)), [d[1] for d in downloads])\n",
    "plt.title('Downloads by day 1 Jan to 12 Mar')\n",
    "plt.xticks(range(len(downloads)), [d[0] for d in downloads])\n",
    "\n",
    "plt.show()"
   ]
  },
  {
   "cell_type": "code",
   "execution_count": null,
   "metadata": {},
   "outputs": [],
   "source": [
    "data = list(reversed([\n",
    "    ('2 March', 104),\n",
    "    ('3 March', 130),\n",
    "    ('4 March', 17842),\n",
    "    ('5 March', 24256),\n",
    "    ('6 March', 17846),\n",
    "    ('7 March', 17846),\n",
    "    ('8 March', 17846),\n",
    "    ('9 March', 17846),\n",
    "    ('10 March', 17846),\n",
    "    ('11 March', 1302),\n",
    "    ('12 March', 1266),\n",
    "]))\n",
    "\n",
    "plt.barh([d[0] for d in data], [d[1] for d in data])\n",
    "plt.title('Downloads of anomalous packages 2 to 12 March')\n",
    "\n",
    "plt.show()"
   ]
  },
  {
   "cell_type": "code",
   "execution_count": null,
   "metadata": {},
   "outputs": [],
   "source": []
  },
  {
   "cell_type": "code",
   "execution_count": null,
   "metadata": {},
   "outputs": [],
   "source": []
  },
  {
   "cell_type": "code",
   "execution_count": null,
   "metadata": {},
   "outputs": [],
   "source": []
  },
  {
   "cell_type": "code",
   "execution_count": null,
   "metadata": {},
   "outputs": [],
   "source": []
  }
 ],
 "metadata": {
  "kernelspec": {
   "display_name": "Python 3",
   "language": "python",
   "name": "python3"
  },
  "language_info": {
   "codemirror_mode": {
    "name": "ipython",
    "version": 3
   },
   "file_extension": ".py",
   "mimetype": "text/x-python",
   "name": "python",
   "nbconvert_exporter": "python",
   "pygments_lexer": "ipython3",
   "version": "3.7.7"
  }
 },
 "nbformat": 4,
 "nbformat_minor": 2
}
