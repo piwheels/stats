{
 "cells": [
  {
   "cell_type": "code",
   "execution_count": 1,
   "metadata": {},
   "outputs": [],
   "source": [
    "%matplotlib inline\n",
    "import matplotlib\n",
    "matplotlib.style.use('ggplot')\n",
    "import matplotlib.pyplot as plt\n",
    "import pandas as pd\n",
    "from sqlalchemy import create_engine, text, MetaData\n",
    "from sqlalchemy.exc import IntegrityError\n",
    "import numpy as np"
   ]
  },
  {
   "cell_type": "code",
   "execution_count": 2,
   "metadata": {},
   "outputs": [],
   "source": [
    "engine = create_engine('postgresql:///piwheels')\n",
    "conn = engine.connect()\n",
    "meta = MetaData()\n",
    "meta.bind = conn\n",
    "meta.reflect(views=True)"
   ]
  },
  {
   "cell_type": "code",
   "execution_count": 3,
   "metadata": {},
   "outputs": [],
   "source": [
    "start_date = '2021-01-01'\n",
    "start_time = '2021-01-01 00:00:00'\n",
    "end_date = '2021-12-31'\n",
    "end_time = '2022-01-01 00:00:00'"
   ]
  },
  {
   "cell_type": "code",
   "execution_count": 4,
   "metadata": {},
   "outputs": [
    {
     "data": {
      "text/html": [
       "<div>\n",
       "<style scoped>\n",
       "    .dataframe tbody tr th:only-of-type {\n",
       "        vertical-align: middle;\n",
       "    }\n",
       "\n",
       "    .dataframe tbody tr th {\n",
       "        vertical-align: top;\n",
       "    }\n",
       "\n",
       "    .dataframe thead th {\n",
       "        text-align: right;\n",
       "    }\n",
       "</style>\n",
       "<table border=\"1\" class=\"dataframe\">\n",
       "  <thead>\n",
       "    <tr style=\"text-align: right;\">\n",
       "      <th></th>\n",
       "      <th>downloads_in_period</th>\n",
       "    </tr>\n",
       "  </thead>\n",
       "  <tbody>\n",
       "    <tr>\n",
       "      <th>0</th>\n",
       "      <td>36724799</td>\n",
       "    </tr>\n",
       "  </tbody>\n",
       "</table>\n",
       "</div>"
      ],
      "text/plain": [
       "   downloads_in_period\n",
       "0             36724799"
      ]
     },
     "execution_count": 4,
     "metadata": {},
     "output_type": "execute_result"
    }
   ],
   "source": [
    "pd.read_sql(f\"\"\"\n",
    "    SELECT COUNT(*) AS downloads_in_period\n",
    "    FROM downloads\n",
    "    WHERE accessed_at::date BETWEEN '{start_date}' AND '{end_date}'\n",
    "\"\"\", conn)"
   ]
  },
  {
   "cell_type": "code",
   "execution_count": 5,
   "metadata": {},
   "outputs": [
    {
     "data": {
      "text/html": [
       "<div>\n",
       "<style scoped>\n",
       "    .dataframe tbody tr th:only-of-type {\n",
       "        vertical-align: middle;\n",
       "    }\n",
       "\n",
       "    .dataframe tbody tr th {\n",
       "        vertical-align: top;\n",
       "    }\n",
       "\n",
       "    .dataframe thead th {\n",
       "        text-align: right;\n",
       "    }\n",
       "</style>\n",
       "<table border=\"1\" class=\"dataframe\">\n",
       "  <thead>\n",
       "    <tr style=\"text-align: right;\">\n",
       "      <th></th>\n",
       "      <th>daily_avg_downloads</th>\n",
       "    </tr>\n",
       "  </thead>\n",
       "  <tbody>\n",
       "    <tr>\n",
       "      <th>0</th>\n",
       "      <td>100615.887671</td>\n",
       "    </tr>\n",
       "  </tbody>\n",
       "</table>\n",
       "</div>"
      ],
      "text/plain": [
       "   daily_avg_downloads\n",
       "0        100615.887671"
      ]
     },
     "execution_count": 5,
     "metadata": {},
     "output_type": "execute_result"
    }
   ],
   "source": [
    "pd.read_sql(f\"\"\"\n",
    "    SELECT AVG(downloads) AS daily_avg_downloads\n",
    "    FROM (\n",
    "        SELECT COUNT(*) AS downloads\n",
    "        FROM downloads\n",
    "        WHERE accessed_at::date BETWEEN '{start_date}' AND '{end_date}'\n",
    "        GROUP BY accessed_at::date\n",
    "    ) downloads_BY_DAY\n",
    "\"\"\", conn)"
   ]
  },
  {
   "cell_type": "code",
   "execution_count": 6,
   "metadata": {},
   "outputs": [
    {
     "data": {
      "text/html": [
       "<div>\n",
       "<style scoped>\n",
       "    .dataframe tbody tr th:only-of-type {\n",
       "        vertical-align: middle;\n",
       "    }\n",
       "\n",
       "    .dataframe tbody tr th {\n",
       "        vertical-align: top;\n",
       "    }\n",
       "\n",
       "    .dataframe thead th {\n",
       "        text-align: right;\n",
       "    }\n",
       "</style>\n",
       "<table border=\"1\" class=\"dataframe\">\n",
       "  <thead>\n",
       "    <tr style=\"text-align: right;\">\n",
       "      <th></th>\n",
       "      <th>downloads_to_date</th>\n",
       "    </tr>\n",
       "  </thead>\n",
       "  <tbody>\n",
       "    <tr>\n",
       "      <th>0</th>\n",
       "      <td>67695042</td>\n",
       "    </tr>\n",
       "  </tbody>\n",
       "</table>\n",
       "</div>"
      ],
      "text/plain": [
       "   downloads_to_date\n",
       "0           67695042"
      ]
     },
     "execution_count": 6,
     "metadata": {},
     "output_type": "execute_result"
    }
   ],
   "source": [
    "pd.read_sql(f\"\"\"\n",
    "    SELECT COUNT(*) AS downloads_to_date\n",
    "    FROM downloads\n",
    "    WHERE accessed_at < '{end_time}'\n",
    "\"\"\", conn)"
   ]
  },
  {
   "cell_type": "code",
   "execution_count": 7,
   "metadata": {},
   "outputs": [
    {
     "data": {
      "text/html": [
       "<div>\n",
       "<style scoped>\n",
       "    .dataframe tbody tr th:only-of-type {\n",
       "        vertical-align: middle;\n",
       "    }\n",
       "\n",
       "    .dataframe tbody tr th {\n",
       "        vertical-align: top;\n",
       "    }\n",
       "\n",
       "    .dataframe thead th {\n",
       "        text-align: right;\n",
       "    }\n",
       "</style>\n",
       "<table border=\"1\" class=\"dataframe\">\n",
       "  <thead>\n",
       "    <tr style=\"text-align: right;\">\n",
       "      <th></th>\n",
       "      <th>project_page_hits</th>\n",
       "    </tr>\n",
       "  </thead>\n",
       "  <tbody>\n",
       "    <tr>\n",
       "      <th>0</th>\n",
       "      <td>3248184</td>\n",
       "    </tr>\n",
       "  </tbody>\n",
       "</table>\n",
       "</div>"
      ],
      "text/plain": [
       "   project_page_hits\n",
       "0            3248184"
      ]
     },
     "execution_count": 7,
     "metadata": {},
     "output_type": "execute_result"
    }
   ],
   "source": [
    "pd.read_sql(f\"\"\"\n",
    "    SELECT COUNT(*) AS project_page_hits\n",
    "    FROM project_page_hits\n",
    "    WHERE accessed_at::date BETWEEN '{start_date}' AND '{end_date}'\n",
    "\"\"\", conn)"
   ]
  },
  {
   "cell_type": "code",
   "execution_count": 8,
   "metadata": {},
   "outputs": [
    {
     "data": {
      "text/html": [
       "<div>\n",
       "<style scoped>\n",
       "    .dataframe tbody tr th:only-of-type {\n",
       "        vertical-align: middle;\n",
       "    }\n",
       "\n",
       "    .dataframe tbody tr th {\n",
       "        vertical-align: top;\n",
       "    }\n",
       "\n",
       "    .dataframe thead th {\n",
       "        text-align: right;\n",
       "    }\n",
       "</style>\n",
       "<table border=\"1\" class=\"dataframe\">\n",
       "  <thead>\n",
       "    <tr style=\"text-align: right;\">\n",
       "      <th></th>\n",
       "      <th>project_json_downloads</th>\n",
       "    </tr>\n",
       "  </thead>\n",
       "  <tbody>\n",
       "    <tr>\n",
       "      <th>0</th>\n",
       "      <td>1589791</td>\n",
       "    </tr>\n",
       "  </tbody>\n",
       "</table>\n",
       "</div>"
      ],
      "text/plain": [
       "   project_json_downloads\n",
       "0                 1589791"
      ]
     },
     "execution_count": 8,
     "metadata": {},
     "output_type": "execute_result"
    }
   ],
   "source": [
    "pd.read_sql(f\"\"\"\n",
    "    SELECT COUNT(*) AS project_json_downloads\n",
    "    FROM project_json_downloads\n",
    "    WHERE accessed_at::date BETWEEN '{start_date}' AND '{end_date}'\n",
    "\"\"\", conn)"
   ]
  },
  {
   "cell_type": "code",
   "execution_count": 9,
   "metadata": {},
   "outputs": [
    {
     "data": {
      "text/html": [
       "<div>\n",
       "<style scoped>\n",
       "    .dataframe tbody tr th:only-of-type {\n",
       "        vertical-align: middle;\n",
       "    }\n",
       "\n",
       "    .dataframe tbody tr th {\n",
       "        vertical-align: top;\n",
       "    }\n",
       "\n",
       "    .dataframe thead th {\n",
       "        text-align: right;\n",
       "    }\n",
       "</style>\n",
       "<table border=\"1\" class=\"dataframe\">\n",
       "  <thead>\n",
       "    <tr style=\"text-align: right;\">\n",
       "      <th></th>\n",
       "      <th>web_page_hits</th>\n",
       "    </tr>\n",
       "  </thead>\n",
       "  <tbody>\n",
       "    <tr>\n",
       "      <th>0</th>\n",
       "      <td>1603893</td>\n",
       "    </tr>\n",
       "  </tbody>\n",
       "</table>\n",
       "</div>"
      ],
      "text/plain": [
       "   web_page_hits\n",
       "0        1603893"
      ]
     },
     "execution_count": 9,
     "metadata": {},
     "output_type": "execute_result"
    }
   ],
   "source": [
    "pd.read_sql(f\"\"\"\n",
    "    SELECT COUNT(*) AS web_page_hits\n",
    "    FROM web_page_hits\n",
    "    WHERE accessed_at::date BETWEEN '{start_date}' AND '{end_date}'\n",
    "\"\"\", conn)"
   ]
  },
  {
   "cell_type": "code",
   "execution_count": 10,
   "metadata": {},
   "outputs": [
    {
     "data": {
      "text/html": [
       "<div>\n",
       "<style scoped>\n",
       "    .dataframe tbody tr th:only-of-type {\n",
       "        vertical-align: middle;\n",
       "    }\n",
       "\n",
       "    .dataframe tbody tr th {\n",
       "        vertical-align: top;\n",
       "    }\n",
       "\n",
       "    .dataframe thead th {\n",
       "        text-align: right;\n",
       "    }\n",
       "</style>\n",
       "<table border=\"1\" class=\"dataframe\">\n",
       "  <thead>\n",
       "    <tr style=\"text-align: right;\">\n",
       "      <th></th>\n",
       "      <th>m</th>\n",
       "      <th>c</th>\n",
       "    </tr>\n",
       "  </thead>\n",
       "  <tbody>\n",
       "    <tr>\n",
       "      <th>0</th>\n",
       "      <td>2021-01-01</td>\n",
       "      <td>1960137</td>\n",
       "    </tr>\n",
       "    <tr>\n",
       "      <th>1</th>\n",
       "      <td>2021-02-01</td>\n",
       "      <td>3424032</td>\n",
       "    </tr>\n",
       "    <tr>\n",
       "      <th>2</th>\n",
       "      <td>2021-03-01</td>\n",
       "      <td>3878585</td>\n",
       "    </tr>\n",
       "    <tr>\n",
       "      <th>3</th>\n",
       "      <td>2021-04-01</td>\n",
       "      <td>2956219</td>\n",
       "    </tr>\n",
       "    <tr>\n",
       "      <th>4</th>\n",
       "      <td>2021-05-01</td>\n",
       "      <td>2752983</td>\n",
       "    </tr>\n",
       "    <tr>\n",
       "      <th>5</th>\n",
       "      <td>2021-06-01</td>\n",
       "      <td>2762739</td>\n",
       "    </tr>\n",
       "    <tr>\n",
       "      <th>6</th>\n",
       "      <td>2021-07-01</td>\n",
       "      <td>2325759</td>\n",
       "    </tr>\n",
       "    <tr>\n",
       "      <th>7</th>\n",
       "      <td>2021-08-01</td>\n",
       "      <td>2523731</td>\n",
       "    </tr>\n",
       "    <tr>\n",
       "      <th>8</th>\n",
       "      <td>2021-09-01</td>\n",
       "      <td>2198364</td>\n",
       "    </tr>\n",
       "    <tr>\n",
       "      <th>9</th>\n",
       "      <td>2021-10-01</td>\n",
       "      <td>4263286</td>\n",
       "    </tr>\n",
       "    <tr>\n",
       "      <th>10</th>\n",
       "      <td>2021-11-01</td>\n",
       "      <td>4062858</td>\n",
       "    </tr>\n",
       "    <tr>\n",
       "      <th>11</th>\n",
       "      <td>2021-12-01</td>\n",
       "      <td>3616106</td>\n",
       "    </tr>\n",
       "  </tbody>\n",
       "</table>\n",
       "</div>"
      ],
      "text/plain": [
       "            m        c\n",
       "0  2021-01-01  1960137\n",
       "1  2021-02-01  3424032\n",
       "2  2021-03-01  3878585\n",
       "3  2021-04-01  2956219\n",
       "4  2021-05-01  2752983\n",
       "5  2021-06-01  2762739\n",
       "6  2021-07-01  2325759\n",
       "7  2021-08-01  2523731\n",
       "8  2021-09-01  2198364\n",
       "9  2021-10-01  4263286\n",
       "10 2021-11-01  4062858\n",
       "11 2021-12-01  3616106"
      ]
     },
     "execution_count": 10,
     "metadata": {},
     "output_type": "execute_result"
    }
   ],
   "source": [
    "downloads_by_month = pd.read_sql(f\"\"\"\n",
    "    SELECT date_trunc('month', accessed_at) m, COUNT(*) AS c\n",
    "    FROM downloads\n",
    "    WHERE accessed_at::date BETWEEN '{start_date}' AND '{end_date}'\n",
    "    GROUP BY m\n",
    "    ORDER BY m\n",
    "\"\"\", conn)\n",
    "\n",
    "downloads_by_month"
   ]
  },
  {
   "cell_type": "code",
   "execution_count": 11,
   "metadata": {},
   "outputs": [
    {
     "data": {
      "image/png": "[encoded data removed]",
      "text/plain": [
       "<Figure size 720x432 with 1 Axes>"
      ]
     },
     "metadata": {},
     "output_type": "display_data"
    }
   ],
   "source": [
    "plt.rcParams[\"figure.figsize\"] = (10, 6)\n",
    "\n",
    "downloads = {\n",
    "    'Jan': downloads_by_month.c[0],\n",
    "    'Feb': downloads_by_month.c[1],\n",
    "    'Mar': downloads_by_month.c[2],\n",
    "    'Apr': downloads_by_month.c[3],\n",
    "    'May': downloads_by_month.c[4],\n",
    "    'Jun': downloads_by_month.c[5],\n",
    "    'Jul': downloads_by_month.c[6],\n",
    "    'Aug': downloads_by_month.c[7],\n",
    "    'Sep': downloads_by_month.c[8],\n",
    "    'Oct': downloads_by_month.c[9],\n",
    "    'Nov': downloads_by_month.c[10],\n",
    "    'Dec': downloads_by_month.c[11],\n",
    "}\n",
    "\n",
    "colors = ['blue'] * 12\n",
    "plt.bar(range(len(downloads)), downloads.values(), color=colors)\n",
    "plt.title('Downloads by month')\n",
    "plt.xticks(range(len(downloads)), list(downloads.keys()))\n",
    "\n",
    "plt.savefig('year-downloads-by-month.png')\n",
    "\n",
    "plt.show()"
   ]
  },
  {
   "cell_type": "code",
   "execution_count": 12,
   "metadata": {},
   "outputs": [
    {
     "data": {
      "text/plain": [
       "222470704"
      ]
     },
     "execution_count": 12,
     "metadata": {},
     "output_type": "execute_result"
    }
   ],
   "source": [
    "df = pd.read_sql(f\"\"\"\n",
    "    SELECT COUNT(*) AS searches_in_period\n",
    "    FROM searches\n",
    "    WHERE accessed_at BETWEEN '{start_time}' AND '{end_time}'\n",
    "\"\"\", conn)\n",
    "\n",
    "searches = df.values[0][0]\n",
    "searches"
   ]
  },
  {
   "cell_type": "code",
   "execution_count": 13,
   "metadata": {},
   "outputs": [
    {
     "data": {
      "text/html": [
       "<div>\n",
       "<style scoped>\n",
       "    .dataframe tbody tr th:only-of-type {\n",
       "        vertical-align: middle;\n",
       "    }\n",
       "\n",
       "    .dataframe tbody tr th {\n",
       "        vertical-align: top;\n",
       "    }\n",
       "\n",
       "    .dataframe thead th {\n",
       "        text-align: right;\n",
       "    }\n",
       "</style>\n",
       "<table border=\"1\" class=\"dataframe\">\n",
       "  <thead>\n",
       "    <tr style=\"text-align: right;\">\n",
       "      <th></th>\n",
       "      <th>total_time_saved_in_quarter</th>\n",
       "    </tr>\n",
       "  </thead>\n",
       "  <tbody>\n",
       "    <tr>\n",
       "      <th>0</th>\n",
       "      <td>58024 days 19:57:59.802491</td>\n",
       "    </tr>\n",
       "  </tbody>\n",
       "</table>\n",
       "</div>"
      ],
      "text/plain": [
       "  total_time_saved_in_quarter\n",
       "0  58024 days 19:57:59.802491"
      ]
     },
     "execution_count": 13,
     "metadata": {},
     "output_type": "execute_result"
    }
   ],
   "source": [
    "pd.read_sql(f\"\"\"\n",
    "    SELECT JUSTIFY_INTERVAL(SUM(\n",
    "        CASE f.platform_tag\n",
    "            WHEN 'linux_armv7l' THEN 1                           \n",
    "            WHEN 'linux_armv6l' THEN 6                                                       \n",
    "            ELSE 0           \n",
    "        END *\n",
    "        CASE                        \n",
    "            WHEN b.duration > INTERVAL '1 week' THEN INTERVAL '0'\n",
    "            WHEN b.duration > INTERVAL '6.7 seconds' THEN b.duration - INTERVAL '6.7 seconds'\n",
    "            ELSE INTERVAL '0'               \n",
    "        END                  \n",
    "        )) AS total_time_saved_in_quarter                        \n",
    "    FROM downloads d\n",
    "    JOIN files f USING (filename)\n",
    "    JOIN builds b USING (build_id)\n",
    "    WHERE f.abi_tag <> 'none'\n",
    "    AND d.accessed_at::date BETWEEN '{start_date}' AND '{end_date}'\n",
    "\"\"\", conn)"
   ]
  },
  {
   "cell_type": "code",
   "execution_count": 14,
   "metadata": {},
   "outputs": [
    {
     "data": {
      "text/html": [
       "<div>\n",
       "<style scoped>\n",
       "    .dataframe tbody tr th:only-of-type {\n",
       "        vertical-align: middle;\n",
       "    }\n",
       "\n",
       "    .dataframe tbody tr th {\n",
       "        vertical-align: top;\n",
       "    }\n",
       "\n",
       "    .dataframe thead th {\n",
       "        text-align: right;\n",
       "    }\n",
       "</style>\n",
       "<table border=\"1\" class=\"dataframe\">\n",
       "  <thead>\n",
       "    <tr style=\"text-align: right;\">\n",
       "      <th></th>\n",
       "      <th>sum</th>\n",
       "    </tr>\n",
       "  </thead>\n",
       "  <tbody>\n",
       "    <tr>\n",
       "      <th>0</th>\n",
       "      <td>50640689705559</td>\n",
       "    </tr>\n",
       "  </tbody>\n",
       "</table>\n",
       "</div>"
      ],
      "text/plain": [
       "              sum\n",
       "0  50640689705559"
      ]
     },
     "execution_count": 14,
     "metadata": {},
     "output_type": "execute_result"
    }
   ],
   "source": [
    "pd.read_sql(f\"\"\"\n",
    "    SELECT SUM(filesize)\n",
    "    FROM downloads\n",
    "    JOIN files using (filename)\n",
    "    WHERE accessed_at::date BETWEEN '{start_date}' AND '{end_date}'\n",
    "\"\"\", conn)"
   ]
  },
  {
   "cell_type": "code",
   "execution_count": 15,
   "metadata": {},
   "outputs": [
    {
     "data": {
      "text/html": [
       "<div>\n",
       "<style scoped>\n",
       "    .dataframe tbody tr th:only-of-type {\n",
       "        vertical-align: middle;\n",
       "    }\n",
       "\n",
       "    .dataframe tbody tr th {\n",
       "        vertical-align: top;\n",
       "    }\n",
       "\n",
       "    .dataframe thead th {\n",
       "        text-align: right;\n",
       "    }\n",
       "</style>\n",
       "<table border=\"1\" class=\"dataframe\">\n",
       "  <thead>\n",
       "    <tr style=\"text-align: right;\">\n",
       "      <th></th>\n",
       "      <th>package</th>\n",
       "      <th>c</th>\n",
       "    </tr>\n",
       "  </thead>\n",
       "  <tbody>\n",
       "    <tr>\n",
       "      <th>0</th>\n",
       "      <td>requests</td>\n",
       "      <td>684141</td>\n",
       "    </tr>\n",
       "    <tr>\n",
       "      <th>1</th>\n",
       "      <td>numpy</td>\n",
       "      <td>546668</td>\n",
       "    </tr>\n",
       "    <tr>\n",
       "      <th>2</th>\n",
       "      <td>setuptools</td>\n",
       "      <td>524595</td>\n",
       "    </tr>\n",
       "    <tr>\n",
       "      <th>3</th>\n",
       "      <td>pip</td>\n",
       "      <td>460168</td>\n",
       "    </tr>\n",
       "    <tr>\n",
       "      <th>4</th>\n",
       "      <td>idna</td>\n",
       "      <td>443288</td>\n",
       "    </tr>\n",
       "    <tr>\n",
       "      <th>5</th>\n",
       "      <td>urllib3</td>\n",
       "      <td>425864</td>\n",
       "    </tr>\n",
       "    <tr>\n",
       "      <th>6</th>\n",
       "      <td>chardet</td>\n",
       "      <td>420834</td>\n",
       "    </tr>\n",
       "    <tr>\n",
       "      <th>7</th>\n",
       "      <td>certifi</td>\n",
       "      <td>407524</td>\n",
       "    </tr>\n",
       "    <tr>\n",
       "      <th>8</th>\n",
       "      <td>websocket-client</td>\n",
       "      <td>404080</td>\n",
       "    </tr>\n",
       "    <tr>\n",
       "      <th>9</th>\n",
       "      <td>six</td>\n",
       "      <td>403825</td>\n",
       "    </tr>\n",
       "    <tr>\n",
       "      <th>10</th>\n",
       "      <td>importlib-metadata</td>\n",
       "      <td>392717</td>\n",
       "    </tr>\n",
       "    <tr>\n",
       "      <th>11</th>\n",
       "      <td>pillow</td>\n",
       "      <td>388883</td>\n",
       "    </tr>\n",
       "    <tr>\n",
       "      <th>12</th>\n",
       "      <td>typing-extensions</td>\n",
       "      <td>387626</td>\n",
       "    </tr>\n",
       "    <tr>\n",
       "      <th>13</th>\n",
       "      <td>pyyaml</td>\n",
       "      <td>368142</td>\n",
       "    </tr>\n",
       "    <tr>\n",
       "      <th>14</th>\n",
       "      <td>attrs</td>\n",
       "      <td>348164</td>\n",
       "    </tr>\n",
       "    <tr>\n",
       "      <th>15</th>\n",
       "      <td>cffi</td>\n",
       "      <td>337885</td>\n",
       "    </tr>\n",
       "    <tr>\n",
       "      <th>16</th>\n",
       "      <td>click</td>\n",
       "      <td>337042</td>\n",
       "    </tr>\n",
       "    <tr>\n",
       "      <th>17</th>\n",
       "      <td>wheel</td>\n",
       "      <td>329901</td>\n",
       "    </tr>\n",
       "    <tr>\n",
       "      <th>18</th>\n",
       "      <td>jinja2</td>\n",
       "      <td>316285</td>\n",
       "    </tr>\n",
       "    <tr>\n",
       "      <th>19</th>\n",
       "      <td>h11</td>\n",
       "      <td>315878</td>\n",
       "    </tr>\n",
       "    <tr>\n",
       "      <th>20</th>\n",
       "      <td>octoprint-pisupport</td>\n",
       "      <td>309915</td>\n",
       "    </tr>\n",
       "    <tr>\n",
       "      <th>21</th>\n",
       "      <td>octoprint-firmwarecheck</td>\n",
       "      <td>307221</td>\n",
       "    </tr>\n",
       "    <tr>\n",
       "      <th>22</th>\n",
       "      <td>markupsafe</td>\n",
       "      <td>277070</td>\n",
       "    </tr>\n",
       "    <tr>\n",
       "      <th>23</th>\n",
       "      <td>zipp</td>\n",
       "      <td>276298</td>\n",
       "    </tr>\n",
       "    <tr>\n",
       "      <th>24</th>\n",
       "      <td>python-dateutil</td>\n",
       "      <td>264416</td>\n",
       "    </tr>\n",
       "    <tr>\n",
       "      <th>25</th>\n",
       "      <td>charset-normalizer</td>\n",
       "      <td>256203</td>\n",
       "    </tr>\n",
       "    <tr>\n",
       "      <th>26</th>\n",
       "      <td>tornado</td>\n",
       "      <td>243797</td>\n",
       "    </tr>\n",
       "    <tr>\n",
       "      <th>27</th>\n",
       "      <td>pycparser</td>\n",
       "      <td>239223</td>\n",
       "    </tr>\n",
       "    <tr>\n",
       "      <th>28</th>\n",
       "      <td>async-timeout</td>\n",
       "      <td>238955</td>\n",
       "    </tr>\n",
       "    <tr>\n",
       "      <th>29</th>\n",
       "      <td>immutabledict</td>\n",
       "      <td>231729</td>\n",
       "    </tr>\n",
       "  </tbody>\n",
       "</table>\n",
       "</div>"
      ],
      "text/plain": [
       "                    package       c\n",
       "0                  requests  684141\n",
       "1                     numpy  546668\n",
       "2                setuptools  524595\n",
       "3                       pip  460168\n",
       "4                      idna  443288\n",
       "5                   urllib3  425864\n",
       "6                   chardet  420834\n",
       "7                   certifi  407524\n",
       "8          websocket-client  404080\n",
       "9                       six  403825\n",
       "10       importlib-metadata  392717\n",
       "11                   pillow  388883\n",
       "12        typing-extensions  387626\n",
       "13                   pyyaml  368142\n",
       "14                    attrs  348164\n",
       "15                     cffi  337885\n",
       "16                    click  337042\n",
       "17                    wheel  329901\n",
       "18                   jinja2  316285\n",
       "19                      h11  315878\n",
       "20      octoprint-pisupport  309915\n",
       "21  octoprint-firmwarecheck  307221\n",
       "22               markupsafe  277070\n",
       "23                     zipp  276298\n",
       "24          python-dateutil  264416\n",
       "25       charset-normalizer  256203\n",
       "26                  tornado  243797\n",
       "27                pycparser  239223\n",
       "28            async-timeout  238955\n",
       "29            immutabledict  231729"
      ]
     },
     "execution_count": 15,
     "metadata": {},
     "output_type": "execute_result"
    }
   ],
   "source": [
    "top_30_downloads = pd.read_sql(f\"\"\"\n",
    "    SELECT package, COUNT(*) c\n",
    "    FROM downloads\n",
    "    JOIN files USING (filename)\n",
    "    JOIN builds USING (build_id)\n",
    "    WHERE accessed_at::date BETWEEN '{start_date}' AND '{end_date}'\n",
    "    GROUP BY package\n",
    "    ORDER BY c DESC\n",
    "    limit 30\n",
    "\"\"\", conn)\n",
    "\n",
    "top_30_downloads"
   ]
  },
  {
   "cell_type": "code",
   "execution_count": 16,
   "metadata": {},
   "outputs": [
    {
     "name": "stdout",
     "output_type": "stream",
     "text": [
      "<ol>\n",
      "<li><strong><a href='https://www.piwheels.org/project/requests'>requests</a></strong> (684,141)</li>\n",
      "<li><strong><a href='https://www.piwheels.org/project/numpy'>numpy</a></strong> (546,668)</li>\n",
      "<li><strong><a href='https://www.piwheels.org/project/setuptools'>setuptools</a></strong> (524,595)</li>\n",
      "<li><strong><a href='https://www.piwheels.org/project/pip'>pip</a></strong> (460,168)</li>\n",
      "<li><strong><a href='https://www.piwheels.org/project/idna'>idna</a></strong> (443,288)</li>\n",
      "<li><strong><a href='https://www.piwheels.org/project/urllib3'>urllib3</a></strong> (425,864)</li>\n",
      "<li><strong><a href='https://www.piwheels.org/project/chardet'>chardet</a></strong> (420,834)</li>\n",
      "<li><strong><a href='https://www.piwheels.org/project/certifi'>certifi</a></strong> (407,524)</li>\n",
      "<li><strong><a href='https://www.piwheels.org/project/websocket-client'>websocket-client</a></strong> (404,080)</li>\n",
      "<li><strong><a href='https://www.piwheels.org/project/six'>six</a></strong> (403,825)</li>\n",
      "<li><strong><a href='https://www.piwheels.org/project/importlib-metadata'>importlib-metadata</a></strong> (392,717)</li>\n",
      "<li><strong><a href='https://www.piwheels.org/project/pillow'>pillow</a></strong> (388,883)</li>\n",
      "<li><strong><a href='https://www.piwheels.org/project/typing-extensions'>typing-extensions</a></strong> (387,626)</li>\n",
      "<li><strong><a href='https://www.piwheels.org/project/pyyaml'>pyyaml</a></strong> (368,142)</li>\n",
      "<li><strong><a href='https://www.piwheels.org/project/attrs'>attrs</a></strong> (348,164)</li>\n",
      "<li><strong><a href='https://www.piwheels.org/project/cffi'>cffi</a></strong> (337,885)</li>\n",
      "<li><strong><a href='https://www.piwheels.org/project/click'>click</a></strong> (337,042)</li>\n",
      "<li><strong><a href='https://www.piwheels.org/project/wheel'>wheel</a></strong> (329,901)</li>\n",
      "<li><strong><a href='https://www.piwheels.org/project/jinja2'>jinja2</a></strong> (316,285)</li>\n",
      "<li><strong><a href='https://www.piwheels.org/project/h11'>h11</a></strong> (315,878)</li>\n",
      "<li><strong><a href='https://www.piwheels.org/project/octoprint-pisupport'>octoprint-pisupport</a></strong> (309,915)</li>\n",
      "<li><strong><a href='https://www.piwheels.org/project/octoprint-firmwarecheck'>octoprint-firmwarecheck</a></strong> (307,221)</li>\n",
      "<li><strong><a href='https://www.piwheels.org/project/markupsafe'>markupsafe</a></strong> (277,070)</li>\n",
      "<li><strong><a href='https://www.piwheels.org/project/zipp'>zipp</a></strong> (276,298)</li>\n",
      "<li><strong><a href='https://www.piwheels.org/project/python-dateutil'>python-dateutil</a></strong> (264,416)</li>\n",
      "<li><strong><a href='https://www.piwheels.org/project/charset-normalizer'>charset-normalizer</a></strong> (256,203)</li>\n",
      "<li><strong><a href='https://www.piwheels.org/project/tornado'>tornado</a></strong> (243,797)</li>\n",
      "<li><strong><a href='https://www.piwheels.org/project/pycparser'>pycparser</a></strong> (239,223)</li>\n",
      "<li><strong><a href='https://www.piwheels.org/project/async-timeout'>async-timeout</a></strong> (238,955)</li>\n",
      "<li><strong><a href='https://www.piwheels.org/project/immutabledict'>immutabledict</a></strong> (231,729)</li>\n",
      "</ol>\n"
     ]
    }
   ],
   "source": [
    "print(\"<ol>\")\n",
    "for i, row in top_30_downloads.iterrows():\n",
    "    print(f\"<li><strong><a href='https://www.piwheels.org/project/{row['package']}'>{row['package']}</a></strong> ({row['c']:,})</li>\")\n",
    "print(\"</ol>\")"
   ]
  },
  {
   "cell_type": "code",
   "execution_count": 17,
   "metadata": {},
   "outputs": [
    {
     "data": {
      "text/html": [
       "<div>\n",
       "<style scoped>\n",
       "    .dataframe tbody tr th:only-of-type {\n",
       "        vertical-align: middle;\n",
       "    }\n",
       "\n",
       "    .dataframe tbody tr th {\n",
       "        vertical-align: top;\n",
       "    }\n",
       "\n",
       "    .dataframe thead th {\n",
       "        text-align: right;\n",
       "    }\n",
       "</style>\n",
       "<table border=\"1\" class=\"dataframe\">\n",
       "  <thead>\n",
       "    <tr style=\"text-align: right;\">\n",
       "      <th></th>\n",
       "      <th>package</th>\n",
       "      <th>c</th>\n",
       "    </tr>\n",
       "  </thead>\n",
       "  <tbody>\n",
       "    <tr>\n",
       "      <th>0</th>\n",
       "      <td>pip</td>\n",
       "      <td>28919044</td>\n",
       "    </tr>\n",
       "    <tr>\n",
       "      <th>1</th>\n",
       "      <td>wheel</td>\n",
       "      <td>18932499</td>\n",
       "    </tr>\n",
       "    <tr>\n",
       "      <th>2</th>\n",
       "      <td>setuptools</td>\n",
       "      <td>11807471</td>\n",
       "    </tr>\n",
       "    <tr>\n",
       "      <th>3</th>\n",
       "      <td>pyrogram</td>\n",
       "      <td>4237340</td>\n",
       "    </tr>\n",
       "    <tr>\n",
       "      <th>4</th>\n",
       "      <td>future</td>\n",
       "      <td>3078697</td>\n",
       "    </tr>\n",
       "    <tr>\n",
       "      <th>5</th>\n",
       "      <td>pyngrok</td>\n",
       "      <td>2663116</td>\n",
       "    </tr>\n",
       "    <tr>\n",
       "      <th>6</th>\n",
       "      <td>youtube-dl</td>\n",
       "      <td>2565085</td>\n",
       "    </tr>\n",
       "    <tr>\n",
       "      <th>7</th>\n",
       "      <td>aiohttp</td>\n",
       "      <td>2361757</td>\n",
       "    </tr>\n",
       "    <tr>\n",
       "      <th>8</th>\n",
       "      <td>six</td>\n",
       "      <td>2219219</td>\n",
       "    </tr>\n",
       "    <tr>\n",
       "      <th>9</th>\n",
       "      <td>requests</td>\n",
       "      <td>2190259</td>\n",
       "    </tr>\n",
       "  </tbody>\n",
       "</table>\n",
       "</div>"
      ],
      "text/plain": [
       "      package         c\n",
       "0         pip  28919044\n",
       "1       wheel  18932499\n",
       "2  setuptools  11807471\n",
       "3    pyrogram   4237340\n",
       "4      future   3078697\n",
       "5     pyngrok   2663116\n",
       "6  youtube-dl   2565085\n",
       "7     aiohttp   2361757\n",
       "8         six   2219219\n",
       "9    requests   2190259"
      ]
     },
     "execution_count": 17,
     "metadata": {},
     "output_type": "execute_result"
    }
   ],
   "source": [
    "top_10_searches = pd.read_sql(f\"\"\"\n",
    "    SELECT package, COUNT(*) c\n",
    "    FROM searches\n",
    "    WHERE accessed_at BETWEEN '{start_time}' AND '{end_time}'\n",
    "    GROUP BY package\n",
    "    ORDER BY c desc\n",
    "    LIMIT 10\n",
    "\"\"\", conn)\n",
    "\n",
    "top_10_searches"
   ]
  },
  {
   "cell_type": "code",
   "execution_count": 18,
   "metadata": {},
   "outputs": [
    {
     "name": "stdout",
     "output_type": "stream",
     "text": [
      "<ol>\n",
      "<li><strong><a href='https://www.piwheels.org/project/pip'>pip</a></strong> (28,919,044)</li>\n",
      "<li><strong><a href='https://www.piwheels.org/project/wheel'>wheel</a></strong> (18,932,499)</li>\n",
      "<li><strong><a href='https://www.piwheels.org/project/setuptools'>setuptools</a></strong> (11,807,471)</li>\n",
      "<li><strong><a href='https://www.piwheels.org/project/pyrogram'>pyrogram</a></strong> (4,237,340)</li>\n",
      "<li><strong><a href='https://www.piwheels.org/project/future'>future</a></strong> (3,078,697)</li>\n",
      "<li><strong><a href='https://www.piwheels.org/project/pyngrok'>pyngrok</a></strong> (2,663,116)</li>\n",
      "<li><strong><a href='https://www.piwheels.org/project/youtube-dl'>youtube-dl</a></strong> (2,565,085)</li>\n",
      "<li><strong><a href='https://www.piwheels.org/project/aiohttp'>aiohttp</a></strong> (2,361,757)</li>\n",
      "<li><strong><a href='https://www.piwheels.org/project/six'>six</a></strong> (2,219,219)</li>\n",
      "<li><strong><a href='https://www.piwheels.org/project/requests'>requests</a></strong> (2,190,259)</li>\n",
      "</ol>\n"
     ]
    }
   ],
   "source": [
    "print(\"<ol>\")\n",
    "for pkg, c in top_10_searches.values:\n",
    "    print(f\"<li><strong><a href='https://www.piwheels.org/project/{pkg}'>{pkg}</a></strong> ({c:,})</li>\")\n",
    "print(\"</ol>\")"
   ]
  },
  {
   "cell_type": "code",
   "execution_count": 19,
   "metadata": {},
   "outputs": [
    {
     "data": {
      "text/html": [
       "<div>\n",
       "<style scoped>\n",
       "    .dataframe tbody tr th:only-of-type {\n",
       "        vertical-align: middle;\n",
       "    }\n",
       "\n",
       "    .dataframe tbody tr th {\n",
       "        vertical-align: top;\n",
       "    }\n",
       "\n",
       "    .dataframe thead th {\n",
       "        text-align: right;\n",
       "    }\n",
       "</style>\n",
       "<table border=\"1\" class=\"dataframe\">\n",
       "  <thead>\n",
       "    <tr style=\"text-align: right;\">\n",
       "      <th></th>\n",
       "      <th>package</th>\n",
       "      <th>c</th>\n",
       "    </tr>\n",
       "  </thead>\n",
       "  <tbody>\n",
       "    <tr>\n",
       "      <th>0</th>\n",
       "      <td>opencv-python</td>\n",
       "      <td>5855</td>\n",
       "    </tr>\n",
       "    <tr>\n",
       "      <th>1</th>\n",
       "      <td>opencv-contrib-python</td>\n",
       "      <td>5200</td>\n",
       "    </tr>\n",
       "    <tr>\n",
       "      <th>2</th>\n",
       "      <td>numpy</td>\n",
       "      <td>4713</td>\n",
       "    </tr>\n",
       "    <tr>\n",
       "      <th>3</th>\n",
       "      <td>scipy</td>\n",
       "      <td>3206</td>\n",
       "    </tr>\n",
       "    <tr>\n",
       "      <th>4</th>\n",
       "      <td>tensorflow</td>\n",
       "      <td>2770</td>\n",
       "    </tr>\n",
       "    <tr>\n",
       "      <th>5</th>\n",
       "      <td>lilurl</td>\n",
       "      <td>2658</td>\n",
       "    </tr>\n",
       "    <tr>\n",
       "      <th>6</th>\n",
       "      <td>cryptography</td>\n",
       "      <td>2107</td>\n",
       "    </tr>\n",
       "    <tr>\n",
       "      <th>7</th>\n",
       "      <td>pillow</td>\n",
       "      <td>1774</td>\n",
       "    </tr>\n",
       "    <tr>\n",
       "      <th>8</th>\n",
       "      <td>pandas</td>\n",
       "      <td>1742</td>\n",
       "    </tr>\n",
       "    <tr>\n",
       "      <th>9</th>\n",
       "      <td>scikit-image</td>\n",
       "      <td>1673</td>\n",
       "    </tr>\n",
       "  </tbody>\n",
       "</table>\n",
       "</div>"
      ],
      "text/plain": [
       "                 package     c\n",
       "0          opencv-python  5855\n",
       "1  opencv-contrib-python  5200\n",
       "2                  numpy  4713\n",
       "3                  scipy  3206\n",
       "4             tensorflow  2770\n",
       "5                 lilurl  2658\n",
       "6           cryptography  2107\n",
       "7                 pillow  1774\n",
       "8                 pandas  1742\n",
       "9           scikit-image  1673"
      ]
     },
     "execution_count": 19,
     "metadata": {},
     "output_type": "execute_result"
    }
   ],
   "source": [
    "top_10_project_pages = pd.read_sql(f\"\"\"\n",
    "    SELECT package, COUNT(*) c\n",
    "    FROM project_page_hits\n",
    "    WHERE accessed_at::date BETWEEN '{start_date}' AND '{end_date}'\n",
    "    GROUP BY package\n",
    "    ORDER BY c desc\n",
    "    LIMIT 10\n",
    "\"\"\", conn)\n",
    "\n",
    "top_10_project_pages"
   ]
  },
  {
   "cell_type": "code",
   "execution_count": 20,
   "metadata": {},
   "outputs": [
    {
     "name": "stdout",
     "output_type": "stream",
     "text": [
      "<ol>\n",
      "<li><strong><a href='https://www.piwheels.org/project/opencv-python'>opencv-python</a></strong> (5,855)</li>\n",
      "<li><strong><a href='https://www.piwheels.org/project/opencv-contrib-python'>opencv-contrib-python</a></strong> (5,200)</li>\n",
      "<li><strong><a href='https://www.piwheels.org/project/numpy'>numpy</a></strong> (4,713)</li>\n",
      "<li><strong><a href='https://www.piwheels.org/project/scipy'>scipy</a></strong> (3,206)</li>\n",
      "<li><strong><a href='https://www.piwheels.org/project/tensorflow'>tensorflow</a></strong> (2,770)</li>\n",
      "<li><strong><a href='https://www.piwheels.org/project/lilurl'>lilurl</a></strong> (2,658)</li>\n",
      "<li><strong><a href='https://www.piwheels.org/project/cryptography'>cryptography</a></strong> (2,107)</li>\n",
      "<li><strong><a href='https://www.piwheels.org/project/pillow'>pillow</a></strong> (1,774)</li>\n",
      "<li><strong><a href='https://www.piwheels.org/project/pandas'>pandas</a></strong> (1,742)</li>\n",
      "<li><strong><a href='https://www.piwheels.org/project/scikit-image'>scikit-image</a></strong> (1,673)</li>\n",
      "</ol>\n"
     ]
    }
   ],
   "source": [
    "print(\"<ol>\")\n",
    "for pkg, c in top_10_project_pages.values:\n",
    "    print(f\"<li><strong><a href='https://www.piwheels.org/project/{pkg}'>{pkg}</a></strong> ({c:,})</li>\")\n",
    "print(\"</ol>\")"
   ]
  },
  {
   "cell_type": "code",
   "execution_count": null,
   "metadata": {},
   "outputs": [],
   "source": [
    "os_usage = pd.read_sql(f\"\"\"\n",
    "    SELECT os_name, COUNT(*) c\n",
    "    FROM searches\n",
    "    WHERE accessed_at BETWEEN '{start_time}' AND '{end_time}'\n",
    "    GROUP BY os_name\n",
    "    ORDER BY c desc\n",
    "\"\"\", conn)\n",
    "\n",
    "os_usage"
   ]
  },
  {
   "cell_type": "code",
   "execution_count": null,
   "metadata": {},
   "outputs": [],
   "source": [
    "os_usage.values[0][1] / searches"
   ]
  },
  {
   "cell_type": "code",
   "execution_count": null,
   "metadata": {},
   "outputs": [],
   "source": [
    "distro_usage = pd.read_sql(f\"\"\"\n",
    "    SELECT distro_name, COUNT(*) c\n",
    "    FROM searches\n",
    "    WHERE accessed_at BETWEEN '{start_time}' AND '{end_time}'\n",
    "    AND os_name = 'Linux'\n",
    "    GROUP BY distro_name\n",
    "    ORDER BY c desc\n",
    "    LIMIT 5\n",
    "\"\"\", conn)\n",
    "\n",
    "distro_usage"
   ]
  },
  {
   "cell_type": "code",
   "execution_count": null,
   "metadata": {},
   "outputs": [],
   "source": [
    "distro_versions = pd.read_sql(f\"\"\"\n",
    "    SELECT distro_version, count(*) c\n",
    "    FROM searches\n",
    "    WHERE accessed_at BETWEEN '{start_time}' AND '{end_time}'\n",
    "    AND os_name = 'Linux'\n",
    "    AND distro_name in ('Raspbian GNU/Linux', 'Debian GNU/Linux')\n",
    "    AND distro_version in ('8', '9', '10', '11')\n",
    "    GROUP BY distro_version\n",
    "    ORDER BY c desc\n",
    "\"\"\", conn)\n",
    "\n",
    "distro_versions"
   ]
  },
  {
   "cell_type": "code",
   "execution_count": null,
   "metadata": {},
   "outputs": [],
   "source": [
    "total = sum(distro_versions.c)\n",
    "\n",
    "for v in distro_versions.values:\n",
    "    print(v[0], f'{(100 * v[1] / total):.1f}%')"
   ]
  },
  {
   "cell_type": "code",
   "execution_count": null,
   "metadata": {},
   "outputs": [],
   "source": [
    "version_names = {'11': 'Bullseye', '10': 'Buster', '9': 'Stretch', '8': 'Jessie'}\n",
    "plt.pie(distro_versions.c, labels=[version_names[v] for v in distro_versions.distro_version])\n",
    "plt.title('Raspbian/Debian version usage')\n",
    "\n",
    "plt.savefig('year-debian-usage.png')\n",
    "\n",
    "plt.show()"
   ]
  },
  {
   "cell_type": "code",
   "execution_count": null,
   "metadata": {},
   "outputs": [],
   "source": [
    "arch = pd.read_sql(f\"\"\"\n",
    "    SELECT arch, COUNT(*) c\n",
    "    FROM searches\n",
    "    WHERE accessed_at BETWEEN '{start_time}' AND '{end_time}'\n",
    "    GROUP BY arch\n",
    "    ORDER BY c desc\n",
    "\"\"\", conn)\n",
    "\n",
    "arch"
   ]
  },
  {
   "cell_type": "code",
   "execution_count": null,
   "metadata": {},
   "outputs": [],
   "source": [
    "plt.pie(arch.c, labels=arch.arch)\n",
    "plt.title('Architecture usage')\n",
    "\n",
    "plt.savefig('year-arch.png')\n",
    "\n",
    "plt.show()"
   ]
  },
  {
   "cell_type": "code",
   "execution_count": null,
   "metadata": {},
   "outputs": [],
   "source": [
    "arm_arch = pd.read_sql(f\"\"\"\n",
    "    SELECT arch, COUNT(*) c\n",
    "    FROM searches\n",
    "    WHERE accessed_at BETWEEN '{start_time}' AND '{end_time}'\n",
    "    AND os_name = 'Linux'\n",
    "    AND distro_name in ('Raspbian GNU/Linux', 'Debian GNU/Linux')\n",
    "    AND arch in ('armv6l', 'armv7l', 'aarch64')\n",
    "    GROUP BY arch\n",
    "    ORDER BY c DESC\n",
    "\"\"\", conn)\n",
    "\n",
    "total = sum(arm_arch.c)\n",
    "\n",
    "for v in arm_arch.values:\n",
    "    print(v[0], f'{(100 * v[1] / total):.1f}%') "
   ]
  },
  {
   "cell_type": "code",
   "execution_count": null,
   "metadata": {},
   "outputs": [],
   "source": [
    "plt.pie(arm_arch.c, labels=arm_arch.arch)\n",
    "plt.title('Raspbian/Debian Arm architecture usage')\n",
    "\n",
    "plt.savefig('year-debian-arch.png')\n",
    "\n",
    "plt.show()"
   ]
  },
  {
   "cell_type": "code",
   "execution_count": null,
   "metadata": {},
   "outputs": [],
   "source": [
    "py_vers = pd.read_sql(f\"\"\"\n",
    "    SELECT SUBSTRING(py_version from 1 for 3) pyver, COUNT(*) c\n",
    "    FROM searches\n",
    "    WHERE accessed_at BETWEEN '{start_time}' AND '{end_time}'\n",
    "    AND py_name = 'CPython'\n",
    "    GROUP BY pyver\n",
    "    ORDER BY c desc\n",
    "    LIMIT 5\n",
    "\"\"\", conn)\n",
    "\n",
    "py_vers"
   ]
  },
  {
   "cell_type": "code",
   "execution_count": null,
   "metadata": {},
   "outputs": [],
   "source": [
    "plt.pie(py_vers.c, labels=py_vers.pyver)\n",
    "plt.title('Python version usage')\n",
    "\n",
    "plt.savefig('year-py-vers.png')\n",
    "\n",
    "plt.show()"
   ]
  },
  {
   "cell_type": "code",
   "execution_count": null,
   "metadata": {},
   "outputs": [],
   "source": [
    "total = sum(row[1] for row in py_vers.values)\n",
    "\n",
    "for ver, c in py_vers.values:\n",
    "    print(ver, f'{100 * (c / total):.2f}%')"
   ]
  },
  {
   "cell_type": "code",
   "execution_count": null,
   "metadata": {},
   "outputs": [],
   "source": [
    "pip_versions = pd.read_sql(f\"\"\"\n",
    "    SELECT installer_version, COUNT(*) c\n",
    "    FROM searches\n",
    "    WHERE accessed_at BETWEEN '{start_time}' AND '{end_time}'\n",
    "    AND installer_name = 'pip'\n",
    "    AND installer_version is not null\n",
    "    GROUP BY installer_version\n",
    "    ORDER BY c DESC\n",
    "\"\"\", conn)\n",
    "\n",
    "pip_versions[:10]"
   ]
  },
  {
   "cell_type": "code",
   "execution_count": null,
   "metadata": {},
   "outputs": [],
   "source": [
    "total = sum(v[1] for v in pip_versions.values)\n",
    "labels = [v[0] if v[1] / total > 0.01 else '' for v in pip_versions.values]\n",
    "\n",
    "plt.pie(pip_versions.c, labels=labels)\n",
    "plt.title('pip version usage')\n",
    "\n",
    "plt.savefig('year-pip-vers.png')\n",
    "\n",
    "plt.show()"
   ]
  },
  {
   "cell_type": "code",
   "execution_count": null,
   "metadata": {},
   "outputs": [],
   "source": [
    "setuptools_versions = pd.read_sql(f\"\"\"\n",
    "    SELECT setuptools_version, COUNT(*) c\n",
    "    FROM searches\n",
    "    WHERE accessed_at BETWEEN '{start_time}' AND '{end_time}'\n",
    "    AND installer_name = 'pip'\n",
    "    AND setuptools_version IS NOT NULL\n",
    "    GROUP BY setuptools_version\n",
    "    ORDER BY c desc\n",
    "\"\"\", conn)\n",
    "\n",
    "setuptools_versions[:10]"
   ]
  },
  {
   "cell_type": "code",
   "execution_count": null,
   "metadata": {},
   "outputs": [],
   "source": [
    "total = sum(v[1] for v in setuptools_versions.values)\n",
    "labels = [v[0] if v[1] / total > 0.03 else '' for v in setuptools_versions.values]\n",
    "\n",
    "plt.pie(setuptools_versions.c, labels=labels)\n",
    "plt.title('setuptools version usage')\n",
    "\n",
    "plt.savefig('year-setuptools-vers.png')\n",
    "\n",
    "plt.show()"
   ]
  },
  {
   "cell_type": "code",
   "execution_count": null,
   "metadata": {},
   "outputs": [],
   "source": [
    "downloads_by_hour = pd.read_sql(f\"\"\"\n",
    "    SELECT date_part('hour', accessed_at) h, COUNT(*) c\n",
    "    FROM downloads\n",
    "    WHERE accessed_at BETWEEN '{start_time}' AND '{end_time}'\n",
    "    GROUP BY h\n",
    "    ORDER BY h\n",
    "\"\"\", conn)"
   ]
  },
  {
   "cell_type": "code",
   "execution_count": null,
   "metadata": {},
   "outputs": [],
   "source": [
    "list(downloads_by_hour['c'])"
   ]
  },
  {
   "cell_type": "code",
   "execution_count": null,
   "metadata": {},
   "outputs": [],
   "source": [
    "hours = [int(h) for h in downloads_by_hour['h']]\n",
    "\n",
    "plt.bar(range(len(downloads_by_hour)), list(downloads_by_hour['c']), color=['blue'] * 24)\n",
    "plt.title('Downloads by hour')\n",
    "plt.xticks(range(len(downloads_by_hour)), hours)\n",
    "\n",
    "plt.savefig('year-downloads-by-hour.png')\n",
    "\n",
    "plt.show()"
   ]
  }
 ],
 "metadata": {
  "kernelspec": {
   "display_name": "Python 3",
   "language": "python",
   "name": "python3"
  },
  "language_info": {
   "codemirror_mode": {
    "name": "ipython",
    "version": 3
   },
   "file_extension": ".py",
   "mimetype": "text/x-python",
   "name": "python",
   "nbconvert_exporter": "python",
   "pygments_lexer": "ipython3",
   "version": "3.8.10"
  }
 },
 "nbformat": 4,
 "nbformat_minor": 2
}
