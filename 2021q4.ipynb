{
 "cells": [
  {
   "cell_type": "code",
   "execution_count": 1,
   "metadata": {},
   "outputs": [],
   "source": [
    "%matplotlib inline\n",
    "import matplotlib\n",
    "matplotlib.style.use('ggplot')\n",
    "import matplotlib.pyplot as plt\n",
    "import pandas as pd\n",
    "from sqlalchemy import create_engine, text, MetaData\n",
    "from sqlalchemy.exc import IntegrityError\n",
    "import numpy as np"
   ]
  },
  {
   "cell_type": "code",
   "execution_count": 2,
   "metadata": {},
   "outputs": [],
   "source": [
    "engine = create_engine('postgresql:///piwheels')\n",
    "conn = engine.connect()\n",
    "meta = MetaData()\n",
    "meta.bind = conn\n",
    "meta.reflect(views=True)"
   ]
  },
  {
   "cell_type": "code",
   "execution_count": 3,
   "metadata": {},
   "outputs": [],
   "source": [
    "start_date = '2021-10-01'\n",
    "start_time = '2021-10-01 00:00:00'\n",
    "end_date = '2021-12-31'\n",
    "end_time = '2022-01-01 00:00:00'\n",
    "one_year_ago = '2021-01-01'"
   ]
  },
  {
   "cell_type": "code",
   "execution_count": 4,
   "metadata": {},
   "outputs": [
    {
     "data": {
      "text/html": [
       "<div>\n",
       "<style scoped>\n",
       "    .dataframe tbody tr th:only-of-type {\n",
       "        vertical-align: middle;\n",
       "    }\n",
       "\n",
       "    .dataframe tbody tr th {\n",
       "        vertical-align: top;\n",
       "    }\n",
       "\n",
       "    .dataframe thead th {\n",
       "        text-align: right;\n",
       "    }\n",
       "</style>\n",
       "<table border=\"1\" class=\"dataframe\">\n",
       "  <thead>\n",
       "    <tr style=\"text-align: right;\">\n",
       "      <th></th>\n",
       "      <th>downloads_in_period</th>\n",
       "    </tr>\n",
       "  </thead>\n",
       "  <tbody>\n",
       "    <tr>\n",
       "      <th>0</th>\n",
       "      <td>11942250</td>\n",
       "    </tr>\n",
       "  </tbody>\n",
       "</table>\n",
       "</div>"
      ],
      "text/plain": [
       "   downloads_in_period\n",
       "0             11942250"
      ]
     },
     "execution_count": 4,
     "metadata": {},
     "output_type": "execute_result"
    }
   ],
   "source": [
    "pd.read_sql(f\"\"\"\n",
    "    SELECT COUNT(*) AS downloads_in_period\n",
    "    FROM downloads\n",
    "    WHERE accessed_at::date BETWEEN '{start_date}' AND '{end_date}'\n",
    "\"\"\", conn)"
   ]
  },
  {
   "cell_type": "code",
   "execution_count": 5,
   "metadata": {},
   "outputs": [
    {
     "data": {
      "text/html": [
       "<div>\n",
       "<style scoped>\n",
       "    .dataframe tbody tr th:only-of-type {\n",
       "        vertical-align: middle;\n",
       "    }\n",
       "\n",
       "    .dataframe tbody tr th {\n",
       "        vertical-align: top;\n",
       "    }\n",
       "\n",
       "    .dataframe thead th {\n",
       "        text-align: right;\n",
       "    }\n",
       "</style>\n",
       "<table border=\"1\" class=\"dataframe\">\n",
       "  <thead>\n",
       "    <tr style=\"text-align: right;\">\n",
       "      <th></th>\n",
       "      <th>downloads_to_date</th>\n",
       "    </tr>\n",
       "  </thead>\n",
       "  <tbody>\n",
       "    <tr>\n",
       "      <th>0</th>\n",
       "      <td>67608247</td>\n",
       "    </tr>\n",
       "  </tbody>\n",
       "</table>\n",
       "</div>"
      ],
      "text/plain": [
       "   downloads_to_date\n",
       "0           67608247"
      ]
     },
     "execution_count": 5,
     "metadata": {},
     "output_type": "execute_result"
    }
   ],
   "source": [
    "pd.read_sql(f\"\"\"\n",
    "    SELECT COUNT(*) AS downloads_to_date\n",
    "    FROM downloads\n",
    "    WHERE accessed_at::date < '{end_date}'\n",
    "\"\"\", conn)"
   ]
  },
  {
   "cell_type": "code",
   "execution_count": 6,
   "metadata": {},
   "outputs": [
    {
     "data": {
      "text/html": [
       "<div>\n",
       "<style scoped>\n",
       "    .dataframe tbody tr th:only-of-type {\n",
       "        vertical-align: middle;\n",
       "    }\n",
       "\n",
       "    .dataframe tbody tr th {\n",
       "        vertical-align: top;\n",
       "    }\n",
       "\n",
       "    .dataframe thead th {\n",
       "        text-align: right;\n",
       "    }\n",
       "</style>\n",
       "<table border=\"1\" class=\"dataframe\">\n",
       "  <thead>\n",
       "    <tr style=\"text-align: right;\">\n",
       "      <th></th>\n",
       "      <th>project_page_hits</th>\n",
       "    </tr>\n",
       "  </thead>\n",
       "  <tbody>\n",
       "    <tr>\n",
       "      <th>0</th>\n",
       "      <td>886179</td>\n",
       "    </tr>\n",
       "  </tbody>\n",
       "</table>\n",
       "</div>"
      ],
      "text/plain": [
       "   project_page_hits\n",
       "0             886179"
      ]
     },
     "execution_count": 6,
     "metadata": {},
     "output_type": "execute_result"
    }
   ],
   "source": [
    "pd.read_sql(f\"\"\"\n",
    "    SELECT COUNT(*) AS project_page_hits\n",
    "    FROM project_page_hits\n",
    "    WHERE accessed_at::date BETWEEN '{start_date}' AND '{end_date}'\n",
    "\"\"\", conn)"
   ]
  },
  {
   "cell_type": "code",
   "execution_count": 7,
   "metadata": {},
   "outputs": [
    {
     "data": {
      "text/html": [
       "<div>\n",
       "<style scoped>\n",
       "    .dataframe tbody tr th:only-of-type {\n",
       "        vertical-align: middle;\n",
       "    }\n",
       "\n",
       "    .dataframe tbody tr th {\n",
       "        vertical-align: top;\n",
       "    }\n",
       "\n",
       "    .dataframe thead th {\n",
       "        text-align: right;\n",
       "    }\n",
       "</style>\n",
       "<table border=\"1\" class=\"dataframe\">\n",
       "  <thead>\n",
       "    <tr style=\"text-align: right;\">\n",
       "      <th></th>\n",
       "      <th>project_json_downloads</th>\n",
       "    </tr>\n",
       "  </thead>\n",
       "  <tbody>\n",
       "    <tr>\n",
       "      <th>0</th>\n",
       "      <td>294252</td>\n",
       "    </tr>\n",
       "  </tbody>\n",
       "</table>\n",
       "</div>"
      ],
      "text/plain": [
       "   project_json_downloads\n",
       "0                  294252"
      ]
     },
     "execution_count": 7,
     "metadata": {},
     "output_type": "execute_result"
    }
   ],
   "source": [
    "pd.read_sql(f\"\"\"\n",
    "    SELECT COUNT(*) AS project_json_downloads\n",
    "    FROM project_json_downloads\n",
    "    WHERE accessed_at::date BETWEEN '{start_date}' AND '{end_date}'\n",
    "\"\"\", conn)"
   ]
  },
  {
   "cell_type": "code",
   "execution_count": 8,
   "metadata": {},
   "outputs": [
    {
     "data": {
      "text/html": [
       "<div>\n",
       "<style scoped>\n",
       "    .dataframe tbody tr th:only-of-type {\n",
       "        vertical-align: middle;\n",
       "    }\n",
       "\n",
       "    .dataframe tbody tr th {\n",
       "        vertical-align: top;\n",
       "    }\n",
       "\n",
       "    .dataframe thead th {\n",
       "        text-align: right;\n",
       "    }\n",
       "</style>\n",
       "<table border=\"1\" class=\"dataframe\">\n",
       "  <thead>\n",
       "    <tr style=\"text-align: right;\">\n",
       "      <th></th>\n",
       "      <th>web_page_hits</th>\n",
       "    </tr>\n",
       "  </thead>\n",
       "  <tbody>\n",
       "    <tr>\n",
       "      <th>0</th>\n",
       "      <td>420490</td>\n",
       "    </tr>\n",
       "  </tbody>\n",
       "</table>\n",
       "</div>"
      ],
      "text/plain": [
       "   web_page_hits\n",
       "0         420490"
      ]
     },
     "execution_count": 8,
     "metadata": {},
     "output_type": "execute_result"
    }
   ],
   "source": [
    "pd.read_sql(f\"\"\"\n",
    "    SELECT COUNT(*) AS web_page_hits\n",
    "    FROM web_page_hits\n",
    "    WHERE accessed_at::date BETWEEN '{start_date}' AND '{end_date}'\n",
    "\"\"\", conn)"
   ]
  },
  {
   "cell_type": "code",
   "execution_count": 9,
   "metadata": {},
   "outputs": [
    {
     "data": {
      "text/html": [
       "<div>\n",
       "<style scoped>\n",
       "    .dataframe tbody tr th:only-of-type {\n",
       "        vertical-align: middle;\n",
       "    }\n",
       "\n",
       "    .dataframe tbody tr th {\n",
       "        vertical-align: top;\n",
       "    }\n",
       "\n",
       "    .dataframe thead th {\n",
       "        text-align: right;\n",
       "    }\n",
       "</style>\n",
       "<table border=\"1\" class=\"dataframe\">\n",
       "  <thead>\n",
       "    <tr style=\"text-align: right;\">\n",
       "      <th></th>\n",
       "      <th>m</th>\n",
       "      <th>c</th>\n",
       "    </tr>\n",
       "  </thead>\n",
       "  <tbody>\n",
       "    <tr>\n",
       "      <th>0</th>\n",
       "      <td>2021-01-01</td>\n",
       "      <td>1960137</td>\n",
       "    </tr>\n",
       "    <tr>\n",
       "      <th>1</th>\n",
       "      <td>2021-02-01</td>\n",
       "      <td>3424032</td>\n",
       "    </tr>\n",
       "    <tr>\n",
       "      <th>2</th>\n",
       "      <td>2021-03-01</td>\n",
       "      <td>3878585</td>\n",
       "    </tr>\n",
       "    <tr>\n",
       "      <th>3</th>\n",
       "      <td>2021-04-01</td>\n",
       "      <td>2956219</td>\n",
       "    </tr>\n",
       "    <tr>\n",
       "      <th>4</th>\n",
       "      <td>2021-05-01</td>\n",
       "      <td>2752983</td>\n",
       "    </tr>\n",
       "    <tr>\n",
       "      <th>5</th>\n",
       "      <td>2021-06-01</td>\n",
       "      <td>2762739</td>\n",
       "    </tr>\n",
       "    <tr>\n",
       "      <th>6</th>\n",
       "      <td>2021-07-01</td>\n",
       "      <td>2325759</td>\n",
       "    </tr>\n",
       "    <tr>\n",
       "      <th>7</th>\n",
       "      <td>2021-08-01</td>\n",
       "      <td>2523731</td>\n",
       "    </tr>\n",
       "    <tr>\n",
       "      <th>8</th>\n",
       "      <td>2021-09-01</td>\n",
       "      <td>2198364</td>\n",
       "    </tr>\n",
       "    <tr>\n",
       "      <th>9</th>\n",
       "      <td>2021-10-01</td>\n",
       "      <td>4263286</td>\n",
       "    </tr>\n",
       "    <tr>\n",
       "      <th>10</th>\n",
       "      <td>2021-11-01</td>\n",
       "      <td>4062858</td>\n",
       "    </tr>\n",
       "    <tr>\n",
       "      <th>11</th>\n",
       "      <td>2021-12-01</td>\n",
       "      <td>3616106</td>\n",
       "    </tr>\n",
       "  </tbody>\n",
       "</table>\n",
       "</div>"
      ],
      "text/plain": [
       "            m        c\n",
       "0  2021-01-01  1960137\n",
       "1  2021-02-01  3424032\n",
       "2  2021-03-01  3878585\n",
       "3  2021-04-01  2956219\n",
       "4  2021-05-01  2752983\n",
       "5  2021-06-01  2762739\n",
       "6  2021-07-01  2325759\n",
       "7  2021-08-01  2523731\n",
       "8  2021-09-01  2198364\n",
       "9  2021-10-01  4263286\n",
       "10 2021-11-01  4062858\n",
       "11 2021-12-01  3616106"
      ]
     },
     "execution_count": 9,
     "metadata": {},
     "output_type": "execute_result"
    }
   ],
   "source": [
    "downloads_by_month = pd.read_sql(f\"\"\"\n",
    "    SELECT date_trunc('month', accessed_at) m, COUNT(*) AS c\n",
    "    FROM downloads\n",
    "    WHERE accessed_at::date BETWEEN '{one_year_ago}' AND '{end_date}'\n",
    "    GROUP BY m\n",
    "    ORDER BY m\n",
    "\"\"\", conn)\n",
    "\n",
    "downloads_by_month"
   ]
  },
  {
   "cell_type": "code",
   "execution_count": 10,
   "metadata": {},
   "outputs": [
    {
     "data": {
      "image/png": "[encoded data removed]",
      "text/plain": [
       "<Figure size 720x432 with 1 Axes>"
      ]
     },
     "metadata": {},
     "output_type": "display_data"
    }
   ],
   "source": [
    "plt.rcParams[\"figure.figsize\"] = (10, 6)\n",
    "\n",
    "months = [m.month_name()[:3] for m in downloads_by_month['m']]\n",
    "downloads = [c for c in downloads_by_month['c']]\n",
    "\n",
    "colors = ['blue']*9 + ['red']*3\n",
    "plt.bar(range(12), downloads, color=colors)\n",
    "plt.title('Downloads by month')\n",
    "plt.xticks(range(12), months)\n",
    "\n",
    "plt.savefig('downloads-by-month.png')\n",
    "\n",
    "plt.show()"
   ]
  },
  {
   "cell_type": "code",
   "execution_count": 11,
   "metadata": {},
   "outputs": [
    {
     "data": {
      "text/html": [
       "<div>\n",
       "<style scoped>\n",
       "    .dataframe tbody tr th:only-of-type {\n",
       "        vertical-align: middle;\n",
       "    }\n",
       "\n",
       "    .dataframe tbody tr th {\n",
       "        vertical-align: top;\n",
       "    }\n",
       "\n",
       "    .dataframe thead th {\n",
       "        text-align: right;\n",
       "    }\n",
       "</style>\n",
       "<table border=\"1\" class=\"dataframe\">\n",
       "  <thead>\n",
       "    <tr style=\"text-align: right;\">\n",
       "      <th></th>\n",
       "      <th>d</th>\n",
       "      <th>downloads</th>\n",
       "    </tr>\n",
       "  </thead>\n",
       "  <tbody>\n",
       "    <tr>\n",
       "      <th>0</th>\n",
       "      <td>2021-10-01</td>\n",
       "      <td>80803</td>\n",
       "    </tr>\n",
       "    <tr>\n",
       "      <th>1</th>\n",
       "      <td>2021-10-02</td>\n",
       "      <td>53710</td>\n",
       "    </tr>\n",
       "    <tr>\n",
       "      <th>2</th>\n",
       "      <td>2021-10-03</td>\n",
       "      <td>57521</td>\n",
       "    </tr>\n",
       "    <tr>\n",
       "      <th>3</th>\n",
       "      <td>2021-10-04</td>\n",
       "      <td>101745</td>\n",
       "    </tr>\n",
       "    <tr>\n",
       "      <th>4</th>\n",
       "      <td>2021-10-05</td>\n",
       "      <td>128958</td>\n",
       "    </tr>\n",
       "    <tr>\n",
       "      <th>...</th>\n",
       "      <td>...</td>\n",
       "      <td>...</td>\n",
       "    </tr>\n",
       "    <tr>\n",
       "      <th>87</th>\n",
       "      <td>2021-12-27</td>\n",
       "      <td>101178</td>\n",
       "    </tr>\n",
       "    <tr>\n",
       "      <th>88</th>\n",
       "      <td>2021-12-28</td>\n",
       "      <td>114851</td>\n",
       "    </tr>\n",
       "    <tr>\n",
       "      <th>89</th>\n",
       "      <td>2021-12-29</td>\n",
       "      <td>126240</td>\n",
       "    </tr>\n",
       "    <tr>\n",
       "      <th>90</th>\n",
       "      <td>2021-12-30</td>\n",
       "      <td>121266</td>\n",
       "    </tr>\n",
       "    <tr>\n",
       "      <th>91</th>\n",
       "      <td>2021-12-31</td>\n",
       "      <td>86795</td>\n",
       "    </tr>\n",
       "  </tbody>\n",
       "</table>\n",
       "<p>92 rows × 2 columns</p>\n",
       "</div>"
      ],
      "text/plain": [
       "             d  downloads\n",
       "0   2021-10-01      80803\n",
       "1   2021-10-02      53710\n",
       "2   2021-10-03      57521\n",
       "3   2021-10-04     101745\n",
       "4   2021-10-05     128958\n",
       "..         ...        ...\n",
       "87  2021-12-27     101178\n",
       "88  2021-12-28     114851\n",
       "89  2021-12-29     126240\n",
       "90  2021-12-30     121266\n",
       "91  2021-12-31      86795\n",
       "\n",
       "[92 rows x 2 columns]"
      ]
     },
     "execution_count": 11,
     "metadata": {},
     "output_type": "execute_result"
    }
   ],
   "source": [
    "downloads_by_day = pd.read_sql(f\"\"\"\n",
    "    SELECT accessed_at::date AS d, COUNT(*) AS downloads\n",
    "    FROM downloads\n",
    "    WHERE accessed_at::date BETWEEN '{start_date}' AND '{end_date}'\n",
    "    GROUP BY d\n",
    "    ORDER BY d\n",
    "\"\"\", conn)\n",
    "\n",
    "downloads_by_day"
   ]
  },
  {
   "cell_type": "code",
   "execution_count": 12,
   "metadata": {},
   "outputs": [
    {
     "data": {
      "image/png": "[encoded data removed]",
      "text/plain": [
       "<Figure size 720x432 with 1 Axes>"
      ]
     },
     "metadata": {},
     "output_type": "display_data"
    }
   ],
   "source": [
    "p = downloads_by_day.plot.bar(title='Downloads by day')\n",
    "p.figure.savefig('downloads-by-day.png')"
   ]
  },
  {
   "cell_type": "code",
   "execution_count": 13,
   "metadata": {},
   "outputs": [
    {
     "data": {
      "text/plain": [
       "58871182"
      ]
     },
     "execution_count": 13,
     "metadata": {},
     "output_type": "execute_result"
    }
   ],
   "source": [
    "df = pd.read_sql(f\"\"\"\n",
    "    SELECT COUNT(*) AS searches_in_period\n",
    "    FROM searches\n",
    "    WHERE accessed_at >= '{start_time}' AND accessed_at < '{end_time}'\n",
    "\"\"\", conn)\n",
    "\n",
    "searches = df.values[0][0]\n",
    "searches"
   ]
  },
  {
   "cell_type": "code",
   "execution_count": 14,
   "metadata": {},
   "outputs": [
    {
     "data": {
      "text/html": [
       "<div>\n",
       "<style scoped>\n",
       "    .dataframe tbody tr th:only-of-type {\n",
       "        vertical-align: middle;\n",
       "    }\n",
       "\n",
       "    .dataframe tbody tr th {\n",
       "        vertical-align: top;\n",
       "    }\n",
       "\n",
       "    .dataframe thead th {\n",
       "        text-align: right;\n",
       "    }\n",
       "</style>\n",
       "<table border=\"1\" class=\"dataframe\">\n",
       "  <thead>\n",
       "    <tr style=\"text-align: right;\">\n",
       "      <th></th>\n",
       "      <th>month</th>\n",
       "      <th>searches</th>\n",
       "    </tr>\n",
       "  </thead>\n",
       "  <tbody>\n",
       "    <tr>\n",
       "      <th>0</th>\n",
       "      <td>2021-10-01</td>\n",
       "      <td>17796527</td>\n",
       "    </tr>\n",
       "    <tr>\n",
       "      <th>1</th>\n",
       "      <td>2021-11-01</td>\n",
       "      <td>19277934</td>\n",
       "    </tr>\n",
       "    <tr>\n",
       "      <th>2</th>\n",
       "      <td>2021-12-01</td>\n",
       "      <td>21796721</td>\n",
       "    </tr>\n",
       "  </tbody>\n",
       "</table>\n",
       "</div>"
      ],
      "text/plain": [
       "       month  searches\n",
       "0 2021-10-01  17796527\n",
       "1 2021-11-01  19277934\n",
       "2 2021-12-01  21796721"
      ]
     },
     "execution_count": 14,
     "metadata": {},
     "output_type": "execute_result"
    }
   ],
   "source": [
    "pd.read_sql(f\"\"\"\n",
    "    SELECT date_trunc('month', accessed_at) AS month, COUNT(*) AS searches\n",
    "    FROM searches\n",
    "    WHERE accessed_at >= '{start_time}' AND accessed_at < '{end_time}'\n",
    "    GROUP BY month\n",
    "    ORDER BY month\n",
    "\"\"\", conn)"
   ]
  },
  {
   "cell_type": "code",
   "execution_count": 15,
   "metadata": {},
   "outputs": [
    {
     "data": {
      "text/html": [
       "<div>\n",
       "<style scoped>\n",
       "    .dataframe tbody tr th:only-of-type {\n",
       "        vertical-align: middle;\n",
       "    }\n",
       "\n",
       "    .dataframe tbody tr th {\n",
       "        vertical-align: top;\n",
       "    }\n",
       "\n",
       "    .dataframe thead th {\n",
       "        text-align: right;\n",
       "    }\n",
       "</style>\n",
       "<table border=\"1\" class=\"dataframe\">\n",
       "  <thead>\n",
       "    <tr style=\"text-align: right;\">\n",
       "      <th></th>\n",
       "      <th>day</th>\n",
       "      <th>searches</th>\n",
       "    </tr>\n",
       "  </thead>\n",
       "  <tbody>\n",
       "    <tr>\n",
       "      <th>0</th>\n",
       "      <td>2021-10-01</td>\n",
       "      <td>391134</td>\n",
       "    </tr>\n",
       "    <tr>\n",
       "      <th>1</th>\n",
       "      <td>2021-10-02</td>\n",
       "      <td>301977</td>\n",
       "    </tr>\n",
       "    <tr>\n",
       "      <th>2</th>\n",
       "      <td>2021-10-03</td>\n",
       "      <td>307558</td>\n",
       "    </tr>\n",
       "    <tr>\n",
       "      <th>3</th>\n",
       "      <td>2021-10-04</td>\n",
       "      <td>485043</td>\n",
       "    </tr>\n",
       "    <tr>\n",
       "      <th>4</th>\n",
       "      <td>2021-10-05</td>\n",
       "      <td>591023</td>\n",
       "    </tr>\n",
       "    <tr>\n",
       "      <th>...</th>\n",
       "      <td>...</td>\n",
       "      <td>...</td>\n",
       "    </tr>\n",
       "    <tr>\n",
       "      <th>87</th>\n",
       "      <td>2021-12-27</td>\n",
       "      <td>641929</td>\n",
       "    </tr>\n",
       "    <tr>\n",
       "      <th>88</th>\n",
       "      <td>2021-12-28</td>\n",
       "      <td>711941</td>\n",
       "    </tr>\n",
       "    <tr>\n",
       "      <th>89</th>\n",
       "      <td>2021-12-29</td>\n",
       "      <td>791003</td>\n",
       "    </tr>\n",
       "    <tr>\n",
       "      <th>90</th>\n",
       "      <td>2021-12-30</td>\n",
       "      <td>745988</td>\n",
       "    </tr>\n",
       "    <tr>\n",
       "      <th>91</th>\n",
       "      <td>2021-12-31</td>\n",
       "      <td>629517</td>\n",
       "    </tr>\n",
       "  </tbody>\n",
       "</table>\n",
       "<p>92 rows × 2 columns</p>\n",
       "</div>"
      ],
      "text/plain": [
       "           day  searches\n",
       "0   2021-10-01    391134\n",
       "1   2021-10-02    301977\n",
       "2   2021-10-03    307558\n",
       "3   2021-10-04    485043\n",
       "4   2021-10-05    591023\n",
       "..         ...       ...\n",
       "87  2021-12-27    641929\n",
       "88  2021-12-28    711941\n",
       "89  2021-12-29    791003\n",
       "90  2021-12-30    745988\n",
       "91  2021-12-31    629517\n",
       "\n",
       "[92 rows x 2 columns]"
      ]
     },
     "execution_count": 15,
     "metadata": {},
     "output_type": "execute_result"
    }
   ],
   "source": [
    "searches_by_day = pd.read_sql(f\"\"\"\n",
    "    SELECT accessed_at::date AS day, COUNT(*) AS searches\n",
    "    FROM searches\n",
    "    WHERE accessed_at::date BETWEEN '{start_date}' AND '{end_date}'\n",
    "    GROUP BY day\n",
    "    ORDER BY day\n",
    "\"\"\", conn)\n",
    "\n",
    "searches_by_day"
   ]
  },
  {
   "cell_type": "code",
   "execution_count": 16,
   "metadata": {},
   "outputs": [
    {
     "data": {
      "image/png": "[encoded data removed]",
      "text/plain": [
       "<Figure size 720x432 with 1 Axes>"
      ]
     },
     "metadata": {},
     "output_type": "display_data"
    }
   ],
   "source": [
    "p = searches_by_day.plot.bar(title='Searches by day')\n",
    "p.figure.savefig('searches-by-day.png')"
   ]
  },
  {
   "cell_type": "code",
   "execution_count": 17,
   "metadata": {},
   "outputs": [
    {
     "data": {
      "text/html": [
       "<div>\n",
       "<style scoped>\n",
       "    .dataframe tbody tr th:only-of-type {\n",
       "        vertical-align: middle;\n",
       "    }\n",
       "\n",
       "    .dataframe tbody tr th {\n",
       "        vertical-align: top;\n",
       "    }\n",
       "\n",
       "    .dataframe thead th {\n",
       "        text-align: right;\n",
       "    }\n",
       "</style>\n",
       "<table border=\"1\" class=\"dataframe\">\n",
       "  <thead>\n",
       "    <tr style=\"text-align: right;\">\n",
       "      <th></th>\n",
       "      <th>total_time_saved_in_quarter</th>\n",
       "    </tr>\n",
       "  </thead>\n",
       "  <tbody>\n",
       "    <tr>\n",
       "      <th>0</th>\n",
       "      <td>15911 days 15:33:25.142447</td>\n",
       "    </tr>\n",
       "  </tbody>\n",
       "</table>\n",
       "</div>"
      ],
      "text/plain": [
       "  total_time_saved_in_quarter\n",
       "0  15911 days 15:33:25.142447"
      ]
     },
     "execution_count": 17,
     "metadata": {},
     "output_type": "execute_result"
    }
   ],
   "source": [
    "pd.read_sql(f\"\"\"\n",
    "    SELECT JUSTIFY_INTERVAL(SUM(\n",
    "        CASE f.platform_tag\n",
    "            WHEN 'linux_armv7l' THEN 1                           \n",
    "            WHEN 'linux_armv6l' THEN 6                                                       \n",
    "            ELSE 0           \n",
    "        END *\n",
    "        CASE                        \n",
    "            WHEN b.duration > INTERVAL '1 day' THEN INTERVAL '0'\n",
    "            WHEN b.duration > INTERVAL '6.7 seconds' THEN b.duration - INTERVAL '6.7 seconds'\n",
    "            ELSE INTERVAL '0'               \n",
    "        END                  \n",
    "        )) AS total_time_saved_in_quarter                        \n",
    "    FROM downloads d\n",
    "    JOIN files f ON d.filename = f.filename\n",
    "    JOIN builds b ON b.build_id = f.build_id\n",
    "    WHERE f.abi_tag <> 'none'\n",
    "    AND d.accessed_at::date between '{start_date}' and '{end_date}'\n",
    "\"\"\", conn)"
   ]
  },
  {
   "cell_type": "code",
   "execution_count": 18,
   "metadata": {},
   "outputs": [
    {
     "data": {
      "text/html": [
       "<div>\n",
       "<style scoped>\n",
       "    .dataframe tbody tr th:only-of-type {\n",
       "        vertical-align: middle;\n",
       "    }\n",
       "\n",
       "    .dataframe tbody tr th {\n",
       "        vertical-align: top;\n",
       "    }\n",
       "\n",
       "    .dataframe thead th {\n",
       "        text-align: right;\n",
       "    }\n",
       "</style>\n",
       "<table border=\"1\" class=\"dataframe\">\n",
       "  <thead>\n",
       "    <tr style=\"text-align: right;\">\n",
       "      <th></th>\n",
       "      <th>month</th>\n",
       "      <th>time_saved_in_month</th>\n",
       "    </tr>\n",
       "  </thead>\n",
       "  <tbody>\n",
       "    <tr>\n",
       "      <th>0</th>\n",
       "      <td>2021-01-01</td>\n",
       "      <td>3727 days 17:02:07.872928</td>\n",
       "    </tr>\n",
       "    <tr>\n",
       "      <th>1</th>\n",
       "      <td>2021-02-01</td>\n",
       "      <td>5639 days 06:42:38.702328</td>\n",
       "    </tr>\n",
       "    <tr>\n",
       "      <th>2</th>\n",
       "      <td>2021-03-01</td>\n",
       "      <td>6756 days 15:53:54.164950</td>\n",
       "    </tr>\n",
       "    <tr>\n",
       "      <th>3</th>\n",
       "      <td>2021-04-01</td>\n",
       "      <td>5148 days 07:21:24.662993</td>\n",
       "    </tr>\n",
       "    <tr>\n",
       "      <th>4</th>\n",
       "      <td>2021-05-01</td>\n",
       "      <td>4542 days 19:10:37.673643</td>\n",
       "    </tr>\n",
       "    <tr>\n",
       "      <th>5</th>\n",
       "      <td>2021-06-01</td>\n",
       "      <td>4240 days 18:53:21.877967</td>\n",
       "    </tr>\n",
       "    <tr>\n",
       "      <th>6</th>\n",
       "      <td>2021-07-01</td>\n",
       "      <td>3731 days 01:02:50.512808</td>\n",
       "    </tr>\n",
       "    <tr>\n",
       "      <th>7</th>\n",
       "      <td>2021-08-01</td>\n",
       "      <td>4142 days 15:29:29.691410</td>\n",
       "    </tr>\n",
       "    <tr>\n",
       "      <th>8</th>\n",
       "      <td>2021-09-01</td>\n",
       "      <td>4168 days 22:48:09.501017</td>\n",
       "    </tr>\n",
       "    <tr>\n",
       "      <th>9</th>\n",
       "      <td>2021-10-01</td>\n",
       "      <td>4829 days 16:47:46.533737</td>\n",
       "    </tr>\n",
       "    <tr>\n",
       "      <th>10</th>\n",
       "      <td>2021-11-01</td>\n",
       "      <td>4791 days 06:44:36.747713</td>\n",
       "    </tr>\n",
       "    <tr>\n",
       "      <th>11</th>\n",
       "      <td>2021-12-01</td>\n",
       "      <td>6290 days 16:01:01.860997</td>\n",
       "    </tr>\n",
       "  </tbody>\n",
       "</table>\n",
       "</div>"
      ],
      "text/plain": [
       "        month       time_saved_in_month\n",
       "0  2021-01-01 3727 days 17:02:07.872928\n",
       "1  2021-02-01 5639 days 06:42:38.702328\n",
       "2  2021-03-01 6756 days 15:53:54.164950\n",
       "3  2021-04-01 5148 days 07:21:24.662993\n",
       "4  2021-05-01 4542 days 19:10:37.673643\n",
       "5  2021-06-01 4240 days 18:53:21.877967\n",
       "6  2021-07-01 3731 days 01:02:50.512808\n",
       "7  2021-08-01 4142 days 15:29:29.691410\n",
       "8  2021-09-01 4168 days 22:48:09.501017\n",
       "9  2021-10-01 4829 days 16:47:46.533737\n",
       "10 2021-11-01 4791 days 06:44:36.747713\n",
       "11 2021-12-01 6290 days 16:01:01.860997"
      ]
     },
     "execution_count": 18,
     "metadata": {},
     "output_type": "execute_result"
    }
   ],
   "source": [
    "time_saved_by_month = pd.read_sql(f\"\"\"\n",
    "    SELECT date_trunc('month', d.accessed_at) as month, JUSTIFY_INTERVAL(SUM(\n",
    "        CASE f.platform_tag\n",
    "            WHEN 'linux_armv7l' THEN 1\n",
    "            WHEN 'linux_armv6l' THEN 6\n",
    "            ELSE 0\n",
    "        END *\n",
    "        CASE\n",
    "            WHEN b.duration > INTERVAL '1 day' THEN INTERVAL '0'\n",
    "            WHEN b.duration > INTERVAL '6.7 seconds' THEN b.duration - INTERVAL '6.7 seconds'\n",
    "            ELSE INTERVAL '0'\n",
    "        END\n",
    "            )) AS time_saved_in_month\n",
    "    FROM downloads d\n",
    "    JOIN files f ON d.filename = f.filename\n",
    "    JOIN builds b ON b.build_id = f.build_id\n",
    "    WHERE f.abi_tag <> 'none'\n",
    "    AND d.accessed_at::date between '{one_year_ago}' and '{end_date}'\n",
    "    GROUP BY month\n",
    "    ORDER BY month\n",
    "\"\"\", conn)\n",
    "\n",
    "time_saved_by_month"
   ]
  },
  {
   "cell_type": "code",
   "execution_count": 19,
   "metadata": {},
   "outputs": [
    {
     "data": {
      "image/png": "[encoded data removed]",
      "text/plain": [
       "<Figure size 720x432 with 1 Axes>"
      ]
     },
     "metadata": {},
     "output_type": "display_data"
    }
   ],
   "source": [
    "months = [m.month_name()[:3] for m in time_saved_by_month['month']]\n",
    "days_saved = [ts.days for ts in time_saved_by_month['time_saved_in_month']]\n",
    "\n",
    "colors = ['blue']*9 + ['red']*3\n",
    "plt.bar(range(12), days_saved, color=colors)\n",
    "plt.title('Time saved by month')\n",
    "plt.xticks(range(12), months)\n",
    "\n",
    "plt.savefig('time-saved-by-month.png')\n",
    "\n",
    "plt.show()"
   ]
  },
  {
   "cell_type": "code",
   "execution_count": 20,
   "metadata": {},
   "outputs": [
    {
     "data": {
      "text/html": [
       "<div>\n",
       "<style scoped>\n",
       "    .dataframe tbody tr th:only-of-type {\n",
       "        vertical-align: middle;\n",
       "    }\n",
       "\n",
       "    .dataframe tbody tr th {\n",
       "        vertical-align: top;\n",
       "    }\n",
       "\n",
       "    .dataframe thead th {\n",
       "        text-align: right;\n",
       "    }\n",
       "</style>\n",
       "<table border=\"1\" class=\"dataframe\">\n",
       "  <thead>\n",
       "    <tr style=\"text-align: right;\">\n",
       "      <th></th>\n",
       "      <th>package</th>\n",
       "      <th>c</th>\n",
       "    </tr>\n",
       "  </thead>\n",
       "  <tbody>\n",
       "    <tr>\n",
       "      <th>0</th>\n",
       "      <td>requests</td>\n",
       "      <td>230601</td>\n",
       "    </tr>\n",
       "    <tr>\n",
       "      <th>1</th>\n",
       "      <td>setuptools</td>\n",
       "      <td>214607</td>\n",
       "    </tr>\n",
       "    <tr>\n",
       "      <th>2</th>\n",
       "      <td>charset-normalizer</td>\n",
       "      <td>187981</td>\n",
       "    </tr>\n",
       "    <tr>\n",
       "      <th>3</th>\n",
       "      <td>pyyaml</td>\n",
       "      <td>187863</td>\n",
       "    </tr>\n",
       "    <tr>\n",
       "      <th>4</th>\n",
       "      <td>websocket-client</td>\n",
       "      <td>180099</td>\n",
       "    </tr>\n",
       "    <tr>\n",
       "      <th>5</th>\n",
       "      <td>octoprint-firmwarecheck</td>\n",
       "      <td>151629</td>\n",
       "    </tr>\n",
       "    <tr>\n",
       "      <th>6</th>\n",
       "      <td>jinja2</td>\n",
       "      <td>150724</td>\n",
       "    </tr>\n",
       "    <tr>\n",
       "      <th>7</th>\n",
       "      <td>wheel</td>\n",
       "      <td>139357</td>\n",
       "    </tr>\n",
       "    <tr>\n",
       "      <th>8</th>\n",
       "      <td>numpy</td>\n",
       "      <td>135584</td>\n",
       "    </tr>\n",
       "    <tr>\n",
       "      <th>9</th>\n",
       "      <td>pigpio-dht</td>\n",
       "      <td>134810</td>\n",
       "    </tr>\n",
       "  </tbody>\n",
       "</table>\n",
       "</div>"
      ],
      "text/plain": [
       "                   package       c\n",
       "0                 requests  230601\n",
       "1               setuptools  214607\n",
       "2       charset-normalizer  187981\n",
       "3                   pyyaml  187863\n",
       "4         websocket-client  180099\n",
       "5  octoprint-firmwarecheck  151629\n",
       "6                   jinja2  150724\n",
       "7                    wheel  139357\n",
       "8                    numpy  135584\n",
       "9               pigpio-dht  134810"
      ]
     },
     "execution_count": 20,
     "metadata": {},
     "output_type": "execute_result"
    }
   ],
   "source": [
    "top_10_downloads = pd.read_sql(f\"\"\"\n",
    "    SELECT package, COUNT(*) c\n",
    "    FROM downloads d\n",
    "    JOIN files USING (filename)\n",
    "    JOIN builds USING (build_id)\n",
    "    WHERE accessed_at::date BETWEEN '{start_date}' AND '{end_date}'\n",
    "    GROUP BY package\n",
    "    ORDER BY c DESC\n",
    "    LIMIT 10\n",
    "\"\"\", conn)\n",
    "\n",
    "top_10_downloads"
   ]
  },
  {
   "cell_type": "code",
   "execution_count": 21,
   "metadata": {},
   "outputs": [
    {
     "name": "stdout",
     "output_type": "stream",
     "text": [
      "<ol>\n",
      "<li><strong><a href='https://www.piwheels.org/project/requests'>requests</a></strong> (230,601)</li>\n",
      "<li><strong><a href='https://www.piwheels.org/project/setuptools'>setuptools</a></strong> (214,607)</li>\n",
      "<li><strong><a href='https://www.piwheels.org/project/charset-normalizer'>charset-normalizer</a></strong> (187,981)</li>\n",
      "<li><strong><a href='https://www.piwheels.org/project/pyyaml'>pyyaml</a></strong> (187,863)</li>\n",
      "<li><strong><a href='https://www.piwheels.org/project/websocket-client'>websocket-client</a></strong> (180,099)</li>\n",
      "<li><strong><a href='https://www.piwheels.org/project/octoprint-firmwarecheck'>octoprint-firmwarecheck</a></strong> (151,629)</li>\n",
      "<li><strong><a href='https://www.piwheels.org/project/jinja2'>jinja2</a></strong> (150,724)</li>\n",
      "<li><strong><a href='https://www.piwheels.org/project/wheel'>wheel</a></strong> (139,357)</li>\n",
      "<li><strong><a href='https://www.piwheels.org/project/numpy'>numpy</a></strong> (135,584)</li>\n",
      "<li><strong><a href='https://www.piwheels.org/project/pigpio-dht'>pigpio-dht</a></strong> (134,810)</li>\n",
      "</ol>\n"
     ]
    }
   ],
   "source": [
    "print(\"<ol>\")\n",
    "for i, row in top_10_downloads.iterrows():\n",
    "    print(f\"<li><strong><a href='https://www.piwheels.org/project/{row['package']}'>{row['package']}</a></strong> ({row['c']:,})</li>\")\n",
    "print(\"</ol>\")"
   ]
  },
  {
   "cell_type": "code",
   "execution_count": 22,
   "metadata": {},
   "outputs": [
    {
     "data": {
      "text/html": [
       "<div>\n",
       "<style scoped>\n",
       "    .dataframe tbody tr th:only-of-type {\n",
       "        vertical-align: middle;\n",
       "    }\n",
       "\n",
       "    .dataframe tbody tr th {\n",
       "        vertical-align: top;\n",
       "    }\n",
       "\n",
       "    .dataframe thead th {\n",
       "        text-align: right;\n",
       "    }\n",
       "</style>\n",
       "<table border=\"1\" class=\"dataframe\">\n",
       "  <thead>\n",
       "    <tr style=\"text-align: right;\">\n",
       "      <th></th>\n",
       "      <th>package</th>\n",
       "      <th>c</th>\n",
       "    </tr>\n",
       "  </thead>\n",
       "  <tbody>\n",
       "    <tr>\n",
       "      <th>0</th>\n",
       "      <td>pip</td>\n",
       "      <td>4755985</td>\n",
       "    </tr>\n",
       "    <tr>\n",
       "      <th>1</th>\n",
       "      <td>wheel</td>\n",
       "      <td>3410977</td>\n",
       "    </tr>\n",
       "    <tr>\n",
       "      <th>2</th>\n",
       "      <td>setuptools</td>\n",
       "      <td>1717821</td>\n",
       "    </tr>\n",
       "    <tr>\n",
       "      <th>3</th>\n",
       "      <td>future</td>\n",
       "      <td>946503</td>\n",
       "    </tr>\n",
       "    <tr>\n",
       "      <th>4</th>\n",
       "      <td>pyngrok</td>\n",
       "      <td>835140</td>\n",
       "    </tr>\n",
       "    <tr>\n",
       "      <th>5</th>\n",
       "      <td>youtube-dl</td>\n",
       "      <td>678269</td>\n",
       "    </tr>\n",
       "    <tr>\n",
       "      <th>6</th>\n",
       "      <td>requests</td>\n",
       "      <td>631481</td>\n",
       "    </tr>\n",
       "    <tr>\n",
       "      <th>7</th>\n",
       "      <td>six</td>\n",
       "      <td>527637</td>\n",
       "    </tr>\n",
       "    <tr>\n",
       "      <th>8</th>\n",
       "      <td>pyyaml</td>\n",
       "      <td>525629</td>\n",
       "    </tr>\n",
       "    <tr>\n",
       "      <th>9</th>\n",
       "      <td>urllib3</td>\n",
       "      <td>512396</td>\n",
       "    </tr>\n",
       "  </tbody>\n",
       "</table>\n",
       "</div>"
      ],
      "text/plain": [
       "      package        c\n",
       "0         pip  4755985\n",
       "1       wheel  3410977\n",
       "2  setuptools  1717821\n",
       "3      future   946503\n",
       "4     pyngrok   835140\n",
       "5  youtube-dl   678269\n",
       "6    requests   631481\n",
       "7         six   527637\n",
       "8      pyyaml   525629\n",
       "9     urllib3   512396"
      ]
     },
     "execution_count": 22,
     "metadata": {},
     "output_type": "execute_result"
    }
   ],
   "source": [
    "top_10_searches = pd.read_sql(f\"\"\"\n",
    "    SELECT package, COUNT(*) c\n",
    "    FROM searches\n",
    "    WHERE accessed_at >= '{start_time}' AND accessed_at < '{end_time}'\n",
    "    GROUP BY package\n",
    "    ORDER BY c desc\n",
    "    LIMIT 10\n",
    "\"\"\", conn)\n",
    "\n",
    "top_10_searches"
   ]
  },
  {
   "cell_type": "code",
   "execution_count": 23,
   "metadata": {},
   "outputs": [
    {
     "name": "stdout",
     "output_type": "stream",
     "text": [
      "<ol>\n",
      "<li><strong><a href='https://www.piwheels.org/project/pip'>pip</a></strong> (4,755,985)</li>\n",
      "<li><strong><a href='https://www.piwheels.org/project/wheel'>wheel</a></strong> (3,410,977)</li>\n",
      "<li><strong><a href='https://www.piwheels.org/project/setuptools'>setuptools</a></strong> (1,717,821)</li>\n",
      "<li><strong><a href='https://www.piwheels.org/project/future'>future</a></strong> (946,503)</li>\n",
      "<li><strong><a href='https://www.piwheels.org/project/pyngrok'>pyngrok</a></strong> (835,140)</li>\n",
      "<li><strong><a href='https://www.piwheels.org/project/youtube-dl'>youtube-dl</a></strong> (678,269)</li>\n",
      "<li><strong><a href='https://www.piwheels.org/project/requests'>requests</a></strong> (631,481)</li>\n",
      "<li><strong><a href='https://www.piwheels.org/project/six'>six</a></strong> (527,637)</li>\n",
      "<li><strong><a href='https://www.piwheels.org/project/pyyaml'>pyyaml</a></strong> (525,629)</li>\n",
      "<li><strong><a href='https://www.piwheels.org/project/urllib3'>urllib3</a></strong> (512,396)</li>\n",
      "</ol>\n"
     ]
    }
   ],
   "source": [
    "print(\"<ol>\")\n",
    "for pkg, c in top_10_searches.values:\n",
    "    print(f\"<li><strong><a href='https://www.piwheels.org/project/{pkg}'>{pkg}</a></strong> ({c:,})</li>\")\n",
    "print(\"</ol>\")"
   ]
  },
  {
   "cell_type": "code",
   "execution_count": 24,
   "metadata": {},
   "outputs": [
    {
     "data": {
      "text/html": [
       "<div>\n",
       "<style scoped>\n",
       "    .dataframe tbody tr th:only-of-type {\n",
       "        vertical-align: middle;\n",
       "    }\n",
       "\n",
       "    .dataframe tbody tr th {\n",
       "        vertical-align: top;\n",
       "    }\n",
       "\n",
       "    .dataframe thead th {\n",
       "        text-align: right;\n",
       "    }\n",
       "</style>\n",
       "<table border=\"1\" class=\"dataframe\">\n",
       "  <thead>\n",
       "    <tr style=\"text-align: right;\">\n",
       "      <th></th>\n",
       "      <th>package</th>\n",
       "      <th>c</th>\n",
       "    </tr>\n",
       "  </thead>\n",
       "  <tbody>\n",
       "    <tr>\n",
       "      <th>0</th>\n",
       "      <td>opencv-python</td>\n",
       "      <td>2354</td>\n",
       "    </tr>\n",
       "    <tr>\n",
       "      <th>1</th>\n",
       "      <td>opencv-contrib-python</td>\n",
       "      <td>1876</td>\n",
       "    </tr>\n",
       "    <tr>\n",
       "      <th>2</th>\n",
       "      <td>numpy</td>\n",
       "      <td>1217</td>\n",
       "    </tr>\n",
       "    <tr>\n",
       "      <th>3</th>\n",
       "      <td>tensorflow</td>\n",
       "      <td>729</td>\n",
       "    </tr>\n",
       "    <tr>\n",
       "      <th>4</th>\n",
       "      <td>scipy</td>\n",
       "      <td>662</td>\n",
       "    </tr>\n",
       "    <tr>\n",
       "      <th>5</th>\n",
       "      <td>cryptography</td>\n",
       "      <td>616</td>\n",
       "    </tr>\n",
       "    <tr>\n",
       "      <th>6</th>\n",
       "      <td>pandas</td>\n",
       "      <td>516</td>\n",
       "    </tr>\n",
       "    <tr>\n",
       "      <th>7</th>\n",
       "      <td>pillow</td>\n",
       "      <td>438</td>\n",
       "    </tr>\n",
       "    <tr>\n",
       "      <th>8</th>\n",
       "      <td>grpcio</td>\n",
       "      <td>399</td>\n",
       "    </tr>\n",
       "    <tr>\n",
       "      <th>9</th>\n",
       "      <td>pyyaml</td>\n",
       "      <td>362</td>\n",
       "    </tr>\n",
       "  </tbody>\n",
       "</table>\n",
       "</div>"
      ],
      "text/plain": [
       "                 package     c\n",
       "0          opencv-python  2354\n",
       "1  opencv-contrib-python  1876\n",
       "2                  numpy  1217\n",
       "3             tensorflow   729\n",
       "4                  scipy   662\n",
       "5           cryptography   616\n",
       "6                 pandas   516\n",
       "7                 pillow   438\n",
       "8                 grpcio   399\n",
       "9                 pyyaml   362"
      ]
     },
     "execution_count": 24,
     "metadata": {},
     "output_type": "execute_result"
    }
   ],
   "source": [
    "top_10_project_pages = pd.read_sql(f\"\"\"\n",
    "    SELECT package, COUNT(*) c\n",
    "    FROM project_page_hits\n",
    "    WHERE accessed_at::date BETWEEN '{start_date}' AND '{end_date}'\n",
    "    GROUP BY package\n",
    "    ORDER BY c desc\n",
    "    LIMIT 10\n",
    "\"\"\", conn)\n",
    "\n",
    "top_10_project_pages"
   ]
  },
  {
   "cell_type": "code",
   "execution_count": 25,
   "metadata": {},
   "outputs": [
    {
     "name": "stdout",
     "output_type": "stream",
     "text": [
      "<ol>\n",
      "<li><strong><a href='https://www.piwheels.org/project/opencv-python'>opencv-python</a></strong> (2,354)</li>\n",
      "<li><strong><a href='https://www.piwheels.org/project/opencv-contrib-python'>opencv-contrib-python</a></strong> (1,876)</li>\n",
      "<li><strong><a href='https://www.piwheels.org/project/numpy'>numpy</a></strong> (1,217)</li>\n",
      "<li><strong><a href='https://www.piwheels.org/project/tensorflow'>tensorflow</a></strong> (729)</li>\n",
      "<li><strong><a href='https://www.piwheels.org/project/scipy'>scipy</a></strong> (662)</li>\n",
      "<li><strong><a href='https://www.piwheels.org/project/cryptography'>cryptography</a></strong> (616)</li>\n",
      "<li><strong><a href='https://www.piwheels.org/project/pandas'>pandas</a></strong> (516)</li>\n",
      "<li><strong><a href='https://www.piwheels.org/project/pillow'>pillow</a></strong> (438)</li>\n",
      "<li><strong><a href='https://www.piwheels.org/project/grpcio'>grpcio</a></strong> (399)</li>\n",
      "<li><strong><a href='https://www.piwheels.org/project/pyyaml'>pyyaml</a></strong> (362)</li>\n",
      "</ol>\n"
     ]
    }
   ],
   "source": [
    "print(\"<ol>\")\n",
    "for pkg, c in top_10_project_pages.values:\n",
    "    print(f\"<li><strong><a href='https://www.piwheels.org/project/{pkg}'>{pkg}</a></strong> ({c:,})</li>\")\n",
    "print(\"</ol>\")"
   ]
  },
  {
   "cell_type": "code",
   "execution_count": 26,
   "metadata": {},
   "outputs": [
    {
     "data": {
      "text/html": [
       "<div>\n",
       "<style scoped>\n",
       "    .dataframe tbody tr th:only-of-type {\n",
       "        vertical-align: middle;\n",
       "    }\n",
       "\n",
       "    .dataframe tbody tr th {\n",
       "        vertical-align: top;\n",
       "    }\n",
       "\n",
       "    .dataframe thead th {\n",
       "        text-align: right;\n",
       "    }\n",
       "</style>\n",
       "<table border=\"1\" class=\"dataframe\">\n",
       "  <thead>\n",
       "    <tr style=\"text-align: right;\">\n",
       "      <th></th>\n",
       "      <th>package</th>\n",
       "      <th>c</th>\n",
       "    </tr>\n",
       "  </thead>\n",
       "  <tbody>\n",
       "    <tr>\n",
       "      <th>0</th>\n",
       "      <td>awscrt</td>\n",
       "      <td>21132</td>\n",
       "    </tr>\n",
       "    <tr>\n",
       "      <th>1</th>\n",
       "      <td>numpy</td>\n",
       "      <td>157</td>\n",
       "    </tr>\n",
       "    <tr>\n",
       "      <th>2</th>\n",
       "      <td>opencv-contrib-python</td>\n",
       "      <td>131</td>\n",
       "    </tr>\n",
       "    <tr>\n",
       "      <th>3</th>\n",
       "      <td>pyzmq</td>\n",
       "      <td>113</td>\n",
       "    </tr>\n",
       "    <tr>\n",
       "      <th>4</th>\n",
       "      <td>opencv-python</td>\n",
       "      <td>101</td>\n",
       "    </tr>\n",
       "    <tr>\n",
       "      <th>5</th>\n",
       "      <td>protobuf</td>\n",
       "      <td>88</td>\n",
       "    </tr>\n",
       "    <tr>\n",
       "      <th>6</th>\n",
       "      <td>scipy</td>\n",
       "      <td>77</td>\n",
       "    </tr>\n",
       "    <tr>\n",
       "      <th>7</th>\n",
       "      <td>obs-streamdeck-controls</td>\n",
       "      <td>72</td>\n",
       "    </tr>\n",
       "    <tr>\n",
       "      <th>8</th>\n",
       "      <td>pname</td>\n",
       "      <td>69</td>\n",
       "    </tr>\n",
       "    <tr>\n",
       "      <th>9</th>\n",
       "      <td>keras-models</td>\n",
       "      <td>66</td>\n",
       "    </tr>\n",
       "  </tbody>\n",
       "</table>\n",
       "</div>"
      ],
      "text/plain": [
       "                   package      c\n",
       "0                   awscrt  21132\n",
       "1                    numpy    157\n",
       "2    opencv-contrib-python    131\n",
       "3                    pyzmq    113\n",
       "4            opencv-python    101\n",
       "5                 protobuf     88\n",
       "6                    scipy     77\n",
       "7  obs-streamdeck-controls     72\n",
       "8                    pname     69\n",
       "9             keras-models     66"
      ]
     },
     "execution_count": 26,
     "metadata": {},
     "output_type": "execute_result"
    }
   ],
   "source": [
    "top_10_project_json = pd.read_sql(f\"\"\"\n",
    "    SELECT package, count(*) c\n",
    "    FROM project_json_downloads\n",
    "    WHERE accessed_at::date BETWEEN '{start_date}' AND '{end_date}'\n",
    "    GROUP BY package\n",
    "    ORDER BY c desc\n",
    "    LIMIT 10\n",
    "\"\"\", conn)\n",
    "\n",
    "top_10_project_json"
   ]
  },
  {
   "cell_type": "code",
   "execution_count": 27,
   "metadata": {},
   "outputs": [
    {
     "name": "stdout",
     "output_type": "stream",
     "text": [
      "<ol>\n",
      "<li><strong><a href='https://www.piwheels.org/project/awscrt'>awscrt</a></strong> (21,132)</li>\n",
      "<li><strong><a href='https://www.piwheels.org/project/numpy'>numpy</a></strong> (157)</li>\n",
      "<li><strong><a href='https://www.piwheels.org/project/opencv-contrib-python'>opencv-contrib-python</a></strong> (131)</li>\n",
      "<li><strong><a href='https://www.piwheels.org/project/pyzmq'>pyzmq</a></strong> (113)</li>\n",
      "<li><strong><a href='https://www.piwheels.org/project/opencv-python'>opencv-python</a></strong> (101)</li>\n",
      "<li><strong><a href='https://www.piwheels.org/project/protobuf'>protobuf</a></strong> (88)</li>\n",
      "<li><strong><a href='https://www.piwheels.org/project/scipy'>scipy</a></strong> (77)</li>\n",
      "<li><strong><a href='https://www.piwheels.org/project/obs-streamdeck-controls'>obs-streamdeck-controls</a></strong> (72)</li>\n",
      "<li><strong><a href='https://www.piwheels.org/project/pname'>pname</a></strong> (69)</li>\n",
      "<li><strong><a href='https://www.piwheels.org/project/keras-models'>keras-models</a></strong> (66)</li>\n",
      "</ol>\n"
     ]
    }
   ],
   "source": [
    "print(\"<ol>\")\n",
    "for pkg, c in top_10_project_json.values:\n",
    "    print(f\"<li><strong><a href='https://www.piwheels.org/project/{pkg}'>{pkg}</a></strong> ({c:,})</li>\")\n",
    "print(\"</ol>\")"
   ]
  },
  {
   "cell_type": "code",
   "execution_count": 28,
   "metadata": {},
   "outputs": [
    {
     "data": {
      "text/html": [
       "<div>\n",
       "<style scoped>\n",
       "    .dataframe tbody tr th:only-of-type {\n",
       "        vertical-align: middle;\n",
       "    }\n",
       "\n",
       "    .dataframe tbody tr th {\n",
       "        vertical-align: top;\n",
       "    }\n",
       "\n",
       "    .dataframe thead th {\n",
       "        text-align: right;\n",
       "    }\n",
       "</style>\n",
       "<table border=\"1\" class=\"dataframe\">\n",
       "  <thead>\n",
       "    <tr style=\"text-align: right;\">\n",
       "      <th></th>\n",
       "      <th>c</th>\n",
       "    </tr>\n",
       "  </thead>\n",
       "  <tbody>\n",
       "    <tr>\n",
       "      <th>0</th>\n",
       "      <td>116711</td>\n",
       "    </tr>\n",
       "  </tbody>\n",
       "</table>\n",
       "</div>"
      ],
      "text/plain": [
       "        c\n",
       "0  116711"
      ]
     },
     "execution_count": 28,
     "metadata": {},
     "output_type": "execute_result"
    }
   ],
   "source": [
    "pd.read_sql(f\"\"\"\n",
    "    SELECT COUNT(DISTINCT(package)) c\n",
    "    FROM project_json_downloads\n",
    "    WHERE accessed_at::date BETWEEN '{start_date}' AND '{end_date}'\n",
    "\"\"\", conn)"
   ]
  },
  {
   "cell_type": "code",
   "execution_count": 29,
   "metadata": {},
   "outputs": [
    {
     "data": {
      "text/html": [
       "<div>\n",
       "<style scoped>\n",
       "    .dataframe tbody tr th:only-of-type {\n",
       "        vertical-align: middle;\n",
       "    }\n",
       "\n",
       "    .dataframe tbody tr th {\n",
       "        vertical-align: top;\n",
       "    }\n",
       "\n",
       "    .dataframe thead th {\n",
       "        text-align: right;\n",
       "    }\n",
       "</style>\n",
       "<table border=\"1\" class=\"dataframe\">\n",
       "  <thead>\n",
       "    <tr style=\"text-align: right;\">\n",
       "      <th></th>\n",
       "      <th>user_agent</th>\n",
       "      <th>c</th>\n",
       "    </tr>\n",
       "  </thead>\n",
       "  <tbody>\n",
       "    <tr>\n",
       "      <th>0</th>\n",
       "      <td>mozilla</td>\n",
       "      <td>271487</td>\n",
       "    </tr>\n",
       "    <tr>\n",
       "      <th>1</th>\n",
       "      <td>python-urllib</td>\n",
       "      <td>21630</td>\n",
       "    </tr>\n",
       "    <tr>\n",
       "      <th>2</th>\n",
       "      <td>ccbot</td>\n",
       "      <td>956</td>\n",
       "    </tr>\n",
       "    <tr>\n",
       "      <th>3</th>\n",
       "      <td>\"mozilla</td>\n",
       "      <td>110</td>\n",
       "    </tr>\n",
       "    <tr>\n",
       "      <th>4</th>\n",
       "      <td>clark-crawler2</td>\n",
       "      <td>25</td>\n",
       "    </tr>\n",
       "    <tr>\n",
       "      <th>5</th>\n",
       "      <td>python-requests</td>\n",
       "      <td>17</td>\n",
       "    </tr>\n",
       "    <tr>\n",
       "      <th>6</th>\n",
       "      <td>wordpress</td>\n",
       "      <td>5</td>\n",
       "    </tr>\n",
       "    <tr>\n",
       "      <th>7</th>\n",
       "      <td>inetdex bot</td>\n",
       "      <td>4</td>\n",
       "    </tr>\n",
       "    <tr>\n",
       "      <th>8</th>\n",
       "      <td>elisabot</td>\n",
       "      <td>4</td>\n",
       "    </tr>\n",
       "    <tr>\n",
       "      <th>9</th>\n",
       "      <td>ahc</td>\n",
       "      <td>4</td>\n",
       "    </tr>\n",
       "    <tr>\n",
       "      <th>10</th>\n",
       "      <td>netestate ne crawler (+http:</td>\n",
       "      <td>2</td>\n",
       "    </tr>\n",
       "    <tr>\n",
       "      <th>11</th>\n",
       "      <td>googlebot</td>\n",
       "      <td>2</td>\n",
       "    </tr>\n",
       "    <tr>\n",
       "      <th>12</th>\n",
       "      <td>privacybrowser</td>\n",
       "      <td>1</td>\n",
       "    </tr>\n",
       "    <tr>\n",
       "      <th>13</th>\n",
       "      <td>opera</td>\n",
       "      <td>1</td>\n",
       "    </tr>\n",
       "    <tr>\n",
       "      <th>14</th>\n",
       "      <td>wget</td>\n",
       "      <td>1</td>\n",
       "    </tr>\n",
       "    <tr>\n",
       "      <th>15</th>\n",
       "      <td>facebookexternalhit</td>\n",
       "      <td>1</td>\n",
       "    </tr>\n",
       "    <tr>\n",
       "      <th>16</th>\n",
       "      <td>yisouspider</td>\n",
       "      <td>1</td>\n",
       "    </tr>\n",
       "    <tr>\n",
       "      <th>17</th>\n",
       "      <td>zoominfobot (zoominfobot at zoominfo dot com)</td>\n",
       "      <td>1</td>\n",
       "    </tr>\n",
       "  </tbody>\n",
       "</table>\n",
       "</div>"
      ],
      "text/plain": [
       "                                       user_agent       c\n",
       "0                                         mozilla  271487\n",
       "1                                   python-urllib   21630\n",
       "2                                           ccbot     956\n",
       "3                                        \"mozilla     110\n",
       "4                                  clark-crawler2      25\n",
       "5                                 python-requests      17\n",
       "6                                       wordpress       5\n",
       "7                                     inetdex bot       4\n",
       "8                                        elisabot       4\n",
       "9                                             ahc       4\n",
       "10                   netestate ne crawler (+http:       2\n",
       "11                                      googlebot       2\n",
       "12                                 privacybrowser       1\n",
       "13                                          opera       1\n",
       "14                                           wget       1\n",
       "15                            facebookexternalhit       1\n",
       "16                                    yisouspider       1\n",
       "17  zoominfobot (zoominfobot at zoominfo dot com)       1"
      ]
     },
     "execution_count": 29,
     "metadata": {},
     "output_type": "execute_result"
    }
   ],
   "source": [
    "pd.read_sql(f\"\"\"\n",
    "    SELECT user_agent, COUNT(*) c\n",
    "    FROM project_json_downloads\n",
    "    WHERE accessed_at::date BETWEEN '{start_date}' and '{end_date}'\n",
    "    GROUP BY user_agent\n",
    "    ORDER BY c desc\n",
    "\"\"\", conn)"
   ]
  },
  {
   "cell_type": "code",
   "execution_count": 30,
   "metadata": {},
   "outputs": [
    {
     "data": {
      "text/html": [
       "<div>\n",
       "<style scoped>\n",
       "    .dataframe tbody tr th:only-of-type {\n",
       "        vertical-align: middle;\n",
       "    }\n",
       "\n",
       "    .dataframe tbody tr th {\n",
       "        vertical-align: top;\n",
       "    }\n",
       "\n",
       "    .dataframe thead th {\n",
       "        text-align: right;\n",
       "    }\n",
       "</style>\n",
       "<table border=\"1\" class=\"dataframe\">\n",
       "  <thead>\n",
       "    <tr style=\"text-align: right;\">\n",
       "      <th></th>\n",
       "      <th>os_name</th>\n",
       "      <th>c</th>\n",
       "    </tr>\n",
       "  </thead>\n",
       "  <tbody>\n",
       "    <tr>\n",
       "      <th>0</th>\n",
       "      <td>Linux</td>\n",
       "      <td>58827696</td>\n",
       "    </tr>\n",
       "    <tr>\n",
       "      <th>1</th>\n",
       "      <td>Windows</td>\n",
       "      <td>24566</td>\n",
       "    </tr>\n",
       "    <tr>\n",
       "      <th>2</th>\n",
       "      <td>Darwin</td>\n",
       "      <td>15289</td>\n",
       "    </tr>\n",
       "    <tr>\n",
       "      <th>3</th>\n",
       "      <td>FreeBSD</td>\n",
       "      <td>2914</td>\n",
       "    </tr>\n",
       "    <tr>\n",
       "      <th>4</th>\n",
       "      <td>Open Surface RT - Linux</td>\n",
       "      <td>706</td>\n",
       "    </tr>\n",
       "    <tr>\n",
       "      <th>5</th>\n",
       "      <td>CYGWIN_NT-6.1-7601-WOW64</td>\n",
       "      <td>15</td>\n",
       "    </tr>\n",
       "    <tr>\n",
       "      <th>6</th>\n",
       "      <td>CYGWIN_NT-10.0-19042</td>\n",
       "      <td>3</td>\n",
       "    </tr>\n",
       "  </tbody>\n",
       "</table>\n",
       "</div>"
      ],
      "text/plain": [
       "                    os_name         c\n",
       "0                     Linux  58827696\n",
       "1                   Windows     24566\n",
       "2                    Darwin     15289\n",
       "3                   FreeBSD      2914\n",
       "4   Open Surface RT - Linux       706\n",
       "5  CYGWIN_NT-6.1-7601-WOW64        15\n",
       "6      CYGWIN_NT-10.0-19042         3"
      ]
     },
     "execution_count": 30,
     "metadata": {},
     "output_type": "execute_result"
    }
   ],
   "source": [
    "os_usage = pd.read_sql(f\"\"\"\n",
    "    SELECT os_name, COUNT(*) c\n",
    "    FROM searches\n",
    "    WHERE accessed_at BETWEEN '{start_time}' AND '{end_time}'\n",
    "    GROUP BY os_name\n",
    "    ORDER BY c desc\n",
    "\"\"\", conn)\n",
    "\n",
    "os_usage"
   ]
  },
  {
   "cell_type": "code",
   "execution_count": 31,
   "metadata": {},
   "outputs": [
    {
     "name": "stdout",
     "output_type": "stream",
     "text": [
      "99.93% linux\n"
     ]
    }
   ],
   "source": [
    "linux_usage_pc = 100 * (os_usage.values[0][1] / searches)\n",
    "print(f'{linux_usage_pc:2.2f}% linux')"
   ]
  },
  {
   "cell_type": "code",
   "execution_count": 32,
   "metadata": {},
   "outputs": [
    {
     "data": {
      "text/html": [
       "<div>\n",
       "<style scoped>\n",
       "    .dataframe tbody tr th:only-of-type {\n",
       "        vertical-align: middle;\n",
       "    }\n",
       "\n",
       "    .dataframe tbody tr th {\n",
       "        vertical-align: top;\n",
       "    }\n",
       "\n",
       "    .dataframe thead th {\n",
       "        text-align: right;\n",
       "    }\n",
       "</style>\n",
       "<table border=\"1\" class=\"dataframe\">\n",
       "  <thead>\n",
       "    <tr style=\"text-align: right;\">\n",
       "      <th></th>\n",
       "      <th>distro_name</th>\n",
       "      <th>c</th>\n",
       "    </tr>\n",
       "  </thead>\n",
       "  <tbody>\n",
       "    <tr>\n",
       "      <th>0</th>\n",
       "      <td>Raspbian GNU/Linux</td>\n",
       "      <td>52404501</td>\n",
       "    </tr>\n",
       "    <tr>\n",
       "      <th>1</th>\n",
       "      <td>Debian GNU/Linux</td>\n",
       "      <td>5727911</td>\n",
       "    </tr>\n",
       "    <tr>\n",
       "      <th>2</th>\n",
       "      <td>Ubuntu</td>\n",
       "      <td>415840</td>\n",
       "    </tr>\n",
       "    <tr>\n",
       "      <th>3</th>\n",
       "      <td>OSMC</td>\n",
       "      <td>121189</td>\n",
       "    </tr>\n",
       "    <tr>\n",
       "      <th>4</th>\n",
       "      <td>Alpine Linux</td>\n",
       "      <td>94320</td>\n",
       "    </tr>\n",
       "  </tbody>\n",
       "</table>\n",
       "</div>"
      ],
      "text/plain": [
       "          distro_name         c\n",
       "0  Raspbian GNU/Linux  52404501\n",
       "1    Debian GNU/Linux   5727911\n",
       "2              Ubuntu    415840\n",
       "3                OSMC    121189\n",
       "4        Alpine Linux     94320"
      ]
     },
     "execution_count": 32,
     "metadata": {},
     "output_type": "execute_result"
    }
   ],
   "source": [
    "distro_usage = pd.read_sql(f\"\"\"\n",
    "    SELECT distro_name, COUNT(*) c\n",
    "    FROM searches\n",
    "    WHERE accessed_at BETWEEN '{start_time}' AND '{end_time}'\n",
    "    AND os_name = 'Linux'\n",
    "    GROUP BY distro_name\n",
    "    ORDER BY c desc\n",
    "    LIMIT 5\n",
    "\"\"\", conn)\n",
    "\n",
    "distro_usage"
   ]
  },
  {
   "cell_type": "code",
   "execution_count": 33,
   "metadata": {},
   "outputs": [
    {
     "data": {
      "text/html": [
       "<div>\n",
       "<style scoped>\n",
       "    .dataframe tbody tr th:only-of-type {\n",
       "        vertical-align: middle;\n",
       "    }\n",
       "\n",
       "    .dataframe tbody tr th {\n",
       "        vertical-align: top;\n",
       "    }\n",
       "\n",
       "    .dataframe thead th {\n",
       "        text-align: right;\n",
       "    }\n",
       "</style>\n",
       "<table border=\"1\" class=\"dataframe\">\n",
       "  <thead>\n",
       "    <tr style=\"text-align: right;\">\n",
       "      <th></th>\n",
       "      <th>c</th>\n",
       "    </tr>\n",
       "  </thead>\n",
       "  <tbody>\n",
       "    <tr>\n",
       "      <th>0</th>\n",
       "      <td>58132412</td>\n",
       "    </tr>\n",
       "  </tbody>\n",
       "</table>\n",
       "</div>"
      ],
      "text/plain": [
       "          c\n",
       "0  58132412"
      ]
     },
     "execution_count": 33,
     "metadata": {},
     "output_type": "execute_result"
    }
   ],
   "source": [
    "debian_usage = pd.read_sql(f\"\"\"\n",
    "    SELECT count(*) c\n",
    "    FROM searches\n",
    "    WHERE accessed_at BETWEEN '{start_time}' AND '{end_time}'\n",
    "    AND os_name = 'Linux'\n",
    "    AND distro_name in ('Raspbian GNU/Linux', 'Debian GNU/Linux')\n",
    "    ORDER BY c desc\n",
    "    LIMIT 5\n",
    "\"\"\", conn)\n",
    "\n",
    "debian_usage"
   ]
  },
  {
   "cell_type": "code",
   "execution_count": 34,
   "metadata": {},
   "outputs": [
    {
     "name": "stdout",
     "output_type": "stream",
     "text": [
      "98.75% debian\n"
     ]
    }
   ],
   "source": [
    "debian_usage_pc = 100 * (debian_usage.c[0] / searches)\n",
    "print(f'{debian_usage_pc:2.2f}% debian')"
   ]
  },
  {
   "cell_type": "code",
   "execution_count": 35,
   "metadata": {},
   "outputs": [
    {
     "name": "stdout",
     "output_type": "stream",
     "text": [
      "0.71% ubuntu\n"
     ]
    }
   ],
   "source": [
    "ubuntu_usage = pd.read_sql(f\"\"\"\n",
    "    SELECT count(*) c\n",
    "    FROM searches\n",
    "    WHERE accessed_at BETWEEN '{start_time}' AND '{end_time}'\n",
    "    AND os_name = 'Linux'\n",
    "    AND distro_name = 'Ubuntu'\n",
    "    ORDER BY c desc\n",
    "    LIMIT 5\n",
    "\"\"\", conn)\n",
    "\n",
    "ubuntu_usage_pc = 100 * (ubuntu_usage.c[0] / searches)\n",
    "print(f'{ubuntu_usage_pc:2.2f}% ubuntu')"
   ]
  },
  {
   "cell_type": "code",
   "execution_count": 36,
   "metadata": {},
   "outputs": [
    {
     "data": {
      "text/plain": [
       "{'Debian / Raspberry Pi OS': 58132412, 'Others': 738770}"
      ]
     },
     "execution_count": 36,
     "metadata": {},
     "output_type": "execute_result"
    }
   ],
   "source": [
    "debian = debian_usage.values[0][0]\n",
    "others = searches - debian\n",
    "\n",
    "distro_usage = {\n",
    "    'Debian / Raspberry Pi OS': debian,\n",
    "    'Others': others,\n",
    "}\n",
    "\n",
    "distro_usage"
   ]
  },
  {
   "cell_type": "code",
   "execution_count": 37,
   "metadata": {},
   "outputs": [
    {
     "data": {
      "image/png": "[encoded data removed]",
      "text/plain": [
       "<Figure size 720x432 with 1 Axes>"
      ]
     },
     "metadata": {},
     "output_type": "display_data"
    }
   ],
   "source": [
    "plt.pie(distro_usage.values(), labels=distro_usage.keys())\n",
    "plt.title('Linux distro usage')\n",
    "\n",
    "plt.savefig('distro-usage.png')\n",
    "\n",
    "plt.show()"
   ]
  },
  {
   "cell_type": "code",
   "execution_count": 38,
   "metadata": {},
   "outputs": [
    {
     "data": {
      "text/html": [
       "<div>\n",
       "<style scoped>\n",
       "    .dataframe tbody tr th:only-of-type {\n",
       "        vertical-align: middle;\n",
       "    }\n",
       "\n",
       "    .dataframe tbody tr th {\n",
       "        vertical-align: top;\n",
       "    }\n",
       "\n",
       "    .dataframe thead th {\n",
       "        text-align: right;\n",
       "    }\n",
       "</style>\n",
       "<table border=\"1\" class=\"dataframe\">\n",
       "  <thead>\n",
       "    <tr style=\"text-align: right;\">\n",
       "      <th></th>\n",
       "      <th>distro_version</th>\n",
       "      <th>c</th>\n",
       "    </tr>\n",
       "  </thead>\n",
       "  <tbody>\n",
       "    <tr>\n",
       "      <th>0</th>\n",
       "      <td>10</td>\n",
       "      <td>39513587</td>\n",
       "    </tr>\n",
       "    <tr>\n",
       "      <th>1</th>\n",
       "      <td>11</td>\n",
       "      <td>14652519</td>\n",
       "    </tr>\n",
       "    <tr>\n",
       "      <th>2</th>\n",
       "      <td>9</td>\n",
       "      <td>3907972</td>\n",
       "    </tr>\n",
       "    <tr>\n",
       "      <th>3</th>\n",
       "      <td>8</td>\n",
       "      <td>851</td>\n",
       "    </tr>\n",
       "  </tbody>\n",
       "</table>\n",
       "</div>"
      ],
      "text/plain": [
       "  distro_version         c\n",
       "0             10  39513587\n",
       "1             11  14652519\n",
       "2              9   3907972\n",
       "3              8       851"
      ]
     },
     "execution_count": 38,
     "metadata": {},
     "output_type": "execute_result"
    }
   ],
   "source": [
    "distro_versions = pd.read_sql(f\"\"\"\n",
    "    SELECT distro_version, count(*) c\n",
    "    FROM searches\n",
    "    WHERE accessed_at BETWEEN '{start_time}' AND '{end_time}'\n",
    "    AND os_name = 'Linux'\n",
    "    AND distro_name in ('Raspbian GNU/Linux', 'Debian GNU/Linux')\n",
    "    AND distro_version in ('8', '9', '10', '11')\n",
    "    GROUP BY distro_version\n",
    "    ORDER BY c desc\n",
    "\"\"\", conn)\n",
    "\n",
    "distro_versions"
   ]
  },
  {
   "cell_type": "code",
   "execution_count": 39,
   "metadata": {},
   "outputs": [
    {
     "name": "stdout",
     "output_type": "stream",
     "text": [
      "10 68.0%\n",
      "11 25.2%\n",
      "9 6.7%\n",
      "8 0.0%\n"
     ]
    }
   ],
   "source": [
    "total = sum(distro_versions.c)\n",
    "\n",
    "for v in distro_versions.values:\n",
    "    print(v[0], f'{(100 * v[1] / total):.1f}%')"
   ]
  },
  {
   "cell_type": "code",
   "execution_count": 40,
   "metadata": {},
   "outputs": [
    {
     "data": {
      "image/png": "[encoded data removed]",
      "text/plain": [
       "<Figure size 720x432 with 1 Axes>"
      ]
     },
     "metadata": {},
     "output_type": "display_data"
    }
   ],
   "source": [
    "version_names = {'11': 'Bullseye', '10': 'Buster', '9': 'Stretch', '8': 'Jessie'}\n",
    "plt.pie(distro_versions.c[:3], labels=[version_names[v] for v in distro_versions.distro_version][:3])\n",
    "plt.title('Raspbian/Debian version usage')\n",
    "\n",
    "plt.savefig('debian-usage.png')\n",
    "\n",
    "plt.show()"
   ]
  },
  {
   "cell_type": "code",
   "execution_count": 41,
   "metadata": {},
   "outputs": [
    {
     "data": {
      "text/html": [
       "<div>\n",
       "<style scoped>\n",
       "    .dataframe tbody tr th:only-of-type {\n",
       "        vertical-align: middle;\n",
       "    }\n",
       "\n",
       "    .dataframe tbody tr th {\n",
       "        vertical-align: top;\n",
       "    }\n",
       "\n",
       "    .dataframe thead th {\n",
       "        text-align: right;\n",
       "    }\n",
       "</style>\n",
       "<table border=\"1\" class=\"dataframe\">\n",
       "  <thead>\n",
       "    <tr style=\"text-align: right;\">\n",
       "      <th></th>\n",
       "      <th>arch</th>\n",
       "      <th>c</th>\n",
       "    </tr>\n",
       "  </thead>\n",
       "  <tbody>\n",
       "    <tr>\n",
       "      <th>0</th>\n",
       "      <td>armv7l</td>\n",
       "      <td>50854344</td>\n",
       "    </tr>\n",
       "    <tr>\n",
       "      <th>1</th>\n",
       "      <td>x86_64</td>\n",
       "      <td>3265878</td>\n",
       "    </tr>\n",
       "    <tr>\n",
       "      <th>2</th>\n",
       "      <td>aarch64</td>\n",
       "      <td>2701818</td>\n",
       "    </tr>\n",
       "    <tr>\n",
       "      <th>3</th>\n",
       "      <td>armv6l</td>\n",
       "      <td>1945464</td>\n",
       "    </tr>\n",
       "    <tr>\n",
       "      <th>4</th>\n",
       "      <td>i686</td>\n",
       "      <td>43467</td>\n",
       "    </tr>\n",
       "    <tr>\n",
       "      <th>5</th>\n",
       "      <td>armv8l</td>\n",
       "      <td>29856</td>\n",
       "    </tr>\n",
       "    <tr>\n",
       "      <th>6</th>\n",
       "      <td>AMD64</td>\n",
       "      <td>24566</td>\n",
       "    </tr>\n",
       "    <tr>\n",
       "      <th>7</th>\n",
       "      <td>amd64</td>\n",
       "      <td>2914</td>\n",
       "    </tr>\n",
       "    <tr>\n",
       "      <th>8</th>\n",
       "      <td>arm64</td>\n",
       "      <td>2857</td>\n",
       "    </tr>\n",
       "    <tr>\n",
       "      <th>9</th>\n",
       "      <td>s390x</td>\n",
       "      <td>14</td>\n",
       "    </tr>\n",
       "    <tr>\n",
       "      <th>10</th>\n",
       "      <td>ppc64le</td>\n",
       "      <td>8</td>\n",
       "    </tr>\n",
       "    <tr>\n",
       "      <th>11</th>\n",
       "      <td>arm</td>\n",
       "      <td>3</td>\n",
       "    </tr>\n",
       "  </tbody>\n",
       "</table>\n",
       "</div>"
      ],
      "text/plain": [
       "       arch         c\n",
       "0    armv7l  50854344\n",
       "1    x86_64   3265878\n",
       "2   aarch64   2701818\n",
       "3    armv6l   1945464\n",
       "4      i686     43467\n",
       "5    armv8l     29856\n",
       "6     AMD64     24566\n",
       "7     amd64      2914\n",
       "8     arm64      2857\n",
       "9     s390x        14\n",
       "10  ppc64le         8\n",
       "11      arm         3"
      ]
     },
     "execution_count": 41,
     "metadata": {},
     "output_type": "execute_result"
    }
   ],
   "source": [
    "arch = pd.read_sql(f\"\"\"\n",
    "    SELECT arch, COUNT(*) c\n",
    "    FROM searches\n",
    "    WHERE accessed_at BETWEEN '{start_time}' AND '{end_time}'\n",
    "    GROUP BY arch\n",
    "    ORDER BY c DESC\n",
    "\"\"\", conn)\n",
    "\n",
    "arch"
   ]
  },
  {
   "cell_type": "code",
   "execution_count": 42,
   "metadata": {},
   "outputs": [
    {
     "data": {
      "image/png": "[encoded data removed]",
      "text/plain": [
       "<Figure size 720x432 with 1 Axes>"
      ]
     },
     "metadata": {},
     "output_type": "display_data"
    }
   ],
   "source": [
    "plt.pie(arch.c[:4], labels=arch.arch[:4])\n",
    "plt.title('Architecture usage')\n",
    "\n",
    "plt.savefig('arch.png')\n",
    "\n",
    "plt.show()"
   ]
  },
  {
   "cell_type": "code",
   "execution_count": 61,
   "metadata": {},
   "outputs": [
    {
     "name": "stdout",
     "output_type": "stream",
     "text": [
      "armv7l 89.6%\n",
      "x86_64 5.8%\n",
      "aarch64 4.8%\n",
      "armv6l 3.4%\n"
     ]
    }
   ],
   "source": [
    "for v in arch.values[:4]:\n",
    "    print(v[0], f'{(100 * v[1] / total):.1f}%') "
   ]
  },
  {
   "cell_type": "code",
   "execution_count": 43,
   "metadata": {},
   "outputs": [
    {
     "name": "stdout",
     "output_type": "stream",
     "text": [
      "armv7l 91.9%\n",
      "aarch64 4.6%\n",
      "armv6l 3.5%\n"
     ]
    }
   ],
   "source": [
    "arm_arch = pd.read_sql(f\"\"\"\n",
    "    SELECT arch, COUNT(*) c\n",
    "    FROM searches\n",
    "    WHERE accessed_at BETWEEN '{start_time}' AND '{end_time}'\n",
    "    AND os_name = 'Linux'\n",
    "    AND distro_name in ('Raspbian GNU/Linux', 'Debian GNU/Linux')\n",
    "    AND arch in ('armv6l', 'armv7l', 'aarch64')\n",
    "    GROUP BY arch\n",
    "    ORDER BY c DESC\n",
    "\"\"\", conn)\n",
    "\n",
    "total = sum(arm_arch.c)\n",
    "\n",
    "for v in arm_arch.values:\n",
    "    print(v[0], f'{(100 * v[1] / total):.1f}%') "
   ]
  },
  {
   "cell_type": "code",
   "execution_count": 44,
   "metadata": {},
   "outputs": [
    {
     "data": {
      "image/png": "[encoded data removed]",
      "text/plain": [
       "<Figure size 720x432 with 1 Axes>"
      ]
     },
     "metadata": {},
     "output_type": "display_data"
    }
   ],
   "source": [
    "plt.pie(arm_arch.c, labels=arm_arch.arch)\n",
    "plt.title('PiOS/Debian Arm architecture usage')\n",
    "\n",
    "plt.savefig('debian-arch.png')\n",
    "\n",
    "plt.show()"
   ]
  },
  {
   "cell_type": "code",
   "execution_count": 45,
   "metadata": {},
   "outputs": [
    {
     "data": {
      "text/html": [
       "<div>\n",
       "<style scoped>\n",
       "    .dataframe tbody tr th:only-of-type {\n",
       "        vertical-align: middle;\n",
       "    }\n",
       "\n",
       "    .dataframe tbody tr th {\n",
       "        vertical-align: top;\n",
       "    }\n",
       "\n",
       "    .dataframe thead th {\n",
       "        text-align: right;\n",
       "    }\n",
       "</style>\n",
       "<table border=\"1\" class=\"dataframe\">\n",
       "  <thead>\n",
       "    <tr style=\"text-align: right;\">\n",
       "      <th></th>\n",
       "      <th>pyver</th>\n",
       "      <th>c</th>\n",
       "    </tr>\n",
       "  </thead>\n",
       "  <tbody>\n",
       "    <tr>\n",
       "      <th>0</th>\n",
       "      <td>3.7</td>\n",
       "      <td>29706026</td>\n",
       "    </tr>\n",
       "    <tr>\n",
       "      <th>1</th>\n",
       "      <td>3.9</td>\n",
       "      <td>13235793</td>\n",
       "    </tr>\n",
       "    <tr>\n",
       "      <th>2</th>\n",
       "      <td>2.7</td>\n",
       "      <td>7073097</td>\n",
       "    </tr>\n",
       "    <tr>\n",
       "      <th>3</th>\n",
       "      <td>3.8</td>\n",
       "      <td>2620084</td>\n",
       "    </tr>\n",
       "    <tr>\n",
       "      <th>4</th>\n",
       "      <td>3.5</td>\n",
       "      <td>2017367</td>\n",
       "    </tr>\n",
       "    <tr>\n",
       "      <th>5</th>\n",
       "      <td>3.6</td>\n",
       "      <td>325941</td>\n",
       "    </tr>\n",
       "  </tbody>\n",
       "</table>\n",
       "</div>"
      ],
      "text/plain": [
       "  pyver         c\n",
       "0   3.7  29706026\n",
       "1   3.9  13235793\n",
       "2   2.7   7073097\n",
       "3   3.8   2620084\n",
       "4   3.5   2017367\n",
       "5   3.6    325941"
      ]
     },
     "execution_count": 45,
     "metadata": {},
     "output_type": "execute_result"
    }
   ],
   "source": [
    "py_vers = pd.read_sql(f\"\"\"\n",
    "    SELECT SUBSTRING(py_version from 1 for 3) pyver, COUNT(*) c\n",
    "    FROM searches\n",
    "    WHERE accessed_at BETWEEN '{start_time}' AND '{end_time}'\n",
    "    AND os_name = 'Linux'\n",
    "    AND distro_name in ('Raspbian GNU/Linux', 'Debian GNU/Linux')\n",
    "    AND arch in ('armv6l', 'armv7l', 'aarch64')\n",
    "    AND py_name = 'CPython'\n",
    "    GROUP BY pyver\n",
    "    ORDER BY c desc\n",
    "    LIMIT 6\n",
    "\"\"\", conn)\n",
    "\n",
    "py_vers"
   ]
  },
  {
   "cell_type": "code",
   "execution_count": 62,
   "metadata": {},
   "outputs": [
    {
     "data": {
      "text/html": [
       "<div>\n",
       "<style scoped>\n",
       "    .dataframe tbody tr th:only-of-type {\n",
       "        vertical-align: middle;\n",
       "    }\n",
       "\n",
       "    .dataframe tbody tr th {\n",
       "        vertical-align: top;\n",
       "    }\n",
       "\n",
       "    .dataframe thead th {\n",
       "        text-align: right;\n",
       "    }\n",
       "</style>\n",
       "<table border=\"1\" class=\"dataframe\">\n",
       "  <thead>\n",
       "    <tr style=\"text-align: right;\">\n",
       "      <th></th>\n",
       "      <th>py_version</th>\n",
       "      <th>c</th>\n",
       "    </tr>\n",
       "  </thead>\n",
       "  <tbody>\n",
       "    <tr>\n",
       "      <th>0</th>\n",
       "      <td>2.7.10</td>\n",
       "      <td>560</td>\n",
       "    </tr>\n",
       "    <tr>\n",
       "      <th>1</th>\n",
       "      <td>2.7.13</td>\n",
       "      <td>1348576</td>\n",
       "    </tr>\n",
       "    <tr>\n",
       "      <th>2</th>\n",
       "      <td>2.7.14</td>\n",
       "      <td>115</td>\n",
       "    </tr>\n",
       "    <tr>\n",
       "      <th>3</th>\n",
       "      <td>2.7.15</td>\n",
       "      <td>1247</td>\n",
       "    </tr>\n",
       "    <tr>\n",
       "      <th>4</th>\n",
       "      <td>2.7.15+</td>\n",
       "      <td>2</td>\n",
       "    </tr>\n",
       "    <tr>\n",
       "      <th>...</th>\n",
       "      <td>...</td>\n",
       "      <td>...</td>\n",
       "    </tr>\n",
       "    <tr>\n",
       "      <th>122</th>\n",
       "      <td>3.9.7</td>\n",
       "      <td>271731</td>\n",
       "    </tr>\n",
       "    <tr>\n",
       "      <th>123</th>\n",
       "      <td>3.9.7+</td>\n",
       "      <td>26</td>\n",
       "    </tr>\n",
       "    <tr>\n",
       "      <th>124</th>\n",
       "      <td>3.9.8</td>\n",
       "      <td>63481</td>\n",
       "    </tr>\n",
       "    <tr>\n",
       "      <th>125</th>\n",
       "      <td>3.9.8+</td>\n",
       "      <td>135</td>\n",
       "    </tr>\n",
       "    <tr>\n",
       "      <th>126</th>\n",
       "      <td>3.9.9</td>\n",
       "      <td>180846</td>\n",
       "    </tr>\n",
       "  </tbody>\n",
       "</table>\n",
       "<p>127 rows × 2 columns</p>\n",
       "</div>"
      ],
      "text/plain": [
       "    py_version        c\n",
       "0       2.7.10      560\n",
       "1       2.7.13  1348576\n",
       "2       2.7.14      115\n",
       "3       2.7.15     1247\n",
       "4      2.7.15+        2\n",
       "..         ...      ...\n",
       "122      3.9.7   271731\n",
       "123     3.9.7+       26\n",
       "124      3.9.8    63481\n",
       "125     3.9.8+      135\n",
       "126      3.9.9   180846\n",
       "\n",
       "[127 rows x 2 columns]"
      ]
     },
     "execution_count": 62,
     "metadata": {},
     "output_type": "execute_result"
    }
   ],
   "source": [
    "py_vers = pd.read_sql(f\"\"\"\n",
    "    SELECT py_version, COUNT(*) c\n",
    "    FROM searches\n",
    "    WHERE accessed_at BETWEEN '{start_time}' AND '{end_time}'\n",
    "    AND os_name = 'Linux'\n",
    "    AND distro_name in ('Raspbian GNU/Linux', 'Debian GNU/Linux')\n",
    "    AND arch in ('armv6l', 'armv7l', 'aarch64')\n",
    "    AND py_name = 'CPython'\n",
    "    GROUP BY py_version\n",
    "\"\"\", conn)\n",
    "\n",
    "py_vers"
   ]
  },
  {
   "cell_type": "code",
   "execution_count": 46,
   "metadata": {},
   "outputs": [
    {
     "data": {
      "image/png": "[encoded data removed]",
      "text/plain": [
       "<Figure size 720x432 with 1 Axes>"
      ]
     },
     "metadata": {},
     "output_type": "display_data"
    }
   ],
   "source": [
    "plt.pie(py_vers.c, labels=py_vers.pyver)\n",
    "plt.title('Python version usage')\n",
    "\n",
    "plt.savefig('py-vers.png')\n",
    "\n",
    "plt.show()"
   ]
  },
  {
   "cell_type": "code",
   "execution_count": 47,
   "metadata": {},
   "outputs": [
    {
     "name": "stdout",
     "output_type": "stream",
     "text": [
      "3.7 54.03%\n",
      "3.9 24.07%\n",
      "2.7 12.87%\n",
      "3.8 4.77%\n",
      "3.5 3.67%\n",
      "3.6 0.59%\n"
     ]
    }
   ],
   "source": [
    "total = sum(row[1] for row in py_vers.values)\n",
    "\n",
    "for ver, c in py_vers.values:\n",
    "    print(ver, f'{100 * (c / total):.2f}%')"
   ]
  },
  {
   "cell_type": "code",
   "execution_count": 48,
   "metadata": {},
   "outputs": [
    {
     "data": {
      "text/html": [
       "<div>\n",
       "<style scoped>\n",
       "    .dataframe tbody tr th:only-of-type {\n",
       "        vertical-align: middle;\n",
       "    }\n",
       "\n",
       "    .dataframe tbody tr th {\n",
       "        vertical-align: top;\n",
       "    }\n",
       "\n",
       "    .dataframe thead th {\n",
       "        text-align: right;\n",
       "    }\n",
       "</style>\n",
       "<table border=\"1\" class=\"dataframe\">\n",
       "  <thead>\n",
       "    <tr style=\"text-align: right;\">\n",
       "      <th></th>\n",
       "      <th>installer_version</th>\n",
       "      <th>c</th>\n",
       "    </tr>\n",
       "  </thead>\n",
       "  <tbody>\n",
       "    <tr>\n",
       "      <th>0</th>\n",
       "      <td>21.3.1</td>\n",
       "      <td>23942426</td>\n",
       "    </tr>\n",
       "    <tr>\n",
       "      <th>1</th>\n",
       "      <td>18.1</td>\n",
       "      <td>10746363</td>\n",
       "    </tr>\n",
       "    <tr>\n",
       "      <th>2</th>\n",
       "      <td>21.2.4</td>\n",
       "      <td>5398419</td>\n",
       "    </tr>\n",
       "    <tr>\n",
       "      <th>3</th>\n",
       "      <td>20.3.4</td>\n",
       "      <td>3965603</td>\n",
       "    </tr>\n",
       "    <tr>\n",
       "      <th>4</th>\n",
       "      <td>21.3</td>\n",
       "      <td>2445858</td>\n",
       "    </tr>\n",
       "    <tr>\n",
       "      <th>5</th>\n",
       "      <td>19.0.1</td>\n",
       "      <td>2201286</td>\n",
       "    </tr>\n",
       "    <tr>\n",
       "      <th>6</th>\n",
       "      <td>20.3.3</td>\n",
       "      <td>2115040</td>\n",
       "    </tr>\n",
       "    <tr>\n",
       "      <th>7</th>\n",
       "      <td>9.0.1</td>\n",
       "      <td>1394927</td>\n",
       "    </tr>\n",
       "    <tr>\n",
       "      <th>8</th>\n",
       "      <td>20.2.4</td>\n",
       "      <td>1038391</td>\n",
       "    </tr>\n",
       "    <tr>\n",
       "      <th>9</th>\n",
       "      <td>19.3.1</td>\n",
       "      <td>1027908</td>\n",
       "    </tr>\n",
       "  </tbody>\n",
       "</table>\n",
       "</div>"
      ],
      "text/plain": [
       "  installer_version         c\n",
       "0            21.3.1  23942426\n",
       "1              18.1  10746363\n",
       "2            21.2.4   5398419\n",
       "3            20.3.4   3965603\n",
       "4              21.3   2445858\n",
       "5            19.0.1   2201286\n",
       "6            20.3.3   2115040\n",
       "7             9.0.1   1394927\n",
       "8            20.2.4   1038391\n",
       "9            19.3.1   1027908"
      ]
     },
     "execution_count": 48,
     "metadata": {},
     "output_type": "execute_result"
    }
   ],
   "source": [
    "pip_versions = pd.read_sql(f\"\"\"\n",
    "    SELECT installer_version, COUNT(*) c\n",
    "    FROM searches\n",
    "    WHERE accessed_at BETWEEN '{start_time}' AND '{end_time}'\n",
    "    AND installer_name = 'pip'\n",
    "    AND installer_version is not null\n",
    "    GROUP BY installer_version\n",
    "    ORDER BY c DESC\n",
    "\"\"\", conn)\n",
    "\n",
    "pip_versions[:10]"
   ]
  },
  {
   "cell_type": "code",
   "execution_count": 49,
   "metadata": {},
   "outputs": [
    {
     "data": {
      "image/png": "[encoded data removed]",
      "text/plain": [
       "<Figure size 720x432 with 1 Axes>"
      ]
     },
     "metadata": {},
     "output_type": "display_data"
    }
   ],
   "source": [
    "total = sum(v[1] for v in pip_versions.values)\n",
    "labels = [v[0] if v[1] / total > 0.01 else '' for v in pip_versions.values]\n",
    "\n",
    "plt.pie(pip_versions.c, labels=labels)\n",
    "plt.title('pip version usage')\n",
    "\n",
    "plt.savefig('pip-vers.png')\n",
    "\n",
    "plt.show()"
   ]
  },
  {
   "cell_type": "code",
   "execution_count": 50,
   "metadata": {},
   "outputs": [
    {
     "data": {
      "text/html": [
       "<div>\n",
       "<style scoped>\n",
       "    .dataframe tbody tr th:only-of-type {\n",
       "        vertical-align: middle;\n",
       "    }\n",
       "\n",
       "    .dataframe tbody tr th {\n",
       "        vertical-align: top;\n",
       "    }\n",
       "\n",
       "    .dataframe thead th {\n",
       "        text-align: right;\n",
       "    }\n",
       "</style>\n",
       "<table border=\"1\" class=\"dataframe\">\n",
       "  <thead>\n",
       "    <tr style=\"text-align: right;\">\n",
       "      <th></th>\n",
       "      <th>setuptools_version</th>\n",
       "      <th>c</th>\n",
       "    </tr>\n",
       "  </thead>\n",
       "  <tbody>\n",
       "    <tr>\n",
       "      <th>0</th>\n",
       "      <td>40.8.0</td>\n",
       "      <td>22903281</td>\n",
       "    </tr>\n",
       "    <tr>\n",
       "      <th>1</th>\n",
       "      <td>52.0.0</td>\n",
       "      <td>10143091</td>\n",
       "    </tr>\n",
       "    <tr>\n",
       "      <th>2</th>\n",
       "      <td>40.7.1</td>\n",
       "      <td>2227188</td>\n",
       "    </tr>\n",
       "    <tr>\n",
       "      <th>3</th>\n",
       "      <td>44.1.1</td>\n",
       "      <td>2039706</td>\n",
       "    </tr>\n",
       "    <tr>\n",
       "      <th>4</th>\n",
       "      <td>57.5.0</td>\n",
       "      <td>2018108</td>\n",
       "    </tr>\n",
       "    <tr>\n",
       "      <th>5</th>\n",
       "      <td>51.1.2</td>\n",
       "      <td>1965447</td>\n",
       "    </tr>\n",
       "    <tr>\n",
       "      <th>6</th>\n",
       "      <td>58.2.0</td>\n",
       "      <td>1476916</td>\n",
       "    </tr>\n",
       "    <tr>\n",
       "      <th>7</th>\n",
       "      <td>41.5.1</td>\n",
       "      <td>1014471</td>\n",
       "    </tr>\n",
       "    <tr>\n",
       "      <th>8</th>\n",
       "      <td>58.3.0</td>\n",
       "      <td>1002916</td>\n",
       "    </tr>\n",
       "    <tr>\n",
       "      <th>9</th>\n",
       "      <td>57.4.0</td>\n",
       "      <td>986075</td>\n",
       "    </tr>\n",
       "  </tbody>\n",
       "</table>\n",
       "</div>"
      ],
      "text/plain": [
       "  setuptools_version         c\n",
       "0             40.8.0  22903281\n",
       "1             52.0.0  10143091\n",
       "2             40.7.1   2227188\n",
       "3             44.1.1   2039706\n",
       "4             57.5.0   2018108\n",
       "5             51.1.2   1965447\n",
       "6             58.2.0   1476916\n",
       "7             41.5.1   1014471\n",
       "8             58.3.0   1002916\n",
       "9             57.4.0    986075"
      ]
     },
     "execution_count": 50,
     "metadata": {},
     "output_type": "execute_result"
    }
   ],
   "source": [
    "setuptools_versions = pd.read_sql(f\"\"\"\n",
    "    SELECT setuptools_version, COUNT(*) c\n",
    "    FROM searches\n",
    "    WHERE accessed_at BETWEEN '{start_time}' AND '{end_time}'\n",
    "    AND installer_name = 'pip'\n",
    "    AND setuptools_version is not null\n",
    "    GROUP BY setuptools_version\n",
    "    ORDER BY c DESC\n",
    "\"\"\", conn)\n",
    "\n",
    "setuptools_versions[:10]"
   ]
  },
  {
   "cell_type": "code",
   "execution_count": 51,
   "metadata": {},
   "outputs": [
    {
     "data": {
      "image/png": "[encoded data removed]",
      "text/plain": [
       "<Figure size 720x432 with 1 Axes>"
      ]
     },
     "metadata": {},
     "output_type": "display_data"
    }
   ],
   "source": [
    "total = sum(v[1] for v in setuptools_versions.values)\n",
    "labels = [v[0] if v[1] / total > 0.03 else '' for v in setuptools_versions.values]\n",
    "\n",
    "plt.pie(setuptools_versions.c, labels=labels)\n",
    "plt.title('setuptools version usage')\n",
    "\n",
    "plt.savefig('setuptools-vers.png')\n",
    "\n",
    "plt.show()"
   ]
  },
  {
   "cell_type": "code",
   "execution_count": 52,
   "metadata": {},
   "outputs": [],
   "source": [
    "import csv\n",
    "from glob import glob\n",
    "from collections import defaultdict"
   ]
  },
  {
   "cell_type": "code",
   "execution_count": 53,
   "metadata": {},
   "outputs": [],
   "source": [
    "ONE_TB = 1e12\n",
    "months = (\n",
    "    '202007', '202008', '202009', '202010', '202011', '202012',\n",
    "    '202101', '202102', '202103', '202104', '202105', '202106', '202107', '202108', '202109', '202110', '202111', '202112'\n",
    ")\n",
    "\n",
    "bandwidth = {}\n",
    "bandwidth_totals = defaultdict(int)\n",
    "for month in months:\n",
    "    bandwidth[month] = defaultdict(int)\n",
    "    files = glob('/home/ben/piwheels-logs/' + month + '/*-sizes.csv')\n",
    "    for file in files:\n",
    "        with open(file) as f:\n",
    "            r = csv.reader(f)\n",
    "            for log_type, count in r:\n",
    "                bandwidth[month][log_type] += int(count)\n",
    "                bandwidth_totals[month] += int(count) / ONE_TB"
   ]
  },
  {
   "cell_type": "code",
   "execution_count": 54,
   "metadata": {},
   "outputs": [
    {
     "name": "stdout",
     "output_type": "stream",
     "text": [
      "202007 3.92 TB\n",
      "202008 6.38 TB\n",
      "202009 6.27 TB\n",
      "202010 6.58 TB\n",
      "202011 4.43 TB\n",
      "202012 3.32 TB\n",
      "202101 3.79 TB\n",
      "202102 5.87 TB\n",
      "202103 7.07 TB\n",
      "202104 5.35 TB\n",
      "202105 4.82 TB\n",
      "202106 4.72 TB\n",
      "202107 4.02 TB\n",
      "202108 4.29 TB\n",
      "202109 3.91 TB\n",
      "202110 5.19 TB\n",
      "202111 5.54 TB\n",
      "202112 5.10 TB\n"
     ]
    }
   ],
   "source": [
    "for month, data in bandwidth_totals.items():\n",
    "    print(month, f'{data:.2f} TB')"
   ]
  },
  {
   "cell_type": "code",
   "execution_count": 55,
   "metadata": {},
   "outputs": [
    {
     "data": {
      "text/plain": [
       "{'pip downloads': 12651816367109,\n",
       " 'Misc': 2770343186807,\n",
       " 'Searches': 393180853502,\n",
       " '': 14604015185}"
      ]
     },
     "execution_count": 55,
     "metadata": {},
     "output_type": "execute_result"
    }
   ],
   "source": [
    "m1, m2, m3 = months[-3:]\n",
    "\n",
    "bandwidth_in_period = {\n",
    "    'pip downloads': bandwidth[m1]['LOGDOWNLOAD'] + bandwidth[m2]['LOGDOWNLOAD'] + bandwidth[m3]['LOGDOWNLOAD'],\n",
    "    'Misc': bandwidth[m1]['OTHER'] + bandwidth[m2]['OTHER'] + bandwidth[m3]['OTHER'],\n",
    "    'Searches': bandwidth[m1]['LOGSEARCH'] + bandwidth[m2]['LOGSEARCH'] + bandwidth[m3]['LOGSEARCH'],\n",
    "    '': (\n",
    "        bandwidth[m1]['LOGPROJECT'] + bandwidth[m2]['LOGPROJECT'] + bandwidth[m3]['LOGPROJECT'] +\n",
    "        bandwidth[m1]['LOGJSON'] + bandwidth[m2]['LOGJSON'] + bandwidth[m3]['LOGJSON'] +\n",
    "        bandwidth[m1]['LOGPAGE'] + bandwidth[m2]['LOGPAGE'] + bandwidth[m3]['LOGPAGE']\n",
    "    ),\n",
    "}\n",
    "\n",
    "bandwidth_in_period"
   ]
  },
  {
   "cell_type": "code",
   "execution_count": 56,
   "metadata": {},
   "outputs": [
    {
     "data": {
      "image/png": "[encoded data removed]",
      "text/plain": [
       "<Figure size 720x432 with 1 Axes>"
      ]
     },
     "metadata": {},
     "output_type": "display_data"
    }
   ],
   "source": [
    "plt.pie(bandwidth_in_period.values(), labels=bandwidth_in_period.keys())\n",
    "plt.title('Bandwidth breakdown')\n",
    "\n",
    "plt.savefig('bandwidth.png')\n",
    "\n",
    "plt.show()"
   ]
  },
  {
   "cell_type": "code",
   "execution_count": 57,
   "metadata": {},
   "outputs": [
    {
     "name": "stdout",
     "output_type": "stream",
     "text": [
      "pip downloads 79.92%\n",
      "Misc 17.50%\n",
      "Searches 2.48%\n",
      " 0.09%\n"
     ]
    }
   ],
   "source": [
    "for k, v in bandwidth_in_period.items():\n",
    "    pc = 100 * (v / sum(bandwidth_in_period.values()))\n",
    "    print(k, f'{pc:.2f}%')"
   ]
  },
  {
   "cell_type": "code",
   "execution_count": 59,
   "metadata": {},
   "outputs": [
    {
     "data": {
      "image/png": "[encoded data removed]",
      "text/plain": [
       "<Figure size 720x432 with 1 Axes>"
      ]
     },
     "metadata": {},
     "output_type": "display_data"
    }
   ],
   "source": [
    "bandwidth_by_month = {\n",
    "    'Jan': bandwidth_totals['202101'],\n",
    "    'Feb': bandwidth_totals['202102'],\n",
    "    'Mar': bandwidth_totals['202103'],\n",
    "    'Apr': bandwidth_totals['202104'],\n",
    "    'May': bandwidth_totals['202105'],\n",
    "    'Jun': bandwidth_totals['202106'],\n",
    "    'Jul': bandwidth_totals['202107'],\n",
    "    'Aug': bandwidth_totals['202108'],\n",
    "    'Sep': bandwidth_totals['202109'],\n",
    "    'Oct': bandwidth_totals['202110'],\n",
    "    'Nov': bandwidth_totals['202111'],\n",
    "    'Dec': bandwidth_totals['202112'],\n",
    "}\n",
    "\n",
    "colors = ['blue']*9 + ['red']*3\n",
    "plt.bar(range(len(bandwidth_by_month)), bandwidth_by_month.values(), color=colors)\n",
    "plt.title('Bandwidth by month (TB)')\n",
    "plt.xticks(range(len(bandwidth_by_month)), list(bandwidth_by_month.keys()))\n",
    "\n",
    "plt.savefig('bandwidth-by-month.png')\n",
    "\n",
    "plt.show()"
   ]
  }
 ],
 "metadata": {
  "kernelspec": {
   "display_name": "Python 3",
   "language": "python",
   "name": "python3"
  },
  "language_info": {
   "codemirror_mode": {
    "name": "ipython",
    "version": 3
   },
   "file_extension": ".py",
   "mimetype": "text/x-python",
   "name": "python",
   "nbconvert_exporter": "python",
   "pygments_lexer": "ipython3",
   "version": "3.8.10"
  }
 },
 "nbformat": 4,
 "nbformat_minor": 2
}
