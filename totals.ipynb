{
 "cells": [
  {
   "cell_type": "code",
   "execution_count": 93,
   "metadata": {},
   "outputs": [],
   "source": [
    "%matplotlib inline\n",
    "import matplotlib\n",
    "matplotlib.style.use('ggplot')\n",
    "import matplotlib.pyplot as plt\n",
    "import pandas as pd\n",
    "from sqlalchemy import create_engine, text, MetaData\n",
    "from sqlalchemy.exc import IntegrityError\n",
    "import numpy as np"
   ]
  },
  {
   "cell_type": "code",
   "execution_count": 94,
   "metadata": {},
   "outputs": [],
   "source": [
    "engine = create_engine('postgresql:///piwheels')\n",
    "conn = engine.connect()\n",
    "meta = MetaData()\n",
    "meta.bind = conn\n",
    "meta.reflect(views=True)"
   ]
  },
  {
   "cell_type": "code",
   "execution_count": null,
   "metadata": {},
   "outputs": [],
   "source": [
    "downloads_by_year = pd.read_sql(f\"\"\"\n",
    "    SELECT date_trunc('year', accessed_at) y, COUNT(*) AS c\n",
    "    FROM downloads\n",
    "    WHERE accessed_at > '2000-01-01'\n",
    "    GROUP BY y\n",
    "    ORDER BY y\n",
    "\"\"\", conn)\n",
    "\n",
    "downloads_by_year"
   ]
  },
  {
   "cell_type": "code",
   "execution_count": null,
   "metadata": {},
   "outputs": [],
   "source": [
    "plt.rcParams[\"figure.figsize\"] = (10, 6)\n",
    "\n",
    "years = [y.year for y in downloads_by_year['y']]\n",
    "\n",
    "plt.bar(range(len(downloads_by_year)), downloads_by_year['c'])\n",
    "plt.title('Downloads by year')\n",
    "plt.xticks(range(len(downloads_by_year)), years)\n",
    "\n",
    "plt.savefig('downloads-by-year.png')\n",
    "\n",
    "plt.show()"
   ]
  },
  {
   "cell_type": "code",
   "execution_count": null,
   "metadata": {},
   "outputs": [],
   "source": [
    "downloads_by_month = pd.read_sql(f\"\"\"\n",
    "    SELECT date_trunc('month', accessed_at) m, COUNT(*) AS c\n",
    "    FROM downloads\n",
    "    WHERE accessed_at > '2000-01-01'\n",
    "    GROUP BY m\n",
    "    ORDER BY m\n",
    "\"\"\", conn)"
   ]
  },
  {
   "cell_type": "code",
   "execution_count": null,
   "metadata": {},
   "outputs": [],
   "source": [
    "plt.rcParams[\"figure.figsize\"] = (16, 6)\n",
    "\n",
    "months = [m.month_name()[:1] for m in downloads_by_month['m']]\n",
    "downloads = [c for c in downloads_by_month['c']]\n",
    "\n",
    "plt.bar(range(len(months)), downloads)\n",
    "plt.title('Downloads by month')\n",
    "plt.xticks(range(len(months)), months)\n",
    "\n",
    "plt.savefig('downloads-by-month.png')\n",
    "\n",
    "plt.show()"
   ]
  },
  {
   "cell_type": "code",
   "execution_count": 7,
   "metadata": {},
   "outputs": [],
   "source": [
    "def get_py_minor_ver(ver):\n",
    "    parts = ver.split('.')\n",
    "    return '.'.join(parts[:2])"
   ]
  },
  {
   "cell_type": "code",
   "execution_count": 66,
   "metadata": {},
   "outputs": [],
   "source": [
    "from collections import defaultdict\n",
    "\n",
    "def group_by_py_minor_ver(py_vers):\n",
    "    versions = defaultdict(int)\n",
    "    for index, row in py_vers.iterrows():\n",
    "        v = get_py_minor_ver(row['pyver'])\n",
    "        versions[v] += row['c']\n",
    "    return versions"
   ]
  },
  {
   "cell_type": "code",
   "execution_count": 65,
   "metadata": {},
   "outputs": [],
   "source": [
    "def get_python_versions_from_searches(year, month):\n",
    "    if month < 10:\n",
    "        month = f'0{month}'\n",
    "    results = pd.read_sql(f\"\"\"\n",
    "        SELECT py_version pyver, count(*) c\n",
    "        FROM searches\n",
    "        WHERE date_trunc('month', accessed_at) = '{year}-{month}-01'\n",
    "        AND os_name = 'Linux'\n",
    "        AND distro_name in ('Raspbian GNU/Linux', 'Debian GNU/Linux')\n",
    "        AND py_name = 'CPython'\n",
    "        GROUP BY pyver\n",
    "    \"\"\", conn)\n",
    "    return group_by_py_minor_ver(results)"
   ]
  },
  {
   "cell_type": "code",
   "execution_count": 90,
   "metadata": {},
   "outputs": [],
   "source": [
    "def get_python_versions_from_downloads(year, month):\n",
    "    if month < 10:\n",
    "        month = f'0{month}'\n",
    "    results = pd.read_sql(f\"\"\"\n",
    "        SELECT py_version pyver, count(*) c\n",
    "        FROM downloads\n",
    "        WHERE date_trunc('month', accessed_at) = '{year}-{month}-01'\n",
    "        AND os_name = 'Linux'\n",
    "        AND distro_name in ('Raspbian GNU/Linux', 'Debian GNU/Linux')\n",
    "        AND py_name = 'CPython'\n",
    "        GROUP BY pyver\n",
    "    \"\"\", conn)\n",
    "    return group_by_py_minor_ver(results)"
   ]
  },
  {
   "cell_type": "code",
   "execution_count": 71,
   "metadata": {},
   "outputs": [],
   "source": [
    "months = (\n",
    "    [(2019, m) for m in range(6, 13)] +\n",
    "    [(2020, m) for m in range(1, 13)] +\n",
    "    [(2021, m) for m in range(1, 11)]\n",
    ")"
   ]
  },
  {
   "cell_type": "code",
   "execution_count": 23,
   "metadata": {},
   "outputs": [],
   "source": [
    "py_vers = [((year, month), get_python_versions_from_searches(year, month)) for year, month in months]"
   ]
  },
  {
   "cell_type": "code",
   "execution_count": 101,
   "metadata": {},
   "outputs": [],
   "source": [
    "months = (\n",
    "    [(2017, 12)] +\n",
    "    [(2018, m) for m in range(1, 13)] +\n",
    "    [(2019, m) for m in range(1, 13)] +\n",
    "    [(2020, m) for m in range(1, 13)] +\n",
    "    [(2021, m) for m in range(1, 11)]\n",
    ")\n",
    "\n",
    "py_vers_dl = [((year, month), get_python_versions_from_downloads(year, month)) for year, month in months]"
   ]
  },
  {
   "cell_type": "code",
   "execution_count": 34,
   "metadata": {},
   "outputs": [],
   "source": [
    "import json\n",
    "\n",
    "with open('py_vers2.json', 'w') as f:\n",
    "    json.dump(py_vers, f)"
   ]
  },
  {
   "cell_type": "code",
   "execution_count": 102,
   "metadata": {},
   "outputs": [],
   "source": [
    "data = {\n",
    "    '2.7': [],\n",
    "    '3.4': [],\n",
    "    '3.5': [],\n",
    "    '3.7': [],\n",
    "    '3.9': [],\n",
    "}\n",
    "for ym, vers in py_vers_dl:\n",
    "    total = sum(vers[v] for v in data)\n",
    "    for v in data:\n",
    "        data[v].append(round(100*vers[v] / total, 2))"
   ]
  },
  {
   "cell_type": "code",
   "execution_count": 107,
   "metadata": {},
   "outputs": [
    {
     "data": {
      "image/png": "[encoded data removed]",
      "text/plain": [
       "<Figure size 1152x432 with 1 Axes>"
      ]
     },
     "metadata": {},
     "output_type": "display_data"
    }
   ],
   "source": [
    "plt.rcParams[\"figure.figsize\"] = (16, 6)\n",
    "\n",
    "colors = ['#003f5c', '#58508d', '#bc5090', '#ff6361', '#ffa600']\n",
    "\n",
    "fig, ax = plt.subplots()\n",
    "ax.stackplot([f'{y}-{m}' for y, m in months], data.values(), labels=data.keys(), colors=colors)\n",
    "plt.xticks(rotation=-90)\n",
    "ax.legend(loc='upper left')\n",
    "ax.set_title('Python version usage over time')\n",
    "ax.set_xlabel('Year/month')\n",
    "ax.set_ylabel('%')\n",
    "plt.savefig('pyvers-time.png')\n",
    "plt.show()"
   ]
  },
  {
   "cell_type": "code",
   "execution_count": null,
   "metadata": {},
   "outputs": [],
   "source": []
  }
 ],
 "metadata": {
  "kernelspec": {
   "display_name": "Python 3",
   "language": "python",
   "name": "python3"
  },
  "language_info": {
   "codemirror_mode": {
    "name": "ipython",
    "version": 3
   },
   "file_extension": ".py",
   "mimetype": "text/x-python",
   "name": "python",
   "nbconvert_exporter": "python",
   "pygments_lexer": "ipython3",
   "version": "3.8.10"
  }
 },
 "nbformat": 4,
 "nbformat_minor": 2
}
